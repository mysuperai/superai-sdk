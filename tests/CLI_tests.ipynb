{
 "cells": [
  {
   "cell_type": "code",
   "execution_count": 1,
   "metadata": {},
   "outputs": [
    {
     "data": {
      "text/plain": [
       "{'id': 1,\n",
       " 'template_id': 1,\n",
       " 'inputs': [{'image': 0}, {'image': 1}, {'image': 2}, {'image': 3}],\n",
       " 'outputs': None,\n",
       " 'status': 'QUEUED'}"
      ]
     },
     "execution_count": 1,
     "metadata": {},
     "output_type": "execute_result"
    }
   ],
   "source": [
    "from superai import DataProgram\n",
    "# from superai.datasets import MNIST\n",
    "\n",
    "#create a data program\n",
    "dp_definition = {\n",
    "    \"input_schema\": {\"image\": {\"type\":\"image\"}},\n",
    "    \"output_schema\": {\"choice\": {\"type\":\"single-choice\", \"choices\":[0,1,2,3,4,5,6,7,8,9]}},\n",
    "}\n",
    "dp_template = DataProgram(dp_definition=dp_definition)\n",
    "\n",
    "# # build, run, return outputs, and train models\n",
    "# inputs = [{\"image\":d[\"input\"]} for d in MNIST]\n",
    "inputs = [{\"image\":i} for i in range(4)]\n",
    "labels = dp_template.label(inputs=inputs)\n",
    "labels"
   ]
  },
  {
   "cell_type": "code",
   "execution_count": 1,
   "metadata": {},
   "outputs": [
    {
     "data": {
      "text/plain": [
       "{'id': 4,\n",
       " 'instance_id': 6,\n",
       " 'inputs': [{'image': 0}, {'image': 1}, {'image': 2}, {'image': 3}],\n",
       " 'outputs': None,\n",
       " 'status': 'COMPLETE'}"
      ]
     },
     "execution_count": 1,
     "metadata": {},
     "output_type": "execute_result"
    }
   ],
   "source": [
    "from superai import DataProgram\n",
    "# from superai.datasets import MNIST\n",
    "\n",
    "#create a data program\n",
    "dp_definition = {\n",
    "    \"input_schema\": {\"image\": {\"type\":\"image\"}},\n",
    "    \"output_schema\": {\"choice\": {\"type\":\"single-choice\", \"choices\":[0,1,2,3,4,5,6,7,8,9]}},\n",
    "}\n",
    "dp_template = DataProgram(dp_definition=dp_definition)\n",
    "\n",
    "dp_instance = dp_template(instructions=\"hi\", quality={\"f1\":.9})\n",
    "\n",
    "# # build, run, return outputs, and train models\n",
    "# inputs = [{\"image\":d[\"input\"]} for d in MNIST]\n",
    "inputs = [{\"image\":i} for i in range(4)]\n",
    "labels = dp_instance.label(inputs=inputs)\n",
    "labels"
   ]
  },
  {
   "cell_type": "code",
   "execution_count": null,
   "metadata": {},
   "outputs": [],
   "source": []
  },
  {
   "cell_type": "code",
   "execution_count": null,
   "metadata": {},
   "outputs": [],
   "source": []
  },
  {
   "cell_type": "code",
   "execution_count": null,
   "metadata": {},
   "outputs": [],
   "source": []
  },
  {
   "cell_type": "code",
   "execution_count": 21,
   "metadata": {},
   "outputs": [],
   "source": [
    "from abc import ABC, abstractmethod\n",
    "\n",
    "class TemplateMixin(ABC):\n",
    "    def __init__(self):\n",
    "        print(\"template\")\n",
    "        self.a = \"template\"\n",
    "    \n",
    "    def label(self, inputs):\n",
    "        print(f\"template label {inputs}\")\n",
    "        \n",
    "    @abstractmethod\n",
    "    def _request(self):\n",
    "        pass\n",
    "\n",
    "class InstanceMixin(ABC):\n",
    "    def __init__(self):\n",
    "        print(\"instance init\")\n",
    "        \n",
    "    def __call__(self):\n",
    "        print(f\"template call\")\n",
    "        obj = InstanceMixin()\n",
    "        return obj\n",
    "    \n",
    "    def label(self, inputs):\n",
    "        super(InstanceMixin, self).label()\n",
    "        print(f\"instance label {inputs}\")\n",
    "        \n",
    "    @abstractmethod\n",
    "    def _request(self):\n",
    "        pass\n",
    "\n",
    "class DataProgram(TemplateMixin, InstanceMixin):\n",
    "    def _request(self):\n",
    "        print(\"request\")"
   ]
  },
  {
   "cell_type": "code",
   "execution_count": 22,
   "metadata": {},
   "outputs": [
    {
     "name": "stdout",
     "output_type": "stream",
     "text": [
      "template\n",
      "template call\n"
     ]
    },
    {
     "ename": "TypeError",
     "evalue": "Can't instantiate abstract class InstanceMixin with abstract methods _request",
     "output_type": "error",
     "traceback": [
      "\u001b[0;31m---------------------------------------------------------------------------\u001b[0m",
      "\u001b[0;31mTypeError\u001b[0m                                 Traceback (most recent call last)",
      "\u001b[0;32m<ipython-input-22-47cf61f00217>\u001b[0m in \u001b[0;36m<module>\u001b[0;34m\u001b[0m\n\u001b[1;32m      1\u001b[0m \u001b[0mtemplate\u001b[0m \u001b[0;34m=\u001b[0m \u001b[0mDataProgram\u001b[0m\u001b[0;34m(\u001b[0m\u001b[0;34m)\u001b[0m\u001b[0;34m\u001b[0m\u001b[0;34m\u001b[0m\u001b[0m\n\u001b[0;32m----> 2\u001b[0;31m \u001b[0minstance\u001b[0m \u001b[0;34m=\u001b[0m \u001b[0mtemplate\u001b[0m\u001b[0;34m(\u001b[0m\u001b[0;34m)\u001b[0m\u001b[0;34m\u001b[0m\u001b[0;34m\u001b[0m\u001b[0m\n\u001b[0m\u001b[1;32m      3\u001b[0m \u001b[0minstance\u001b[0m\u001b[0;34m.\u001b[0m\u001b[0mlabel\u001b[0m\u001b[0;34m(\u001b[0m\u001b[0;34m[\u001b[0m\u001b[0;36m1\u001b[0m\u001b[0;34m,\u001b[0m\u001b[0;36m2\u001b[0m\u001b[0;34m]\u001b[0m\u001b[0;34m)\u001b[0m\u001b[0;34m\u001b[0m\u001b[0;34m\u001b[0m\u001b[0m\n",
      "\u001b[0;32m<ipython-input-21-c9ea88c706c7>\u001b[0m in \u001b[0;36m__call__\u001b[0;34m(self)\u001b[0m\n\u001b[1;32m     19\u001b[0m     \u001b[0;32mdef\u001b[0m \u001b[0m__call__\u001b[0m\u001b[0;34m(\u001b[0m\u001b[0mself\u001b[0m\u001b[0;34m)\u001b[0m\u001b[0;34m:\u001b[0m\u001b[0;34m\u001b[0m\u001b[0;34m\u001b[0m\u001b[0m\n\u001b[1;32m     20\u001b[0m         \u001b[0mprint\u001b[0m\u001b[0;34m(\u001b[0m\u001b[0;34mf\"template call\"\u001b[0m\u001b[0;34m)\u001b[0m\u001b[0;34m\u001b[0m\u001b[0;34m\u001b[0m\u001b[0m\n\u001b[0;32m---> 21\u001b[0;31m         \u001b[0mobj\u001b[0m \u001b[0;34m=\u001b[0m \u001b[0mInstanceMixin\u001b[0m\u001b[0;34m(\u001b[0m\u001b[0;34m)\u001b[0m\u001b[0;34m\u001b[0m\u001b[0;34m\u001b[0m\u001b[0m\n\u001b[0m\u001b[1;32m     22\u001b[0m         \u001b[0;32mreturn\u001b[0m \u001b[0mobj\u001b[0m\u001b[0;34m\u001b[0m\u001b[0;34m\u001b[0m\u001b[0m\n\u001b[1;32m     23\u001b[0m \u001b[0;34m\u001b[0m\u001b[0m\n",
      "\u001b[0;31mTypeError\u001b[0m: Can't instantiate abstract class InstanceMixin with abstract methods _request"
     ]
    }
   ],
   "source": [
    "template = DataProgram()\n",
    "instance = template()\n",
    "instance.label([1,2])"
   ]
  },
  {
   "cell_type": "code",
   "execution_count": 11,
   "metadata": {},
   "outputs": [
    {
     "data": {
      "text/plain": [
       "'instance'"
      ]
     },
     "execution_count": 11,
     "metadata": {},
     "output_type": "execute_result"
    }
   ],
   "source": [
    "instance.a"
   ]
  },
  {
   "cell_type": "code",
   "execution_count": 12,
   "metadata": {},
   "outputs": [
    {
     "data": {
      "text/plain": [
       "'instance'"
      ]
     },
     "execution_count": 12,
     "metadata": {},
     "output_type": "execute_result"
    }
   ],
   "source": [
    "template.a"
   ]
  },
  {
   "cell_type": "code",
   "execution_count": 25,
   "metadata": {},
   "outputs": [
    {
     "name": "stdout",
     "output_type": "stream",
     "text": [
      "template label [1, 2]\n",
      "template label [1, 2]\n",
      "template label [1, 2]\n"
     ]
    }
   ],
   "source": [
    "template.label([1,2])\n",
    "instance.label([1,2])\n",
    "template.label([1,2])"
   ]
  },
  {
   "cell_type": "code",
   "execution_count": null,
   "metadata": {},
   "outputs": [],
   "source": []
  }
 ],
 "metadata": {
  "kernelspec": {
   "display_name": "Python 3",
   "language": "python",
   "name": "python3"
  },
  "language_info": {
   "codemirror_mode": {
    "name": "ipython",
    "version": 3
   },
   "file_extension": ".py",
   "mimetype": "text/x-python",
   "name": "python",
   "nbconvert_exporter": "python",
   "pygments_lexer": "ipython3",
   "version": "3.8.3"
  }
 },
 "nbformat": 4,
 "nbformat_minor": 4
}
