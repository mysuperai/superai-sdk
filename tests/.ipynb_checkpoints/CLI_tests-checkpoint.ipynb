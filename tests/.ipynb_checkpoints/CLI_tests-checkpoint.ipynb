{
 "cells": [
  {
   "cell_type": "code",
   "execution_count": 1,
   "metadata": {},
   "outputs": [
    {
     "data": {
      "text/plain": [
       "{'id': 1,\n",
       " 'template_id': 1,\n",
       " 'inputs': [{'image': 0}, {'image': 1}, {'image': 2}, {'image': 3}],\n",
       " 'outputs': None,\n",
       " 'status': 'QUEUED'}"
      ]
     },
     "execution_count": 1,
     "metadata": {},
     "output_type": "execute_result"
    }
   ],
   "source": [
    "from superai import DataProgram\n",
    "# from superai.datasets import MNIST\n",
    "\n",
    "#create a data program\n",
    "dp_definition = {\n",
    "    \"input_schema\": {\"image\": {\"type\":\"image\"}},\n",
    "    \"output_schema\": {\"choice\": {\"type\":\"single-choice\", \"choices\":[0,1,2,3,4,5,6,7,8,9]}},\n",
    "}\n",
    "dp_template = DataProgram(dp_definition=dp_definition)\n",
    "\n",
    "# # build, run, return outputs, and train models\n",
    "# inputs = [{\"image\":d[\"input\"]} for d in MNIST]\n",
    "inputs = [{\"image\":i} for i in range(4)]\n",
    "labels = dp_template.label(inputs=inputs)\n",
    "labels"
   ]
  },
  {
   "cell_type": "code",
   "execution_count": 3,
   "metadata": {},
   "outputs": [],
   "source": [
    "from superai import DataProgram\n",
    "# from superai.datasets import MNIST\n",
    "\n",
    "#create a data program\n",
    "dp_definition = {\n",
    "    \"input_schema\": {\"image\": {\"type\":\"image\"}},\n",
    "    \"output_schema\": {\"choice\": {\"type\":\"single-choice\", \"choices\":[0,1,2,3,4,5,6,7,8,9]}},\n",
    "}\n",
    "dp_template = DataProgram(dp_definition=dp_definition)\n",
    "\n",
    "dp_instance = dp_template(instructions=\"hi\", quality={\"f1\":.9})\n",
    "\n",
    "# # build, run, return outputs, and train models\n",
    "# inputs = [{\"image\":d[\"input\"]} for d in MNIST]\n",
    "inputs = [{\"image\":i} for i in range(4)]\n",
    "labels = dp_instance.label(inputs=inputs)\n",
    "labels"
   ]
  },
  {
   "cell_type": "code",
   "execution_count": null,
   "metadata": {},
   "outputs": [],
   "source": []
  }
 ],
 "metadata": {
  "kernelspec": {
   "display_name": "Python 3",
   "language": "python",
   "name": "python3"
  },
  "language_info": {
   "codemirror_mode": {
    "name": "ipython",
    "version": 3
   },
   "file_extension": ".py",
   "mimetype": "text/x-python",
   "name": "python",
   "nbconvert_exporter": "python",
   "pygments_lexer": "ipython3",
   "version": "3.8.3"
  }
 },
 "nbformat": 4,
 "nbformat_minor": 4
}
