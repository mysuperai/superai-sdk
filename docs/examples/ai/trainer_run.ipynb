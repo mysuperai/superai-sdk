{
 "cells": [
  {
   "cell_type": "markdown",
   "metadata": {},
   "source": [
    "# Training Process\n",
    "This run has an example of running a training job\n",
    "\n",
    "1. Creating AI template and instance"
   ]
  },
  {
   "cell_type": "code",
   "execution_count": 1,
   "metadata": {},
   "outputs": [],
   "source": [
    "import os.path\n",
    "import shutil\n",
    "\n",
    "from superai.meta_ai.ai import AITemplate, AI, TrainingOrchestrator\n",
    "from superai.meta_ai.parameters import Config\n",
    "from superai.meta_ai.schema import Schema"
   ]
  },
  {
   "cell_type": "code",
   "execution_count": 2,
   "metadata": {
    "pycharm": {
     "name": "#%%\n"
    }
   },
   "outputs": [],
   "source": [
    "if os.path.exists(\".AISave\"):\n",
    "    shutil.rmtree(\".AISave\")"
   ]
  },
  {
   "cell_type": "code",
   "execution_count": 3,
   "metadata": {
    "pycharm": {
     "name": "#%%\n"
    }
   },
   "outputs": [
    {
     "data": {
      "text/html": [
       "<pre style=\"white-space:pre;overflow-x:auto;line-height:normal;font-family:Menlo,'DejaVu Sans Mono',consolas,'Courier New',monospace\"><span style=\"color: #7fbfbf; text-decoration-color: #7fbfbf\">[02/18/22 12:28:22] </span><span style=\"color: #000080; text-decoration-color: #000080\">INFO    </span> Copying all code_path content - MainThread             <a href=\"file:///Users/ankitmishra/Work/mysuperai/superai-sdk-private/superai/meta_ai/ai.py\"><span style=\"color: #7f7f7f; text-decoration-color: #7f7f7f\">ai.py</span></a><span style=\"color: #7f7f7f; text-decoration-color: #7f7f7f\">:264</span>\n",
       "</pre>\n"
      ],
      "text/plain": [
       "\u001B[2;36m[02/18/22 12:28:22]\u001B[0m\u001B[2;36m \u001B[0m\u001B[34mINFO    \u001B[0m Copying all code_path content - MainThread             \u001B]8;id=1645183702.260383-349406;file:///Users/ankitmishra/Work/mysuperai/superai-sdk-private/superai/meta_ai/ai.py\u001B\\\u001B[2mai.py\u001B[0m\u001B]8;;\u001B\\\u001B[2m:264\u001B[0m\n"
      ]
     },
     "metadata": {},
     "output_type": "display_data"
    },
    {
     "data": {
      "text/html": [
       "<pre style=\"white-space:pre;overflow-x:auto;line-height:normal;font-family:Menlo,'DejaVu Sans Mono',consolas,'Courier New',monospace\"><span style=\"color: #7fbfbf; text-decoration-color: #7fbfbf\">                    </span><span style=\"color: #000080; text-decoration-color: #000080\">INFO    </span> Saved model in .AISave/mnist_training/<span style=\"color: #008080; text-decoration-color: #008080; font-weight: bold\">1</span> - MainThread   <a href=\"file:///Users/ankitmishra/Work/mysuperai/superai-sdk-private/superai/meta_ai/ai.py\"><span style=\"color: #7f7f7f; text-decoration-color: #7f7f7f\">ai.py</span></a><span style=\"color: #7f7f7f; text-decoration-color: #7f7f7f\">:833</span>\n",
       "</pre>\n"
      ],
      "text/plain": [
       "\u001B[2;36m                   \u001B[0m\u001B[2;36m \u001B[0m\u001B[34mINFO    \u001B[0m Saved model in .AISave/mnist_training/\u001B[1;36m1\u001B[0m - MainThread   \u001B]8;id=1645183702.2701209-733298;file:///Users/ankitmishra/Work/mysuperai/superai-sdk-private/superai/meta_ai/ai.py\u001B\\\u001B[2mai.py\u001B[0m\u001B]8;;\u001B\\\u001B[2m:833\u001B[0m\n"
      ]
     },
     "metadata": {},
     "output_type": "display_data"
    }
   ],
   "source": [
    "template = AITemplate(\n",
    "    input_schema=Schema(),\n",
    "    output_schema=Schema(),\n",
    "    configuration=Config(),\n",
    "    name=\"MnistTrainingTemplate\",\n",
    "    description=\"Template of Sample MNIST training\",\n",
    "    model_class=\"MnistModel\",\n",
    "    requirements=[\"tensorflow-gpu\", \"polyaxon\"],\n",
    "    artifacts={\"run\": \"resources/runDir/run_this.sh\"},\n",
    "    code_path=[\"resources/runDir\"],\n",
    ")\n",
    "ai = AI(\n",
    "    ai_template=template,\n",
    "    input_params=template.input_schema.parameters(),\n",
    "    output_params=template.output_schema.parameters(),\n",
    "    name=\"mnist_training\",\n",
    "    version=1,\n",
    "    description=\"AI instance of sample MNIST training\",\n",
    ")"
   ]
  },
  {
   "cell_type": "markdown",
   "metadata": {},
   "source": [
    "## Create and push training container\n",
    "Use the following interface to create and push the training container.\n",
    "\n",
    "> Note: Later, this interface will contain implementation to connect to meta-ai to create a training job."
   ]
  },
  {
   "cell_type": "code",
   "execution_count": 4,
   "metadata": {
    "pycharm": {
     "name": "#%%\n"
    }
   },
   "outputs": [
    {
     "data": {
      "text/html": [
       "<pre style=\"white-space:pre;overflow-x:auto;line-height:normal;font-family:Menlo,'DejaVu Sans Mono',consolas,'Courier New',monospace\"><span style=\"color: #7fbfbf; text-decoration-color: #7fbfbf\">[02/18/22 12:28:24] </span><span style=\"color: #000080; text-decoration-color: #000080\">INFO    </span> Base image                                            <a href=\"file:///Users/ankitmishra/Work/mysuperai/superai-sdk-private/superai/meta_ai/ai.py\"><span style=\"color: #7f7f7f; text-decoration-color: #7f7f7f\">ai.py</span></a><span style=\"color: #7f7f7f; text-decoration-color: #7f7f7f\">:1208</span>\n",
       "                             <span style=\"color: #008000; text-decoration-color: #008000\">'superai-model-s2i-python3711-gpu-seldon:1'</span> found               \n",
       "                             locally. - MainThread                                           \n",
       "</pre>\n"
      ],
      "text/plain": [
       "\u001B[2;36m[02/18/22 12:28:24]\u001B[0m\u001B[2;36m \u001B[0m\u001B[34mINFO    \u001B[0m Base image                                            \u001B]8;id=1645183704.767591-911529;file:///Users/ankitmishra/Work/mysuperai/superai-sdk-private/superai/meta_ai/ai.py\u001B\\\u001B[2mai.py\u001B[0m\u001B]8;;\u001B\\\u001B[2m:1208\u001B[0m\n",
       "                             \u001B[32m'superai-model-s2i-python3711-gpu-seldon:1'\u001B[0m found               \n",
       "                             locally. - MainThread                                           \n"
      ]
     },
     "metadata": {},
     "output_type": "display_data"
    },
    {
     "data": {
      "text/html": [
       "<pre style=\"white-space:pre;overflow-x:auto;line-height:normal;font-family:Menlo,'DejaVu Sans Mono',consolas,'Courier New',monospace\"><span style=\"color: #7fbfbf; text-decoration-color: #7fbfbf\">                    </span><span style=\"color: #000080; text-decoration-color: #000080\">INFO    </span> No change in pip layer. Reusing old layers from image <a href=\"file:///Users/ankitmishra/Work/mysuperai/superai-sdk-private/superai/meta_ai/ai.py\"><span style=\"color: #7f7f7f; text-decoration-color: #7f7f7f\">ai.py</span></a><span style=\"color: #7f7f7f; text-decoration-color: #7f7f7f\">:1223</span>\n",
       "                             sh<span style=\"color: #00ff00; text-decoration-color: #00ff00; font-weight: bold\">a256:dd35</span>75c4886c6ffff43846efef834b1b4ac955d6941ee6           \n",
       "                             5aa044db256e71abf3<span style=\"color: #808000; text-decoration-color: #808000\">...</span> - MainThread                              \n",
       "</pre>\n"
      ],
      "text/plain": [
       "\u001B[2;36m                   \u001B[0m\u001B[2;36m \u001B[0m\u001B[34mINFO    \u001B[0m No change in pip layer. Reusing old layers from image \u001B]8;id=1645183704.776865-547354;file:///Users/ankitmishra/Work/mysuperai/superai-sdk-private/superai/meta_ai/ai.py\u001B\\\u001B[2mai.py\u001B[0m\u001B]8;;\u001B\\\u001B[2m:1223\u001B[0m\n",
       "                             sh\u001B[1;92ma256:dd35\u001B[0m75c4886c6ffff43846efef834b1b4ac955d6941ee6           \n",
       "                             5aa044db256e71abf3\u001B[33m...\u001B[0m - MainThread                              \n"
      ]
     },
     "metadata": {},
     "output_type": "display_data"
    },
    {
     "data": {
      "text/html": [
       "<pre style=\"white-space:pre;overflow-x:auto;line-height:normal;font-family:Menlo,'DejaVu Sans Mono',consolas,'Courier New',monospace\"><span style=\"color: #7fbfbf; text-decoration-color: #7fbfbf\">                    </span><span style=\"color: #000080; text-decoration-color: #000080\">INFO    </span> Running <span style=\"color: #008000; text-decoration-color: #008000\">'s2i build -E /Users/ankitmishra/Work/mysuper</span> <a href=\"file:///Users/ankitmishra/Work/mysuperai/superai-sdk-private/superai/meta_ai/ai.py\"><span style=\"color: #7f7f7f; text-decoration-color: #7f7f7f\">ai.py</span></a><span style=\"color: #7f7f7f; text-decoration-color: #7f7f7f\">:1303</span>\n",
       "                             <span style=\"color: #008000; text-decoration-color: #008000\">ai/superai-sdk-private/docs/examples/ai/.AISave/mnist</span>           \n",
       "                             <span style=\"color: #008000; text-decoration-color: #008000\">_training/1/environment -v </span>                                     \n",
       "                             <span style=\"color: #008000; text-decoration-color: #008000\">/Users/ankitmishra/.aws:/root/.aws -v </span>                          \n",
       "                             <span style=\"color: #008000; text-decoration-color: #008000\">/Users/ankitmishra/.superai:/root/.superai -v </span>                  \n",
       "                             <span style=\"color: #008000; text-decoration-color: #008000\">/Users/ankitmishra/.canotic:/root/.canotic </span>                     \n",
       "                             <span style=\"color: #008000; text-decoration-color: #008000\">--incremental=True . mnist_training-pip-layer:1 </span>                \n",
       "                             <span style=\"color: #008000; text-decoration-color: #008000\">mnist_training:1'</span> - MainThread                                  \n",
       "</pre>\n"
      ],
      "text/plain": [
       "\u001B[2;36m                   \u001B[0m\u001B[2;36m \u001B[0m\u001B[34mINFO    \u001B[0m Running \u001B[32m's2i build -E /Users/ankitmishra/Work/mysuper\u001B[0m \u001B]8;id=1645183704.78106-476076;file:///Users/ankitmishra/Work/mysuperai/superai-sdk-private/superai/meta_ai/ai.py\u001B\\\u001B[2mai.py\u001B[0m\u001B]8;;\u001B\\\u001B[2m:1303\u001B[0m\n",
       "                             \u001B[32mai/superai-sdk-private/docs/examples/ai/.AISave/mnist\u001B[0m           \n",
       "                             \u001B[32m_training/1/environment -v \u001B[0m                                     \n",
       "                             \u001B[32m/Users/ankitmishra/.aws:/root/.aws -v \u001B[0m                          \n",
       "                             \u001B[32m/Users/ankitmishra/.superai:/root/.superai -v \u001B[0m                  \n",
       "                             \u001B[32m/Users/ankitmishra/.canotic:/root/.canotic \u001B[0m                     \n",
       "                             \u001B[32m--\u001B[0m\u001B[32mincremental\u001B[0m\u001B[32m=\u001B[0m\u001B[32mTrue\u001B[0m\u001B[32m . mnist_training-pip-layer:1 \u001B[0m                \n",
       "                             \u001B[32mmnist_training:1'\u001B[0m - MainThread                                  \n"
      ]
     },
     "metadata": {},
     "output_type": "display_data"
    },
    {
     "data": {
      "text/html": [
       "<pre style=\"white-space:pre;overflow-x:auto;line-height:normal;font-family:Menlo,'DejaVu Sans Mono',consolas,'Courier New',monospace\"><span style=\"color: #7fbfbf; text-decoration-color: #7fbfbf\">[02/18/22 12:28:25] </span><span style=\"color: #000080; text-decoration-color: #000080\">INFO    </span> Built main container `mnist_training:<span style=\"color: #008080; text-decoration-color: #008080; font-weight: bold\">1</span>` - MainThread  <a href=\"file:///Users/ankitmishra/Work/mysuperai/superai-sdk-private/superai/meta_ai/ai.py\"><span style=\"color: #7f7f7f; text-decoration-color: #7f7f7f\">ai.py</span></a><span style=\"color: #7f7f7f; text-decoration-color: #7f7f7f\">:1245</span>\n",
       "</pre>\n"
      ],
      "text/plain": [
       "\u001B[2;36m[02/18/22 12:28:25]\u001B[0m\u001B[2;36m \u001B[0m\u001B[34mINFO    \u001B[0m Built main container `mnist_training:\u001B[1;36m1\u001B[0m` - MainThread  \u001B]8;id=1645183705.9484632-91013;file:///Users/ankitmishra/Work/mysuperai/superai-sdk-private/superai/meta_ai/ai.py\u001B\\\u001B[2mai.py\u001B[0m\u001B]8;;\u001B\\\u001B[2m:1245\u001B[0m\n"
      ]
     },
     "metadata": {},
     "output_type": "display_data"
    },
    {
     "data": {
      "text/html": [
       "<pre style=\"white-space:pre;overflow-x:auto;line-height:normal;font-family:Menlo,'DejaVu Sans Mono',consolas,'Courier New',monospace\"><span style=\"color: #7fbfbf; text-decoration-color: #7fbfbf\">                    </span><span style=\"color: #000080; text-decoration-color: #000080\">INFO    </span> Time taken to build: <span style=\"color: #008080; text-decoration-color: #008080; font-weight: bold\">1.</span>21s - MainThread               <a href=\"file:///Users/ankitmishra/Work/mysuperai/superai-sdk-private/superai/meta_ai/ai.py\"><span style=\"color: #7f7f7f; text-decoration-color: #7f7f7f\">ai.py</span></a><span style=\"color: #7f7f7f; text-decoration-color: #7f7f7f\">:1246</span>\n",
       "</pre>\n"
      ],
      "text/plain": [
       "\u001B[2;36m                   \u001B[0m\u001B[2;36m \u001B[0m\u001B[34mINFO    \u001B[0m Time taken to build: \u001B[1;36m1.\u001B[0m21s - MainThread               \u001B]8;id=1645183705.951343-570269;file:///Users/ankitmishra/Work/mysuperai/superai-sdk-private/superai/meta_ai/ai.py\u001B\\\u001B[2mai.py\u001B[0m\u001B]8;;\u001B\\\u001B[2m:1246\u001B[0m\n"
      ]
     },
     "metadata": {},
     "output_type": "display_data"
    },
    {
     "data": {
      "text/html": [
       "<pre style=\"white-space:pre;overflow-x:auto;line-height:normal;font-family:Menlo,'DejaVu Sans Mono',consolas,'Courier New',monospace\"><span style=\"color: #7fbfbf; text-decoration-color: #7fbfbf\">                    </span><span style=\"color: #000080; text-decoration-color: #000080\">INFO    </span> Found credentials in shared credentials      <a href=\"file:///Users/ankitmishra/miniconda3/envs/superai-sdk/lib/python3.7/site-packages/botocore/credentials.py\"><span style=\"color: #7f7f7f; text-decoration-color: #7f7f7f\">credentials.py</span></a><span style=\"color: #7f7f7f; text-decoration-color: #7f7f7f\">:1217</span>\n",
       "                             file: ~<span style=\"color: #800080; text-decoration-color: #800080\">/.aws/</span><span style=\"color: #ff00ff; text-decoration-color: #ff00ff\">credentials</span> - MainThread                           \n",
       "</pre>\n"
      ],
      "text/plain": [
       "\u001B[2;36m                   \u001B[0m\u001B[2;36m \u001B[0m\u001B[34mINFO    \u001B[0m Found credentials in shared credentials      \u001B]8;id=1645183705.9714649-176689;file:///Users/ankitmishra/miniconda3/envs/superai-sdk/lib/python3.7/site-packages/botocore/credentials.py\u001B\\\u001B[2mcredentials.py\u001B[0m\u001B]8;;\u001B\\\u001B[2m:1217\u001B[0m\n",
       "                             file: ~\u001B[35m/.aws/\u001B[0m\u001B[95mcredentials\u001B[0m - MainThread                           \n"
      ]
     },
     "metadata": {},
     "output_type": "display_data"
    },
    {
     "data": {
      "text/html": [
       "<pre style=\"white-space:pre;overflow-x:auto;line-height:normal;font-family:Menlo,'DejaVu Sans Mono',consolas,'Courier New',monospace\"><span style=\"color: #7fbfbf; text-decoration-color: #7fbfbf\">[02/18/22 12:28:26] </span><span style=\"color: #000080; text-decoration-color: #000080\">INFO    </span> Pushing image to ECR: <span style=\"color: #008080; text-decoration-color: #008080; font-weight: bold\">185169359328.</span>dkr.ecr.us-east- <a href=\"file:///Users/ankitmishra/Work/mysuperai/superai-sdk-private/superai/log/logger.py\"><span style=\"color: #7f7f7f; text-decoration-color: #7f7f7f\">logger.py</span></a><span style=\"color: #7f7f7f; text-decoration-color: #7f7f7f\">:84</span>\n",
       "                             <span style=\"color: #008080; text-decoration-color: #008080; font-weight: bold\">1.</span>amazonaws.com/models/dev/<span style=\"color: #ffff00; text-decoration-color: #ffff00\">daad6583-1fd7-4718-8b12-</span>             \n",
       "                             <span style=\"color: #ffff00; text-decoration-color: #ffff00\">333701894fdb</span>/mnist_training:<span style=\"color: #008080; text-decoration-color: #008080; font-weight: bold\">1</span> - MainThread                      \n",
       "</pre>\n"
      ],
      "text/plain": [
       "\u001B[2;36m[02/18/22 12:28:26]\u001B[0m\u001B[2;36m \u001B[0m\u001B[34mINFO    \u001B[0m Pushing image to ECR: \u001B[1;36m185169359328.\u001B[0mdkr.ecr.us-east- \u001B]8;id=1645183706.930412-675598;file:///Users/ankitmishra/Work/mysuperai/superai-sdk-private/superai/log/logger.py\u001B\\\u001B[2mlogger.py\u001B[0m\u001B]8;;\u001B\\\u001B[2m:84\u001B[0m\n",
       "                             \u001B[1;36m1.\u001B[0mamazonaws.com/models/dev/\u001B[93mdaad6583-1fd7-4718-8b12-\u001B[0m             \n",
       "                             \u001B[93m333701894fdb\u001B[0m/mnist_training:\u001B[1;36m1\u001B[0m - MainThread                      \n"
      ]
     },
     "metadata": {},
     "output_type": "display_data"
    },
    {
     "data": {
      "text/html": [
       "<pre style=\"white-space:pre;overflow-x:auto;line-height:normal;font-family:Menlo,'DejaVu Sans Mono',consolas,'Courier New',monospace\"><span style=\"color: #7fbfbf; text-decoration-color: #7fbfbf\">[02/18/22 12:28:27] </span><span style=\"color: #000080; text-decoration-color: #000080\">INFO    </span> Logging in to ECR<span style=\"color: #808000; text-decoration-color: #808000\">...</span> - MainThread                <a href=\"file:///Users/ankitmishra/Work/mysuperai/superai-sdk-private/superai/meta_ai/dockerizer/__init__.py\"><span style=\"color: #7f7f7f; text-decoration-color: #7f7f7f\">__init__.py</span></a><span style=\"color: #7f7f7f; text-decoration-color: #7f7f7f\">:246</span>\n",
       "</pre>\n"
      ],
      "text/plain": [
       "\u001B[2;36m[02/18/22 12:28:27]\u001B[0m\u001B[2;36m \u001B[0m\u001B[34mINFO    \u001B[0m Logging in to ECR\u001B[33m...\u001B[0m - MainThread                \u001B]8;id=1645183707.434641-493726;file:///Users/ankitmishra/Work/mysuperai/superai-sdk-private/superai/meta_ai/dockerizer/__init__.py\u001B\\\u001B[2m__init__.py\u001B[0m\u001B]8;;\u001B\\\u001B[2m:246\u001B[0m\n"
      ]
     },
     "metadata": {},
     "output_type": "display_data"
    },
    {
     "data": {
      "text/html": [
       "<pre style=\"white-space:pre;overflow-x:auto;line-height:normal;font-family:Menlo,'DejaVu Sans Mono',consolas,'Courier New',monospace\"><span style=\"color: #7fbfbf; text-decoration-color: #7fbfbf\">[02/18/22 12:28:30] </span><span style=\"color: #000080; text-decoration-color: #000080\">INFO    </span> Tagging to `<span style=\"color: #008080; text-decoration-color: #008080; font-weight: bold\">185169359328.</span>dkr.ecr.us-east-<span style=\"color: #008080; text-decoration-color: #008080; font-weight: bold\">1.</span>amazo <a href=\"file:///Users/ankitmishra/Work/mysuperai/superai-sdk-private/superai/meta_ai/dockerizer/__init__.py\"><span style=\"color: #7f7f7f; text-decoration-color: #7f7f7f\">__init__.py</span></a><span style=\"color: #7f7f7f; text-decoration-color: #7f7f7f\">:249</span>\n",
       "                             naws.com/models/dev/<span style=\"color: #ffff00; text-decoration-color: #ffff00\">daad6583-1fd7-4718-8b12-3337</span>                \n",
       "                             <span style=\"color: #ffff00; text-decoration-color: #ffff00\">01894fdb</span>/mnist_training:<span style=\"color: #008080; text-decoration-color: #008080; font-weight: bold\">1</span>` - MainThread                         \n",
       "</pre>\n"
      ],
      "text/plain": [
       "\u001B[2;36m[02/18/22 12:28:30]\u001B[0m\u001B[2;36m \u001B[0m\u001B[34mINFO    \u001B[0m Tagging to `\u001B[1;36m185169359328.\u001B[0mdkr.ecr.us-east-\u001B[1;36m1.\u001B[0mamazo \u001B]8;id=1645183710.224075-238165;file:///Users/ankitmishra/Work/mysuperai/superai-sdk-private/superai/meta_ai/dockerizer/__init__.py\u001B\\\u001B[2m__init__.py\u001B[0m\u001B]8;;\u001B\\\u001B[2m:249\u001B[0m\n",
       "                             naws.com/models/dev/\u001B[93mdaad6583-1fd7-4718-8b12-3337\u001B[0m                \n",
       "                             \u001B[93m01894fdb\u001B[0m/mnist_training:\u001B[1;36m1\u001B[0m` - MainThread                         \n"
      ]
     },
     "metadata": {},
     "output_type": "display_data"
    },
    {
     "data": {
      "text/html": [
       "<pre style=\"white-space:pre;overflow-x:auto;line-height:normal;font-family:Menlo,'DejaVu Sans Mono',consolas,'Courier New',monospace\"><span style=\"color: #7fbfbf; text-decoration-color: #7fbfbf\">                    </span><span style=\"color: #000080; text-decoration-color: #000080\">INFO    </span> Pushing image<span style=\"color: #808000; text-decoration-color: #808000\">...</span> - MainThread                    <a href=\"file:///Users/ankitmishra/Work/mysuperai/superai-sdk-private/superai/meta_ai/dockerizer/__init__.py\"><span style=\"color: #7f7f7f; text-decoration-color: #7f7f7f\">__init__.py</span></a><span style=\"color: #7f7f7f; text-decoration-color: #7f7f7f\">:252</span>\n",
       "</pre>\n"
      ],
      "text/plain": [
       "\u001B[2;36m                   \u001B[0m\u001B[2;36m \u001B[0m\u001B[34mINFO    \u001B[0m Pushing image\u001B[33m...\u001B[0m - MainThread                    \u001B]8;id=1645183710.240448-601983;file:///Users/ankitmishra/Work/mysuperai/superai-sdk-private/superai/meta_ai/dockerizer/__init__.py\u001B\\\u001B[2m__init__.py\u001B[0m\u001B]8;;\u001B\\\u001B[2m:252\u001B[0m\n"
      ]
     },
     "metadata": {},
     "output_type": "display_data"
    },
    {
     "data": {
      "application/vnd.jupyter.widget-view+json": {
       "model_id": "389403ece4804dbb82ca5d4d103a0b74",
       "version_major": 2,
       "version_minor": 0
      },
      "text/plain": [
       "Output()"
      ]
     },
     "metadata": {},
     "output_type": "display_data"
    },
    {
     "data": {
      "text/html": [
       "<pre style=\"white-space:pre;overflow-x:auto;line-height:normal;font-family:Menlo,'DejaVu Sans Mono',consolas,'Courier New',monospace\"><span style=\"color: #7fbfbf; text-decoration-color: #7fbfbf\">[02/18/22 12:28:36] </span><span style=\"color: #000080; text-decoration-color: #000080\">INFO    </span>  Image pushed successfully to <span style=\"color: #008080; text-decoration-color: #008080; font-weight: bold\">185169359328.</span>dkr.e <a href=\"file:///Users/ankitmishra/Work/mysuperai/superai-sdk-private/superai/meta_ai/dockerizer/__init__.py\"><span style=\"color: #7f7f7f; text-decoration-color: #7f7f7f\">__init__.py</span></a><span style=\"color: #7f7f7f; text-decoration-color: #7f7f7f\">:291</span>\n",
       "                             cr.us-east-<span style=\"color: #008080; text-decoration-color: #008080; font-weight: bold\">1.</span>amazonaws.com/models/dev/<span style=\"color: #ffff00; text-decoration-color: #ffff00\">daad6583-1</span>                \n",
       "                             <span style=\"color: #ffff00; text-decoration-color: #ffff00\">fd7-4718-8b12-333701894fdb</span>/mnist_training:<span style=\"color: #008080; text-decoration-color: #008080; font-weight: bold\">1</span>  -                  \n",
       "                             MainThread                                                      \n",
       "</pre>\n"
      ],
      "text/plain": [
       "\u001B[2;36m[02/18/22 12:28:36]\u001B[0m\u001B[2;36m \u001B[0m\u001B[34mINFO    \u001B[0m  Image pushed successfully to \u001B[1;36m185169359328.\u001B[0mdkr.e \u001B]8;id=1645183716.863683-309279;file:///Users/ankitmishra/Work/mysuperai/superai-sdk-private/superai/meta_ai/dockerizer/__init__.py\u001B\\\u001B[2m__init__.py\u001B[0m\u001B]8;;\u001B\\\u001B[2m:291\u001B[0m\n",
       "                             cr.us-east-\u001B[1;36m1.\u001B[0mamazonaws.com/models/dev/\u001B[93mdaad6583-1\u001B[0m                \n",
       "                             \u001B[93mfd7-4718-8b12-333701894fdb\u001B[0m/mnist_training:\u001B[1;36m1\u001B[0m  -                  \n",
       "                             MainThread                                                      \n"
      ]
     },
     "metadata": {},
     "output_type": "display_data"
    }
   ],
   "source": [
    "ai._id = \"DAAD6583-1FD7-4718-8B12-333701894FDB\".lower()\n",
    "\n",
    "ai.training_deploy(orchestrator=TrainingOrchestrator.AWS_EKS, skip_build=False, enable_cuda=True)"
   ]
  },
  {
   "cell_type": "markdown",
   "metadata": {},
   "source": [
    "# Starting training manually\n",
    "To start training manually, in a separate terminal run, `polyaxon port-forward` to connect to Polyaxon API.\n",
    "\n",
    "Then run the following cell\n",
    "> Note: triggering training will be done from meta-ai in the future."
   ]
  },
  {
   "cell_type": "code",
   "execution_count": 5,
   "metadata": {},
   "outputs": [
    {
     "name": "stdout",
     "output_type": "stream",
     "text": [
      "version: 1.1\r\n",
      "kind: component\r\n",
      "tags: [examples, keras]\r\n",
      "\r\n",
      "inputs:\r\n",
      "- {name: conv1_size, type: int, value: 32, isOptional: true}\r\n",
      "- {name: conv2_size, type: int, value: 64, isOptional: true}\r\n",
      "- {name: dropout, type: float, value: 0.8, isOptional: true}\r\n",
      "- {name: hidden1_size, type: int, value: 500, isOptional: true}\r\n",
      "- {name: optimizer, type: str, value: adam, isOptional: true}\r\n",
      "- {name: log_learning_rate, type: int, value: -3, isOptional: true}\r\n",
      "- {name: epochs, type: int, value: 10, isOptional: true}\r\n",
      "\r\n",
      "run:\r\n",
      "  kind: job\r\n",
      "  container:\r\n",
      "    image: 185169359328.dkr.ecr.us-east-1.amazonaws.com/models/dev/daad6583-1fd7-4718-8b12-333701894fdb/mnist_training:1\r\n",
      "#    workingDir: \"{{ globals.artifacts_path }}/polyaxon-examples/in_cluster/keras/mnist\"\r\n",
      "    command: [\"/opt/conda/envs/env/bin/superai\", \"ai\", \"train\"]\r\n",
      "    imagePullPolicy: Always\r\n",
      "    args: [\"-p\", \"/home/model-server/\",\r\n",
      "           \"-tp\",\"/tmp\",\r\n",
      "           \"-mp\",\"/tmp\",\r\n",
      "           \"-m\",\"conv1_size={{ conv1_size }}\",\r\n",
      "           \"-m\",\"conv2_size={{ conv2_size }}\",\r\n",
      "           \"-m\",\"dropout={{ dropout }}\",\r\n",
      "           \"-m\",\"hidden1_size={{ hidden1_size }}\",\r\n",
      "           \"-h\",\"optimizer={{ optimizer }}\",\r\n",
      "           \"-h\",\"log_learning_rate={{ log_learning_rate }}\",\r\n",
      "           \"-h\",\"epochs={{ epochs }}\"]\r\n",
      "    resources:\r\n",
      "      limits:\r\n",
      "        nvidia.com/gpu: 1\r\n",
      "      requests:\r\n",
      "        nvidia.com/gpu: 1"
     ]
    }
   ],
   "source": [
    "!cat polyaxonfile.yaml"
   ]
  },
  {
   "cell_type": "code",
   "execution_count": null,
   "metadata": {
    "pycharm": {
     "name": "#%%\n"
    }
   },
   "outputs": [
    {
     "name": "stdout",
     "output_type": "stream",
     "text": [
      "Creating a new run...\n",
      "\u001B[32mA new run `aa3d02416d554149b3620083348ddd32` was created\u001B[0m\n",
      "You can view this run on Polyaxon UI: http://localhost:8000/ui/default/dev/runs/aa3d02416d554149b3620083348ddd32/\n",
      "[================================] 443605/443605 - 00:00:00\n",
      "\u001B[32mArtifacts uploaded\u001B[0m\n",
      "\u001B[32mRun is approved\u001B[0m\n",
      "\u001B[32mStarting logs for run: <Name: None> - <uuid: aa3d02416d554149b3620083348ddd32>\u001B[0m\n",
      "\u001B[33mwarning\u001B[0m\n",
      "\u001B[33mrunning\u001B[0m\n",
      "\u001B[37m2022-02-18 12:34:38.935113+01:00\u001B[0m | Reading configs from /opt/conda/envs/env/lib/python3.7/site-packages/superai/settings.yaml\n",
      "\u001B[37m2022-02-18 12:34:38.935136+01:00\u001B[0m | Available envs:\n",
      "\u001B[37m2022-02-18 12:34:38.935139+01:00\u001B[0m | - local\n",
      "\u001B[37m2022-02-18 12:34:38.935142+01:00\u001B[0m | - dev\n",
      "\u001B[37m2022-02-18 12:34:38.935145+01:00\u001B[0m | - sandbox\n",
      "\u001B[37m2022-02-18 12:34:38.935148+01:00\u001B[0m | - stg\n",
      "\u001B[37m2022-02-18 12:34:38.935151+01:00\u001B[0m | - prod\n",
      "\u001B[37m2022-02-18 12:34:38.935153+01:00\u001B[0m | Reading configs from /opt/conda/envs/env/lib/python3.7/site-packages/superai/settings.yaml\n",
      "\u001B[37m2022-02-18 12:34:38.935155+01:00\u001B[0m | [02/18/22 11:34:38] INFO     Setting config : prod - MainThread     config.py:88\n",
      "\u001B[37m2022-02-18 12:34:40.403820+01:00\u001B[0m | Starting training from the path /home/model-server/\n",
      "\u001B[37m2022-02-18 12:34:40.406209+01:00\u001B[0m | [02/18/22 11:34:40] INFO     Attempting to load model from             ai.py:578\n",
      "\u001B[37m2022-02-18 12:34:40.406217+01:00\u001B[0m |                              /home/model-server/... - MainThread\n",
      "\u001B[37m2022-02-18 12:34:40.408135+01:00\u001B[0m |                     INFO     Verifying AISaveFile.json... - MainThread ai.py:581\n",
      "\u001B[37m2022-02-18 12:34:40.429426+01:00\u001B[0m |                     INFO     Loaded model from /home/model-server/ -   ai.py:617\n",
      "\u001B[37m2022-02-18 12:34:40.429439+01:00\u001B[0m |                              MainThread\n",
      "\u001B[37m2022-02-18 12:34:40.431242+01:00\u001B[0m |                     INFO     Importing MnistModel from              logger.py:84\n",
      "\u001B[37m2022-02-18 12:34:40.431252+01:00\u001B[0m |                              /home/model-server/ - MainThread\n",
      "\u001B[37m2022-02-18 12:34:40.594698+01:00\u001B[0m | 2022-02-18 11:34:40.594475: W tensorflow/stream_executor/platform/default/dso_loader.cc:64] Could not load dynamic library 'libcudart.so.11.0'; dlerror: libcudart.so.11.0: cannot open shared object file: No such file or directory; LD_LIBRARY_PATH: /usr/local/nvidia/lib:/usr/local/nvidia/lib64\n",
      "\u001B[37m2022-02-18 12:34:40.594713+01:00\u001B[0m | 2022-02-18 11:34:40.594502: I tensorflow/stream_executor/cuda/cudart_stub.cc:29] Ignore above cudart dlerror if you do not have a GPU set up on your machine.\n",
      "\u001B[37m2022-02-18 12:34:42.767839+01:00\u001B[0m | [02/18/22 11:34:42] INFO     If tensorboard callback is present,      ai.py:1367\n",
      "\u001B[37m2022-02-18 12:34:42.767872+01:00\u001B[0m |                              logging in /home/model-server/logs/fit/2\n",
      "\u001B[37m2022-02-18 12:34:42.767878+01:00\u001B[0m |                              0220218-113442 - MainThread\n",
      "\u001B[37m2022-02-18 12:34:42.789375+01:00\u001B[0m | Downloading data from https://storage.googleapis.com/tensorflow/tf-keras-datasets/mnist.npz\n",
      "11493376/11490434 [==============================] - 0s 0us/step\n",
      "11501568/11490434 [==============================] - 0s 0us/step\n",
      "\u001B[37m2022-02-18 12:34:43.916694+01:00\u001B[0m | 2022-02-18 11:34:43.916561: I tensorflow/stream_executor/cuda/cuda_gpu_executor.cc:936] successful NUMA node read from SysFS had negative value (-1), but there must be at least one NUMA node, so returning NUMA node zero\n",
      "\u001B[37m2022-02-18 12:34:43.917380+01:00\u001B[0m | 2022-02-18 11:34:43.917281: W tensorflow/stream_executor/platform/default/dso_loader.cc:64] Could not load dynamic library 'libcudart.so.11.0'; dlerror: libcudart.so.11.0: cannot open shared object file: No such file or directory; LD_LIBRARY_PATH: /usr/local/nvidia/lib:/usr/local/nvidia/lib64\n",
      "\u001B[37m2022-02-18 12:34:43.917498+01:00\u001B[0m | 2022-02-18 11:34:43.917414: W tensorflow/stream_executor/platform/default/dso_loader.cc:64] Could not load dynamic library 'libcublas.so.11'; dlerror: libcublas.so.11: cannot open shared object file: No such file or directory; LD_LIBRARY_PATH: /usr/local/nvidia/lib:/usr/local/nvidia/lib64\n",
      "\u001B[37m2022-02-18 12:34:43.917587+01:00\u001B[0m | 2022-02-18 11:34:43.917537: W tensorflow/stream_executor/platform/default/dso_loader.cc:64] Could not load dynamic library 'libcublasLt.so.11'; dlerror: libcublasLt.so.11: cannot open shared object file: No such file or directory; LD_LIBRARY_PATH: /usr/local/nvidia/lib:/usr/local/nvidia/lib64\n",
      "\u001B[37m2022-02-18 12:34:43.919637+01:00\u001B[0m | 2022-02-18 11:34:43.919559: W tensorflow/stream_executor/platform/default/dso_loader.cc:64] Could not load dynamic library 'libcusolver.so.11'; dlerror: libcusolver.so.11: cannot open shared object file: No such file or directory; LD_LIBRARY_PATH: /usr/local/nvidia/lib:/usr/local/nvidia/lib64\n",
      "\u001B[37m2022-02-18 12:34:43.919729+01:00\u001B[0m | 2022-02-18 11:34:43.919662: W tensorflow/stream_executor/platform/default/dso_loader.cc:64] Could not load dynamic library 'libcusparse.so.11'; dlerror: libcusparse.so.11: cannot open shared object file: No such file or directory; LD_LIBRARY_PATH: /usr/local/nvidia/lib:/usr/local/nvidia/lib64\n",
      "\u001B[37m2022-02-18 12:34:43.919911+01:00\u001B[0m | 2022-02-18 11:34:43.919859: W tensorflow/core/common_runtime/gpu/gpu_device.cc:1850] Cannot dlopen some GPU libraries. Please make sure the missing libraries mentioned above are installed properly if you would like to use GPU. Follow the guide at https://www.tensorflow.org/install/gpu for how to download and setup the required libraries for your platform.\n",
      "\u001B[37m2022-02-18 12:34:43.919919+01:00\u001B[0m | Skipping registering GPU devices...\n",
      "\u001B[37m2022-02-18 12:34:43.920386+01:00\u001B[0m | 2022-02-18 11:34:43.920306: I tensorflow/core/platform/cpu_feature_guard.cc:151] This TensorFlow binary is optimized with oneAPI Deep Neural Network Library (oneDNN) to use the following CPU instructions in performance-critical operations:  AVX2 AVX512F FMA\n",
      "\u001B[37m2022-02-18 12:34:43.920411+01:00\u001B[0m | To enable them in other operations, rebuild TensorFlow with the appropriate compiler flags.\n",
      "\u001B[37m2022-02-18 12:34:44.218819+01:00\u001B[0m | Epoch 1/10\n",
      " 95/600 [===>..........................] - ETA: 57s - loss: 0.4986 - accuracy: 0.8405\n",
      "\u001B[37m2022-02-18 12:35:50.881833+01:00\u001B[0m | Epoch 2/10\n",
      " 96/600 [===>..........................] - ETA: 55s - loss: 0.0879 - accuracy: 0.9706\n",
      "\u001B[37m2022-02-18 12:36:56.654905+01:00\u001B[0m | Epoch 3/10\n",
      " 96/600 [===>..........................] - ETA: 55s - loss: 0.0635 - accuracy: 0.9791\n",
      "\u001B[37m2022-02-18 12:38:02.316269+01:00\u001B[0m | Epoch 4/10\n",
      " 96/600 [===>..........................] - ETA: 55s - loss: 0.0544 - accuracy: 0.9826\n",
      "\u001B[37m2022-02-18 12:39:08.203817+01:00\u001B[0m | Epoch 5/10\n",
      " 96/600 [===>..........................] - ETA: 55s - loss: 0.0435 - accuracy: 0.9865\n",
      "\u001B[37m2022-02-18 12:40:13.276805+01:00\u001B[0m | Epoch 6/10\n",
      " 96/600 [===>..........................] - ETA: 54s - loss: 0.0419 - accuracy: 0.9851\n",
      "\u001B[37m2022-02-18 12:41:18.268910+01:00\u001B[0m | Epoch 7/10\n",
      " 96/600 [===>..........................] - ETA: 54s - loss: 0.0358 - accuracy: 0.9882\n",
      " 96/600 [===>..........................] - ETA: 54s - loss: 0.0358 - accuracy: 0.9882\n"
     ]
    }
   ],
   "source": [
    "!polyaxon run -f polyaxonfile.yaml -u -l"
   ]
  },
  {
   "cell_type": "code",
   "execution_count": null,
   "metadata": {},
   "outputs": [],
   "source": []
  }
 ],
 "metadata": {
  "kernelspec": {
   "display_name": "Python 3",
   "language": "python",
   "name": "python3"
  },
  "language_info": {
   "codemirror_mode": {
    "name": "ipython",
    "version": 3
   },
   "file_extension": ".py",
   "mimetype": "text/x-python",
   "name": "python",
   "nbconvert_exporter": "python",
   "pygments_lexer": "ipython3",
   "version": "3.7.9"
  }
 },
 "nbformat": 4,
 "nbformat_minor": 1
}