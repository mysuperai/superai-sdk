{
 "cells": [
  {
   "cell_type": "markdown",
   "metadata": {
    "pycharm": {
     "name": "#%% md\n"
    }
   },
   "source": [
    "# Training Process\n",
    "This run has an example of running a training job\n",
    "\n",
    "1. Creating AI template and instance"
   ]
  },
  {
   "cell_type": "code",
   "execution_count": 3,
   "metadata": {
    "pycharm": {
     "name": "#%%\n"
    }
   },
   "outputs": [],
   "source": [
    "import os.path\n",
    "import shutil\n",
    "\n",
    "from superai.meta_ai.ai import AITemplate, AI, TrainingOrchestrator\n",
    "from superai.meta_ai.parameters import Config, HyperParameterSpec, TrainingParameters, ModelParameters\n",
    "from superai.meta_ai.schema import Schema"
   ]
  },
  {
   "cell_type": "code",
   "execution_count": 2,
   "metadata": {
    "pycharm": {
     "name": "#%%\n"
    }
   },
   "outputs": [],
   "source": [
    "if os.path.exists(\".AISave\"):\n",
    "    shutil.rmtree(\".AISave\")"
   ]
  },
  {
   "cell_type": "code",
   "execution_count": 19,
   "metadata": {
    "pycharm": {
     "name": "#%%\n"
    }
   },
   "outputs": [
    {
     "data": {
      "text/html": [
       "<pre style=\"white-space:pre;overflow-x:auto;line-height:normal;font-family:Menlo,'DejaVu Sans Mono',consolas,'Courier New',monospace\"><span style=\"color: #7fbfbf; text-decoration-color: #7fbfbf\">[03/14/22 13:21:21] </span><span style=\"color: #000080; text-decoration-color: #000080\">INFO    </span> Copying all code_path content - MainThread             <a href=\"file:///Users/ankitmishra/Work/mysuperai/superai-sdk-private/superai/meta_ai/ai.py\"><span style=\"color: #7f7f7f; text-decoration-color: #7f7f7f\">ai.py</span></a><span style=\"color: #7f7f7f; text-decoration-color: #7f7f7f\">:273</span>\n",
       "</pre>\n"
      ],
      "text/plain": [
       "\u001B[2;36m[03/14/22 13:21:21]\u001B[0m\u001B[2;36m \u001B[0m\u001B[34mINFO    \u001B[0m Copying all code_path content - MainThread             \u001B]8;id=1647260481.18172-486147;file:///Users/ankitmishra/Work/mysuperai/superai-sdk-private/superai/meta_ai/ai.py\u001B\\\u001B[2mai.py\u001B[0m\u001B]8;;\u001B\\\u001B[2m:273\u001B[0m\n"
      ]
     },
     "metadata": {},
     "output_type": "display_data"
    },
    {
     "data": {
      "text/html": [
       "<pre style=\"white-space:pre;overflow-x:auto;line-height:normal;font-family:Menlo,'DejaVu Sans Mono',consolas,'Courier New',monospace\"><span style=\"color: #7fbfbf; text-decoration-color: #7fbfbf\">                    </span><span style=\"color: #000080; text-decoration-color: #000080\">INFO    </span> Saved model in .AISave/mnist_training/<span style=\"color: #008080; text-decoration-color: #008080; font-weight: bold\">1</span> - MainThread   <a href=\"file:///Users/ankitmishra/Work/mysuperai/superai-sdk-private/superai/meta_ai/ai.py\"><span style=\"color: #7f7f7f; text-decoration-color: #7f7f7f\">ai.py</span></a><span style=\"color: #7f7f7f; text-decoration-color: #7f7f7f\">:868</span>\n",
       "</pre>\n"
      ],
      "text/plain": [
       "\u001B[2;36m                   \u001B[0m\u001B[2;36m \u001B[0m\u001B[34mINFO    \u001B[0m Saved model in .AISave/mnist_training/\u001B[1;36m1\u001B[0m - MainThread   \u001B]8;id=1647260481.193953-363701;file:///Users/ankitmishra/Work/mysuperai/superai-sdk-private/superai/meta_ai/ai.py\u001B\\\u001B[2mai.py\u001B[0m\u001B]8;;\u001B\\\u001B[2m:868\u001B[0m\n"
      ]
     },
     "metadata": {},
     "output_type": "display_data"
    }
   ],
   "source": [
    "template = AITemplate(\n",
    "    input_schema=Schema(),\n",
    "    output_schema=Schema(),\n",
    "    configuration=Config(),\n",
    "    name=\"MnistTrainingTemplate\",\n",
    "    description=\"Template of Sample MNIST training\",\n",
    "    model_class=\"MnistModel\",\n",
    "    requirements=[\"tensorflow-gpu==2.3.0\", \"polyaxon\"],\n",
    "    artifacts={\"run\": \"resources/runDir/run_this.sh\"},\n",
    "    code_path=[\"resources/runDir\"],\n",
    ")\n",
    "ai = AI(\n",
    "    ai_template=template,\n",
    "    input_params=template.input_schema.parameters(),\n",
    "    output_params=template.output_schema.parameters(),\n",
    "    name=\"mnist_training\",\n",
    "    version=1,\n",
    "    description=\"AI instance of sample MNIST training\",\n",
    ")"
   ]
  },
  {
   "cell_type": "markdown",
   "metadata": {
    "pycharm": {
     "name": "#%% md\n"
    }
   },
   "source": [
    "## Create and push training container\n",
    "Use the following interface to create and push the training container.\n",
    "\n",
    "> Note: Later, this interface will contain implementation to connect to meta-ai to create a training job."
   ]
  },
  {
   "cell_type": "code",
   "execution_count": 4,
   "metadata": {
    "pycharm": {
     "name": "#%%\n"
    }
   },
   "outputs": [
    {
     "data": {
      "text/html": [
       "<pre style=\"white-space:pre;overflow-x:auto;line-height:normal;font-family:Menlo,'DejaVu Sans Mono',consolas,'Courier New',monospace\"><span style=\"color: #7fbfbf; text-decoration-color: #7fbfbf\">[02/18/22 17:47:27] </span><span style=\"color: #000080; text-decoration-color: #000080\">INFO    </span> Base image                                            <a href=\"file:///Users/ankitmishra/Work/mysuperai/superai-sdk-private/superai/meta_ai/ai.py\"><span style=\"color: #7f7f7f; text-decoration-color: #7f7f7f\">ai.py</span></a><span style=\"color: #7f7f7f; text-decoration-color: #7f7f7f\">:1208</span>\n",
       "                             <span style=\"color: #008000; text-decoration-color: #008000\">'superai-model-s2i-python3711-gpu-seldon:1'</span> found               \n",
       "                             locally. - MainThread                                           \n",
       "</pre>\n"
      ],
      "text/plain": [
       "\u001B[2;36m[02/18/22 17:47:27]\u001B[0m\u001B[2;36m \u001B[0m\u001B[34mINFO    \u001B[0m Base image                                            \u001B]8;id=1645202847.4730282-361873;file:///Users/ankitmishra/Work/mysuperai/superai-sdk-private/superai/meta_ai/ai.py\u001B\\\u001B[2mai.py\u001B[0m\u001B]8;;\u001B\\\u001B[2m:1208\u001B[0m\n",
       "                             \u001B[32m'superai-model-s2i-python3711-gpu-seldon:1'\u001B[0m found               \n",
       "                             locally. - MainThread                                           \n"
      ]
     },
     "metadata": {},
     "output_type": "display_data"
    },
    {
     "data": {
      "text/html": [
       "<pre style=\"white-space:pre;overflow-x:auto;line-height:normal;font-family:Menlo,'DejaVu Sans Mono',consolas,'Courier New',monospace\"><span style=\"color: #7fbfbf; text-decoration-color: #7fbfbf\">                    </span><span style=\"color: #000080; text-decoration-color: #000080\">INFO    </span> No change in pip layer. Reusing old layers from image <a href=\"file:///Users/ankitmishra/Work/mysuperai/superai-sdk-private/superai/meta_ai/ai.py\"><span style=\"color: #7f7f7f; text-decoration-color: #7f7f7f\">ai.py</span></a><span style=\"color: #7f7f7f; text-decoration-color: #7f7f7f\">:1223</span>\n",
       "                             sh<span style=\"color: #00ff00; text-decoration-color: #00ff00; font-weight: bold\">a256:3702</span>826942cecf12d4c049b8ad35753b59b8779e2fdfe6           \n",
       "                             49687a521c64d44b31<span style=\"color: #808000; text-decoration-color: #808000\">...</span> - MainThread                              \n",
       "</pre>\n"
      ],
      "text/plain": [
       "\u001B[2;36m                   \u001B[0m\u001B[2;36m \u001B[0m\u001B[34mINFO    \u001B[0m No change in pip layer. Reusing old layers from image \u001B]8;id=1645202847.482775-523639;file:///Users/ankitmishra/Work/mysuperai/superai-sdk-private/superai/meta_ai/ai.py\u001B\\\u001B[2mai.py\u001B[0m\u001B]8;;\u001B\\\u001B[2m:1223\u001B[0m\n",
       "                             sh\u001B[1;92ma256:3702\u001B[0m826942cecf12d4c049b8ad35753b59b8779e2fdfe6           \n",
       "                             49687a521c64d44b31\u001B[33m...\u001B[0m - MainThread                              \n"
      ]
     },
     "metadata": {},
     "output_type": "display_data"
    },
    {
     "data": {
      "text/html": [
       "<pre style=\"white-space:pre;overflow-x:auto;line-height:normal;font-family:Menlo,'DejaVu Sans Mono',consolas,'Courier New',monospace\"><span style=\"color: #7fbfbf; text-decoration-color: #7fbfbf\">                    </span><span style=\"color: #000080; text-decoration-color: #000080\">INFO    </span> Running <span style=\"color: #008000; text-decoration-color: #008000\">'s2i build -E /Users/ankitmishra/Work/mysuper</span> <a href=\"file:///Users/ankitmishra/Work/mysuperai/superai-sdk-private/superai/meta_ai/ai.py\"><span style=\"color: #7f7f7f; text-decoration-color: #7f7f7f\">ai.py</span></a><span style=\"color: #7f7f7f; text-decoration-color: #7f7f7f\">:1303</span>\n",
       "                             <span style=\"color: #008000; text-decoration-color: #008000\">ai/superai-sdk-private/docs/examples/ai/.AISave/mnist</span>           \n",
       "                             <span style=\"color: #008000; text-decoration-color: #008000\">_training/1/environment -v </span>                                     \n",
       "                             <span style=\"color: #008000; text-decoration-color: #008000\">/Users/ankitmishra/.aws:/root/.aws -v </span>                          \n",
       "                             <span style=\"color: #008000; text-decoration-color: #008000\">/Users/ankitmishra/.superai:/root/.superai -v </span>                  \n",
       "                             <span style=\"color: #008000; text-decoration-color: #008000\">/Users/ankitmishra/.canotic:/root/.canotic </span>                     \n",
       "                             <span style=\"color: #008000; text-decoration-color: #008000\">--incremental=True . </span>                                           \n",
       "                             <span style=\"color: #008000; text-decoration-color: #008000\">superai-model-s2i-python3711-gpu-seldon:1 </span>                      \n",
       "                             <span style=\"color: #008000; text-decoration-color: #008000\">mnist_training-pip-layer:1'</span> - MainThread                        \n",
       "</pre>\n"
      ],
      "text/plain": [
       "\u001B[2;36m                   \u001B[0m\u001B[2;36m \u001B[0m\u001B[34mINFO    \u001B[0m Running \u001B[32m's2i build -E /Users/ankitmishra/Work/mysuper\u001B[0m \u001B]8;id=1645202847.4881501-538054;file:///Users/ankitmishra/Work/mysuperai/superai-sdk-private/superai/meta_ai/ai.py\u001B\\\u001B[2mai.py\u001B[0m\u001B]8;;\u001B\\\u001B[2m:1303\u001B[0m\n",
       "                             \u001B[32mai/superai-sdk-private/docs/examples/ai/.AISave/mnist\u001B[0m           \n",
       "                             \u001B[32m_training/1/environment -v \u001B[0m                                     \n",
       "                             \u001B[32m/Users/ankitmishra/.aws:/root/.aws -v \u001B[0m                          \n",
       "                             \u001B[32m/Users/ankitmishra/.superai:/root/.superai -v \u001B[0m                  \n",
       "                             \u001B[32m/Users/ankitmishra/.canotic:/root/.canotic \u001B[0m                     \n",
       "                             \u001B[32m--\u001B[0m\u001B[32mincremental\u001B[0m\u001B[32m=\u001B[0m\u001B[32mTrue\u001B[0m\u001B[32m . \u001B[0m                                           \n",
       "                             \u001B[32msuperai-model-s2i-python3711-gpu-seldon:1 \u001B[0m                      \n",
       "                             \u001B[32mmnist_training-pip-layer:1'\u001B[0m - MainThread                        \n"
      ]
     },
     "metadata": {},
     "output_type": "display_data"
    },
    {
     "data": {
      "text/html": [
       "<pre style=\"white-space:pre;overflow-x:auto;line-height:normal;font-family:Menlo,'DejaVu Sans Mono',consolas,'Courier New',monospace\"><span style=\"color: #7fbfbf; text-decoration-color: #7fbfbf\">[02/18/22 17:48:55] </span><span style=\"color: #000080; text-decoration-color: #000080\">INFO    </span> Running <span style=\"color: #008000; text-decoration-color: #008000\">'s2i build -E /Users/ankitmishra/Work/mysuper</span> <a href=\"file:///Users/ankitmishra/Work/mysuperai/superai-sdk-private/superai/meta_ai/ai.py\"><span style=\"color: #7f7f7f; text-decoration-color: #7f7f7f\">ai.py</span></a><span style=\"color: #7f7f7f; text-decoration-color: #7f7f7f\">:1303</span>\n",
       "                             <span style=\"color: #008000; text-decoration-color: #008000\">ai/superai-sdk-private/docs/examples/ai/.AISave/mnist</span>           \n",
       "                             <span style=\"color: #008000; text-decoration-color: #008000\">_training/1/environment -v </span>                                     \n",
       "                             <span style=\"color: #008000; text-decoration-color: #008000\">/Users/ankitmishra/.aws:/root/.aws -v </span>                          \n",
       "                             <span style=\"color: #008000; text-decoration-color: #008000\">/Users/ankitmishra/.superai:/root/.superai -v </span>                  \n",
       "                             <span style=\"color: #008000; text-decoration-color: #008000\">/Users/ankitmishra/.canotic:/root/.canotic </span>                     \n",
       "                             <span style=\"color: #008000; text-decoration-color: #008000\">--incremental=True . mnist_training-pip-layer:1 </span>                \n",
       "                             <span style=\"color: #008000; text-decoration-color: #008000\">mnist_training:1'</span> - MainThread                                  \n",
       "</pre>\n"
      ],
      "text/plain": [
       "\u001B[2;36m[02/18/22 17:48:55]\u001B[0m\u001B[2;36m \u001B[0m\u001B[34mINFO    \u001B[0m Running \u001B[32m's2i build -E /Users/ankitmishra/Work/mysuper\u001B[0m \u001B]8;id=1645202935.159571-544994;file:///Users/ankitmishra/Work/mysuperai/superai-sdk-private/superai/meta_ai/ai.py\u001B\\\u001B[2mai.py\u001B[0m\u001B]8;;\u001B\\\u001B[2m:1303\u001B[0m\n",
       "                             \u001B[32mai/superai-sdk-private/docs/examples/ai/.AISave/mnist\u001B[0m           \n",
       "                             \u001B[32m_training/1/environment -v \u001B[0m                                     \n",
       "                             \u001B[32m/Users/ankitmishra/.aws:/root/.aws -v \u001B[0m                          \n",
       "                             \u001B[32m/Users/ankitmishra/.superai:/root/.superai -v \u001B[0m                  \n",
       "                             \u001B[32m/Users/ankitmishra/.canotic:/root/.canotic \u001B[0m                     \n",
       "                             \u001B[32m--\u001B[0m\u001B[32mincremental\u001B[0m\u001B[32m=\u001B[0m\u001B[32mTrue\u001B[0m\u001B[32m . mnist_training-pip-layer:1 \u001B[0m                \n",
       "                             \u001B[32mmnist_training:1'\u001B[0m - MainThread                                  \n"
      ]
     },
     "metadata": {},
     "output_type": "display_data"
    },
    {
     "data": {
      "text/html": [
       "<pre style=\"white-space:pre;overflow-x:auto;line-height:normal;font-family:Menlo,'DejaVu Sans Mono',consolas,'Courier New',monospace\"><span style=\"color: #7fbfbf; text-decoration-color: #7fbfbf\">[02/18/22 17:48:56] </span><span style=\"color: #000080; text-decoration-color: #000080\">INFO    </span> Built main container `mnist_training:<span style=\"color: #008080; text-decoration-color: #008080; font-weight: bold\">1</span>` - MainThread  <a href=\"file:///Users/ankitmishra/Work/mysuperai/superai-sdk-private/superai/meta_ai/ai.py\"><span style=\"color: #7f7f7f; text-decoration-color: #7f7f7f\">ai.py</span></a><span style=\"color: #7f7f7f; text-decoration-color: #7f7f7f\">:1245</span>\n",
       "</pre>\n"
      ],
      "text/plain": [
       "\u001B[2;36m[02/18/22 17:48:56]\u001B[0m\u001B[2;36m \u001B[0m\u001B[34mINFO    \u001B[0m Built main container `mnist_training:\u001B[1;36m1\u001B[0m` - MainThread  \u001B]8;id=1645202936.395926-438812;file:///Users/ankitmishra/Work/mysuperai/superai-sdk-private/superai/meta_ai/ai.py\u001B\\\u001B[2mai.py\u001B[0m\u001B]8;;\u001B\\\u001B[2m:1245\u001B[0m\n"
      ]
     },
     "metadata": {},
     "output_type": "display_data"
    },
    {
     "data": {
      "text/html": [
       "<pre style=\"white-space:pre;overflow-x:auto;line-height:normal;font-family:Menlo,'DejaVu Sans Mono',consolas,'Courier New',monospace\"><span style=\"color: #7fbfbf; text-decoration-color: #7fbfbf\">                    </span><span style=\"color: #000080; text-decoration-color: #000080\">INFO    </span> Time taken to build: <span style=\"color: #008080; text-decoration-color: #008080; font-weight: bold\">88.</span>95s - MainThread              <a href=\"file:///Users/ankitmishra/Work/mysuperai/superai-sdk-private/superai/meta_ai/ai.py\"><span style=\"color: #7f7f7f; text-decoration-color: #7f7f7f\">ai.py</span></a><span style=\"color: #7f7f7f; text-decoration-color: #7f7f7f\">:1246</span>\n",
       "</pre>\n"
      ],
      "text/plain": [
       "\u001B[2;36m                   \u001B[0m\u001B[2;36m \u001B[0m\u001B[34mINFO    \u001B[0m Time taken to build: \u001B[1;36m88.\u001B[0m95s - MainThread              \u001B]8;id=1645202936.3985941-715201;file:///Users/ankitmishra/Work/mysuperai/superai-sdk-private/superai/meta_ai/ai.py\u001B\\\u001B[2mai.py\u001B[0m\u001B]8;;\u001B\\\u001B[2m:1246\u001B[0m\n"
      ]
     },
     "metadata": {},
     "output_type": "display_data"
    },
    {
     "data": {
      "text/html": [
       "<pre style=\"white-space:pre;overflow-x:auto;line-height:normal;font-family:Menlo,'DejaVu Sans Mono',consolas,'Courier New',monospace\"><span style=\"color: #7fbfbf; text-decoration-color: #7fbfbf\">                    </span><span style=\"color: #000080; text-decoration-color: #000080\">INFO    </span> Found credentials in shared credentials      <a href=\"file:///Users/ankitmishra/miniconda3/envs/superai-sdk/lib/python3.7/site-packages/botocore/credentials.py\"><span style=\"color: #7f7f7f; text-decoration-color: #7f7f7f\">credentials.py</span></a><span style=\"color: #7f7f7f; text-decoration-color: #7f7f7f\">:1217</span>\n",
       "                             file: ~<span style=\"color: #800080; text-decoration-color: #800080\">/.aws/</span><span style=\"color: #ff00ff; text-decoration-color: #ff00ff\">credentials</span> - MainThread                           \n",
       "</pre>\n"
      ],
      "text/plain": [
       "\u001B[2;36m                   \u001B[0m\u001B[2;36m \u001B[0m\u001B[34mINFO    \u001B[0m Found credentials in shared credentials      \u001B]8;id=1645202936.423563-869699;file:///Users/ankitmishra/miniconda3/envs/superai-sdk/lib/python3.7/site-packages/botocore/credentials.py\u001B\\\u001B[2mcredentials.py\u001B[0m\u001B]8;;\u001B\\\u001B[2m:1217\u001B[0m\n",
       "                             file: ~\u001B[35m/.aws/\u001B[0m\u001B[95mcredentials\u001B[0m - MainThread                           \n"
      ]
     },
     "metadata": {},
     "output_type": "display_data"
    },
    {
     "data": {
      "text/html": [
       "<pre style=\"white-space:pre;overflow-x:auto;line-height:normal;font-family:Menlo,'DejaVu Sans Mono',consolas,'Courier New',monospace\"><span style=\"color: #7fbfbf; text-decoration-color: #7fbfbf\">[02/18/22 17:48:57] </span><span style=\"color: #000080; text-decoration-color: #000080\">INFO    </span> Pushing image to ECR: <span style=\"color: #008080; text-decoration-color: #008080; font-weight: bold\">185169359328.</span>dkr.ecr.us-east- <a href=\"file:///Users/ankitmishra/Work/mysuperai/superai-sdk-private/superai/log/logger.py\"><span style=\"color: #7f7f7f; text-decoration-color: #7f7f7f\">logger.py</span></a><span style=\"color: #7f7f7f; text-decoration-color: #7f7f7f\">:84</span>\n",
       "                             <span style=\"color: #008080; text-decoration-color: #008080; font-weight: bold\">1.</span>amazonaws.com/models/dev/<span style=\"color: #ffff00; text-decoration-color: #ffff00\">daad6583-1fd7-4718-8b12-</span>             \n",
       "                             <span style=\"color: #ffff00; text-decoration-color: #ffff00\">333701894fdb</span>/mnist_training:<span style=\"color: #008080; text-decoration-color: #008080; font-weight: bold\">1</span> - MainThread                      \n",
       "</pre>\n"
      ],
      "text/plain": [
       "\u001B[2;36m[02/18/22 17:48:57]\u001B[0m\u001B[2;36m \u001B[0m\u001B[34mINFO    \u001B[0m Pushing image to ECR: \u001B[1;36m185169359328.\u001B[0mdkr.ecr.us-east- \u001B]8;id=1645202937.4187-687246;file:///Users/ankitmishra/Work/mysuperai/superai-sdk-private/superai/log/logger.py\u001B\\\u001B[2mlogger.py\u001B[0m\u001B]8;;\u001B\\\u001B[2m:84\u001B[0m\n",
       "                             \u001B[1;36m1.\u001B[0mamazonaws.com/models/dev/\u001B[93mdaad6583-1fd7-4718-8b12-\u001B[0m             \n",
       "                             \u001B[93m333701894fdb\u001B[0m/mnist_training:\u001B[1;36m1\u001B[0m - MainThread                      \n"
      ]
     },
     "metadata": {},
     "output_type": "display_data"
    },
    {
     "data": {
      "text/html": [
       "<pre style=\"white-space:pre;overflow-x:auto;line-height:normal;font-family:Menlo,'DejaVu Sans Mono',consolas,'Courier New',monospace\"><span style=\"color: #7fbfbf; text-decoration-color: #7fbfbf\">                    </span><span style=\"color: #000080; text-decoration-color: #000080\">INFO    </span> Logging in to ECR<span style=\"color: #808000; text-decoration-color: #808000\">...</span> - MainThread                <a href=\"file:///Users/ankitmishra/Work/mysuperai/superai-sdk-private/superai/meta_ai/dockerizer/__init__.py\"><span style=\"color: #7f7f7f; text-decoration-color: #7f7f7f\">__init__.py</span></a><span style=\"color: #7f7f7f; text-decoration-color: #7f7f7f\">:246</span>\n",
       "</pre>\n"
      ],
      "text/plain": [
       "\u001B[2;36m                   \u001B[0m\u001B[2;36m \u001B[0m\u001B[34mINFO    \u001B[0m Logging in to ECR\u001B[33m...\u001B[0m - MainThread                \u001B]8;id=1645202937.951545-289711;file:///Users/ankitmishra/Work/mysuperai/superai-sdk-private/superai/meta_ai/dockerizer/__init__.py\u001B\\\u001B[2m__init__.py\u001B[0m\u001B]8;;\u001B\\\u001B[2m:246\u001B[0m\n"
      ]
     },
     "metadata": {},
     "output_type": "display_data"
    },
    {
     "data": {
      "text/html": [
       "<pre style=\"white-space:pre;overflow-x:auto;line-height:normal;font-family:Menlo,'DejaVu Sans Mono',consolas,'Courier New',monospace\"><span style=\"color: #7fbfbf; text-decoration-color: #7fbfbf\">[02/18/22 17:49:00] </span><span style=\"color: #000080; text-decoration-color: #000080\">INFO    </span> Tagging to `<span style=\"color: #008080; text-decoration-color: #008080; font-weight: bold\">185169359328.</span>dkr.ecr.us-east-<span style=\"color: #008080; text-decoration-color: #008080; font-weight: bold\">1.</span>amazo <a href=\"file:///Users/ankitmishra/Work/mysuperai/superai-sdk-private/superai/meta_ai/dockerizer/__init__.py\"><span style=\"color: #7f7f7f; text-decoration-color: #7f7f7f\">__init__.py</span></a><span style=\"color: #7f7f7f; text-decoration-color: #7f7f7f\">:249</span>\n",
       "                             naws.com/models/dev/<span style=\"color: #ffff00; text-decoration-color: #ffff00\">daad6583-1fd7-4718-8b12-3337</span>                \n",
       "                             <span style=\"color: #ffff00; text-decoration-color: #ffff00\">01894fdb</span>/mnist_training:<span style=\"color: #008080; text-decoration-color: #008080; font-weight: bold\">1</span>` - MainThread                         \n",
       "</pre>\n"
      ],
      "text/plain": [
       "\u001B[2;36m[02/18/22 17:49:00]\u001B[0m\u001B[2;36m \u001B[0m\u001B[34mINFO    \u001B[0m Tagging to `\u001B[1;36m185169359328.\u001B[0mdkr.ecr.us-east-\u001B[1;36m1.\u001B[0mamazo \u001B]8;id=1645202940.725766-344046;file:///Users/ankitmishra/Work/mysuperai/superai-sdk-private/superai/meta_ai/dockerizer/__init__.py\u001B\\\u001B[2m__init__.py\u001B[0m\u001B]8;;\u001B\\\u001B[2m:249\u001B[0m\n",
       "                             naws.com/models/dev/\u001B[93mdaad6583-1fd7-4718-8b12-3337\u001B[0m                \n",
       "                             \u001B[93m01894fdb\u001B[0m/mnist_training:\u001B[1;36m1\u001B[0m` - MainThread                         \n"
      ]
     },
     "metadata": {},
     "output_type": "display_data"
    },
    {
     "data": {
      "text/html": [
       "<pre style=\"white-space:pre;overflow-x:auto;line-height:normal;font-family:Menlo,'DejaVu Sans Mono',consolas,'Courier New',monospace\"><span style=\"color: #7fbfbf; text-decoration-color: #7fbfbf\">                    </span><span style=\"color: #000080; text-decoration-color: #000080\">INFO    </span> Pushing image<span style=\"color: #808000; text-decoration-color: #808000\">...</span> - MainThread                    <a href=\"file:///Users/ankitmishra/Work/mysuperai/superai-sdk-private/superai/meta_ai/dockerizer/__init__.py\"><span style=\"color: #7f7f7f; text-decoration-color: #7f7f7f\">__init__.py</span></a><span style=\"color: #7f7f7f; text-decoration-color: #7f7f7f\">:252</span>\n",
       "</pre>\n"
      ],
      "text/plain": [
       "\u001B[2;36m                   \u001B[0m\u001B[2;36m \u001B[0m\u001B[34mINFO    \u001B[0m Pushing image\u001B[33m...\u001B[0m - MainThread                    \u001B]8;id=1645202940.7437272-273734;file:///Users/ankitmishra/Work/mysuperai/superai-sdk-private/superai/meta_ai/dockerizer/__init__.py\u001B\\\u001B[2m__init__.py\u001B[0m\u001B]8;;\u001B\\\u001B[2m:252\u001B[0m\n"
      ]
     },
     "metadata": {},
     "output_type": "display_data"
    },
    {
     "data": {
      "application/vnd.jupyter.widget-view+json": {
       "model_id": "6427ed478f6f4c2d9af2c5a009b1697b",
       "version_major": 2,
       "version_minor": 0
      },
      "text/plain": [
       "Output()"
      ]
     },
     "metadata": {},
     "output_type": "display_data"
    },
    {
     "data": {
      "text/html": [
       "<pre style=\"white-space:pre;overflow-x:auto;line-height:normal;font-family:Menlo,'DejaVu Sans Mono',consolas,'Courier New',monospace\"><span style=\"color: #7fbfbf; text-decoration-color: #7fbfbf\">[02/18/22 17:50:39] </span><span style=\"color: #000080; text-decoration-color: #000080\">INFO    </span>  Image pushed successfully to <span style=\"color: #008080; text-decoration-color: #008080; font-weight: bold\">185169359328.</span>dkr.e <a href=\"file:///Users/ankitmishra/Work/mysuperai/superai-sdk-private/superai/meta_ai/dockerizer/__init__.py\"><span style=\"color: #7f7f7f; text-decoration-color: #7f7f7f\">__init__.py</span></a><span style=\"color: #7f7f7f; text-decoration-color: #7f7f7f\">:291</span>\n",
       "                             cr.us-east-<span style=\"color: #008080; text-decoration-color: #008080; font-weight: bold\">1.</span>amazonaws.com/models/dev/<span style=\"color: #ffff00; text-decoration-color: #ffff00\">daad6583-1</span>                \n",
       "                             <span style=\"color: #ffff00; text-decoration-color: #ffff00\">fd7-4718-8b12-333701894fdb</span>/mnist_training:<span style=\"color: #008080; text-decoration-color: #008080; font-weight: bold\">1</span>  -                  \n",
       "                             MainThread                                                      \n",
       "</pre>\n"
      ],
      "text/plain": [
       "\u001B[2;36m[02/18/22 17:50:39]\u001B[0m\u001B[2;36m \u001B[0m\u001B[34mINFO    \u001B[0m  Image pushed successfully to \u001B[1;36m185169359328.\u001B[0mdkr.e \u001B]8;id=1645203039.829727-531090;file:///Users/ankitmishra/Work/mysuperai/superai-sdk-private/superai/meta_ai/dockerizer/__init__.py\u001B\\\u001B[2m__init__.py\u001B[0m\u001B]8;;\u001B\\\u001B[2m:291\u001B[0m\n",
       "                             cr.us-east-\u001B[1;36m1.\u001B[0mamazonaws.com/models/dev/\u001B[93mdaad6583-1\u001B[0m                \n",
       "                             \u001B[93mfd7-4718-8b12-333701894fdb\u001B[0m/mnist_training:\u001B[1;36m1\u001B[0m  -                  \n",
       "                             MainThread                                                      \n"
      ]
     },
     "metadata": {},
     "output_type": "display_data"
    }
   ],
   "source": [
    "ai._id = \"DAAD6583-1FD7-4718-8B12-333701894FDB\".lower()\n",
    "\n",
    "hyperparams = HyperParameterSpec(epochs=10)\n",
    "ai.training_deploy(\n",
    "    orchestrator=TrainingOrchestrator.AWS_EKS,\n",
    "    skip_build=False,\n",
    "    enable_cuda=True,\n",
    "    build_all_layers=True,\n",
    "    training_parameters=TrainingParameters(hyperparameters=hyperparams)\n",
    ")"
   ]
  },
  {
   "cell_type": "markdown",
   "metadata": {
    "pycharm": {
     "name": "#%% md\n"
    }
   },
   "source": [
    "# Starting training manually\n",
    "To start training manually, in a separate terminal run, `polyaxon port-forward` to connect to Polyaxon API.\n",
    "\n",
    "Then run the following cell\n",
    "> Note: triggering training will be done from meta-ai in the future."
   ]
  },
  {
   "cell_type": "code",
   "execution_count": 14,
   "metadata": {
    "pycharm": {
     "name": "#%%\n"
    }
   },
   "outputs": [
    {
     "name": "stdout",
     "output_type": "stream",
     "text": [
      "version: 1.1\r\n",
      "kind: component\r\n",
      "tags: [examples, keras]\r\n",
      "\r\n",
      "inputs:\r\n",
      "- {name: conv1_size, type: int, value: 32, isOptional: true}\r\n",
      "- {name: conv2_size, type: int, value: 64, isOptional: true}\r\n",
      "- {name: dropout, type: float, value: 0.8, isOptional: true}\r\n",
      "- {name: hidden1_size, type: int, value: 500, isOptional: true}\r\n",
      "- {name: optimizer, type: str, value: adam, isOptional: true}\r\n",
      "- {name: log_learning_rate, type: int, value: -3, isOptional: true}\r\n",
      "- {name: epochs, type: int, value: 10, isOptional: true}\r\n",
      "\r\n",
      "run:\r\n",
      "  kind: job\r\n",
      "  container:\r\n",
      "    image: 185169359328.dkr.ecr.us-east-1.amazonaws.com/models/dev/daad6583-1fd7-4718-8b12-333701894fdb/mnist_training:1\r\n",
      "#    workingDir: \"{{ globals.artifacts_path }}/polyaxon-examples/in_cluster/keras/mnist\"\r\n",
      "    command: [\"/opt/conda/envs/env/bin/superai\", \"ai\", \"method\", \"train\"]\r\n",
      "    imagePullPolicy: Always\r\n",
      "    args: [\"-p\", \"/home/model-server/\",\r\n",
      "           \"-tp\",\"/tmp\",\r\n",
      "           \"-mp\",\"/tmp\",\r\n",
      "           \"-m\",\"conv1_size={{ conv1_size }}\",\r\n",
      "           \"-m\",\"conv2_size={{ conv2_size }}\",\r\n",
      "           \"-m\",\"dropout={{ dropout }}\",\r\n",
      "           \"-m\",\"hidden1_size={{ hidden1_size }}\",\r\n",
      "           \"-h\",\"optimizer={{ optimizer }}\",\r\n",
      "           \"-h\",\"log_learning_rate={{ log_learning_rate }}\",\r\n",
      "           \"-h\",\"epochs={{ epochs }}\"]\r\n"
     ]
    }
   ],
   "source": [
    "!cat polyaxonfile.yaml"
   ]
  },
  {
   "cell_type": "code",
   "execution_count": null,
   "metadata": {
    "pycharm": {
     "name": "#%%\n"
    }
   },
   "outputs": [
    {
     "name": "stdout",
     "output_type": "stream",
     "text": [
      "Creating a new run...\n",
      "\u001B[32mA new run `3d56bfb861634b8e92cd11433e23b37a` was created\u001B[0m\n",
      "You can view this run on Polyaxon UI: http://localhost:8000/ui/default/dev/runs/3d56bfb861634b8e92cd11433e23b37a/\n",
      "[================================] 958775/958775 - 00:00:00\n",
      "\u001B[32mArtifacts uploaded\u001B[0m\n",
      "\u001B[32mRun is approved\u001B[0m\n",
      "\u001B[32mStarting logs for run: <Name: None> - <uuid: 3d56bfb861634b8e92cd11433e23b37a>\u001B[0m\n",
      "\u001B[33mwarning\u001B[0m\n",
      "\u001B[33mrunning\u001B[0m\n",
      "\u001B[37m2022-02-18 17:51:29.912739+01:00\u001B[0m | Reading configs from /opt/conda/envs/env/lib/python3.7/site-packages/superai/settings.yaml\n",
      "\u001B[37m2022-02-18 17:51:29.912767+01:00\u001B[0m | Available envs:\n",
      "\u001B[37m2022-02-18 17:51:29.912770+01:00\u001B[0m | - local\n",
      "\u001B[37m2022-02-18 17:51:29.912773+01:00\u001B[0m | - dev\n",
      "\u001B[37m2022-02-18 17:51:29.912775+01:00\u001B[0m | - sandbox\n",
      "\u001B[37m2022-02-18 17:51:29.912777+01:00\u001B[0m | - stg\n",
      "\u001B[37m2022-02-18 17:51:29.912779+01:00\u001B[0m | - prod\n",
      "\u001B[37m2022-02-18 17:51:29.912781+01:00\u001B[0m | Reading configs from /opt/conda/envs/env/lib/python3.7/site-packages/superai/settings.yaml\n",
      "\u001B[37m2022-02-18 17:51:29.912783+01:00\u001B[0m | [02/18/22 16:51:29] INFO     Setting config : prod - MainThread     config.py:88\n",
      "\u001B[37m2022-02-18 17:51:31.212421+01:00\u001B[0m | Starting training from the path /home/model-server/\n",
      "\u001B[37m2022-02-18 17:51:31.214185+01:00\u001B[0m | [02/18/22 16:51:31] INFO     Attempting to load model from             ai.py:578\n",
      "\u001B[37m2022-02-18 17:51:31.214195+01:00\u001B[0m |                              /home/model-server/... - MainThread\n",
      "\u001B[37m2022-02-18 17:51:31.215518+01:00\u001B[0m |                     INFO     Verifying AISaveFile.json... - MainThread ai.py:581\n",
      "\u001B[37m2022-02-18 17:51:31.230684+01:00\u001B[0m |                     INFO     Loaded model from /home/model-server/ -   ai.py:617\n",
      "\u001B[37m2022-02-18 17:51:31.230696+01:00\u001B[0m |                              MainThread\n",
      "\u001B[37m2022-02-18 17:51:31.232099+01:00\u001B[0m |                     INFO     Importing MnistModel from              logger.py:84\n",
      "\u001B[37m2022-02-18 17:51:31.232104+01:00\u001B[0m |                              /home/model-server/ (Absolute path:\n",
      "\u001B[37m2022-02-18 17:51:31.232106+01:00\u001B[0m |                              /home/model-server) - MainThread\n",
      "\u001B[37m2022-02-18 17:51:31.347377+01:00\u001B[0m | 2022-02-18 16:51:31.347223: W tensorflow/stream_executor/platform/default/dso_loader.cc:59] Could not load dynamic library 'libcudart.so.10.1'; dlerror: libcudart.so.10.1: cannot open shared object file: No such file or directory; LD_LIBRARY_PATH: /usr/local/nvidia/lib:/usr/local/nvidia/lib64\n",
      "\u001B[37m2022-02-18 17:51:31.347404+01:00\u001B[0m | 2022-02-18 16:51:31.347252: I tensorflow/stream_executor/cuda/cudart_stub.cc:29] Ignore above cudart dlerror if you do not have a GPU set up on your machine.\n",
      "\u001B[37m2022-02-18 17:51:32.617988+01:00\u001B[0m | [02/18/22 16:51:32] INFO     If tensorboard callback is present,      ai.py:1367\n",
      "\u001B[37m2022-02-18 17:51:32.618023+01:00\u001B[0m |                              logging in /home/model-server/logs/fit/2\n",
      "\u001B[37m2022-02-18 17:51:32.618028+01:00\u001B[0m |                              0220218-165132 - MainThread\n",
      "\u001B[37m2022-02-18 17:51:32.728299+01:00\u001B[0m | Downloading data from https://storage.googleapis.com/tensorflow/tf-keras-datasets/mnist.npz\n",
      "11493376/11490434 [==============================] - 0s 0us/step\n",
      "\u001B[37m2022-02-18 17:51:33.182618+01:00\u001B[0m | 2022-02-18 16:51:33.182525: I tensorflow/stream_executor/platform/default/dso_loader.cc:48] Successfully opened dynamic library libcuda.so.1\n",
      "\u001B[37m2022-02-18 17:51:33.225175+01:00\u001B[0m | 2022-02-18 16:51:33.225068: I tensorflow/stream_executor/cuda/cuda_gpu_executor.cc:982] successful NUMA node read from SysFS had negative value (-1), but there must be at least one NUMA node, so returning NUMA node zero\n",
      "\u001B[37m2022-02-18 17:51:33.225831+01:00\u001B[0m | 2022-02-18 16:51:33.225768: I tensorflow/core/common_runtime/gpu/gpu_device.cc:1716] Found device 0 with properties:\n",
      "\u001B[37m2022-02-18 17:51:33.225841+01:00\u001B[0m | pciBusID: 0000:00:1e.0 name: Tesla T4 computeCapability: 7.5\n",
      "\u001B[37m2022-02-18 17:51:33.225844+01:00\u001B[0m | coreClock: 1.59GHz coreCount: 40 deviceMemorySize: 14.75GiB deviceMemoryBandwidth: 298.08GiB/s\n",
      "\u001B[37m2022-02-18 17:51:33.225966+01:00\u001B[0m | 2022-02-18 16:51:33.225908: W tensorflow/stream_executor/platform/default/dso_loader.cc:59] Could not load dynamic library 'libcudart.so.10.1'; dlerror: libcudart.so.10.1: cannot open shared object file: No such file or directory; LD_LIBRARY_PATH: /usr/local/nvidia/lib:/usr/local/nvidia/lib64\n",
      "\u001B[37m2022-02-18 17:51:33.227547+01:00\u001B[0m | 2022-02-18 16:51:33.227467: I tensorflow/stream_executor/platform/default/dso_loader.cc:48] Successfully opened dynamic library libcublas.so.10\n",
      "\u001B[37m2022-02-18 17:51:33.229243+01:00\u001B[0m | 2022-02-18 16:51:33.229177: I tensorflow/stream_executor/platform/default/dso_loader.cc:48] Successfully opened dynamic library libcufft.so.10\n",
      "\u001B[37m2022-02-18 17:51:33.229580+01:00\u001B[0m | 2022-02-18 16:51:33.229518: I tensorflow/stream_executor/platform/default/dso_loader.cc:48] Successfully opened dynamic library libcurand.so.10\n",
      "\u001B[37m2022-02-18 17:51:33.231459+01:00\u001B[0m | 2022-02-18 16:51:33.231392: I tensorflow/stream_executor/platform/default/dso_loader.cc:48] Successfully opened dynamic library libcusolver.so.10\n",
      "\u001B[37m2022-02-18 17:51:33.232536+01:00\u001B[0m | 2022-02-18 16:51:33.232480: I tensorflow/stream_executor/platform/default/dso_loader.cc:48] Successfully opened dynamic library libcusparse.so.10\n",
      "\u001B[37m2022-02-18 17:51:33.232677+01:00\u001B[0m | 2022-02-18 16:51:33.232601: W tensorflow/stream_executor/platform/default/dso_loader.cc:59] Could not load dynamic library 'libcudnn.so.7'; dlerror: libcudnn.so.7: cannot open shared object file: No such file or directory; LD_LIBRARY_PATH: /usr/local/nvidia/lib:/usr/local/nvidia/lib64\n",
      "\u001B[37m2022-02-18 17:51:33.232694+01:00\u001B[0m | 2022-02-18 16:51:33.232618: W tensorflow/core/common_runtime/gpu/gpu_device.cc:1753] Cannot dlopen some GPU libraries. Please make sure the missing libraries mentioned above are installed properly if you would like to use GPU. Follow the guide at https://www.tensorflow.org/install/gpu for how to download and setup the required libraries for your platform.\n",
      "\u001B[37m2022-02-18 17:51:33.232699+01:00\u001B[0m | Skipping registering GPU devices...\n",
      "\u001B[37m2022-02-18 17:51:33.232974+01:00\u001B[0m | 2022-02-18 16:51:33.232899: I tensorflow/core/platform/cpu_feature_guard.cc:142] This TensorFlow binary is optimized with oneAPI Deep Neural Network Library (oneDNN)to use the following CPU instructions in performance-critical operations:  AVX2 AVX512F FMA\n",
      "\u001B[37m2022-02-18 17:51:33.232989+01:00\u001B[0m | To enable them in other operations, rebuild TensorFlow with the appropriate compiler flags.\n",
      "\u001B[37m2022-02-18 17:51:33.239920+01:00\u001B[0m | 2022-02-18 16:51:33.239847: I tensorflow/core/platform/profile_utils/cpu_utils.cc:104] CPU Frequency: 2499995000 Hz\n",
      "\u001B[37m2022-02-18 17:51:33.240180+01:00\u001B[0m | 2022-02-18 16:51:33.240113: I tensorflow/compiler/xla/service/service.cc:168] XLA service 0x55c250a6e880 initialized for platform Host (this does not guarantee that XLA will be used). Devices:\n",
      "\u001B[37m2022-02-18 17:51:33.240198+01:00\u001B[0m | 2022-02-18 16:51:33.240133: I tensorflow/compiler/xla/service/service.cc:176]   StreamExecutor device (0): Host, Default Version\n",
      "\u001B[37m2022-02-18 17:51:33.241733+01:00\u001B[0m | 2022-02-18 16:51:33.241659: I tensorflow/core/common_runtime/gpu/gpu_device.cc:1257] Device interconnect StreamExecutor with strength 1 edge matrix:\n",
      "\u001B[37m2022-02-18 17:51:33.241756+01:00\u001B[0m | 2022-02-18 16:51:33.241678: I tensorflow/core/common_runtime/gpu/gpu_device.cc:1263]\n",
      "\u001B[37m2022-02-18 17:51:33.322391+01:00\u001B[0m | 2022-02-18 16:51:33.322259: I tensorflow/core/profiler/lib/profiler_session.cc:164] Profiler session started.\n",
      "\u001B[37m2022-02-18 17:51:33.322429+01:00\u001B[0m | 2022-02-18 16:51:33.322321: I tensorflow/core/profiler/internal/gpu/cupti_tracer.cc:1391] Profiler found 1 GPUs\n",
      "\u001B[37m2022-02-18 17:51:33.322617+01:00\u001B[0m | 2022-02-18 16:51:33.322550: W tensorflow/stream_executor/platform/default/dso_loader.cc:59] Could not load dynamic library 'libcupti.so.10.1'; dlerror: libcupti.so.10.1: cannot open shared object file: No such file or directory; LD_LIBRARY_PATH: /usr/local/nvidia/lib:/usr/local/nvidia/lib64\n",
      "\u001B[37m2022-02-18 17:51:33.322745+01:00\u001B[0m | 2022-02-18 16:51:33.322687: W tensorflow/stream_executor/platform/default/dso_loader.cc:59] Could not load dynamic library 'libcupti.so'; dlerror: libcupti.so: cannot open shared object file: No such file or directory; LD_LIBRARY_PATH: /usr/local/nvidia/lib:/usr/local/nvidia/lib64\n",
      "\u001B[37m2022-02-18 17:51:33.322752+01:00\u001B[0m | 2022-02-18 16:51:33.322707: E tensorflow/core/profiler/internal/gpu/cupti_tracer.cc:1441] function cupti_interface_->Subscribe( &subscriber_, (CUpti_CallbackFunc)ApiCallback, this)failed with error CUPTI could not be loaded or symbol could not be found.\n",
      "\u001B[37m2022-02-18 17:51:33.324724+01:00\u001B[0m | 2022-02-18 16:51:33.324625: W tensorflow/core/framework/cpu_allocator_impl.cc:81] Allocation of 188160000 exceeds 10% of free system memory.\n",
      "\u001B[37m2022-02-18 17:51:34.033765+01:00\u001B[0m | Epoch 1/10\n",
      "\u001B[37m2022-02-18 17:51:34.033863+01:00\u001B[0m | 2022-02-18 16:51:34.033782: I tensorflow/core/profiler/lib/profiler_session.cc:164] Profiler session started.\n",
      "\u001B[37m2022-02-18 17:51:34.033904+01:00\u001B[0m | 2022-02-18 16:51:34.033844: E tensorflow/core/profiler/internal/gpu/cupti_tracer.cc:1441] function cupti_interface_->Subscribe( &subscriber_, (CUpti_CallbackFunc)ApiCallback, this)failed with error CUPTI could not be loaded or symbol could not be found.\n"
     ]
    },
    {
     "name": "stdout",
     "output_type": "stream",
     "text": [
      "\u001B[37m2022-02-18 17:51:34.033765+01:00\u001B[0m | Epoch 1/10\n",
      "\u001B[37m2022-02-18 17:51:34.033863+01:00\u001B[0m | 2022-02-18 16:51:34.033782: I tensorflow/core/profiler/lib/profiler_session.cc:164] Profiler session started.\n",
      "\u001B[37m2022-02-18 17:51:34.033904+01:00\u001B[0m | 2022-02-18 16:51:34.033844: E tensorflow/core/profiler/internal/gpu/cupti_tracer.cc:1441] function cupti_interface_->Subscribe( &subscriber_, (CUpti_CallbackFunc)ApiCallback, this)failed with error CUPTI could not be loaded or symbol could not be found.\n",
      "  1/600 [..............................] - ETA: 0s - loss: 2.3247 - accuracy: 0.0700[02/18/22 16:51:34] WARNING  From /opt/conda/envs/env/lib/pyt deprecation.py:323\n",
      "\u001B[37m2022-02-18 17:51:34.167184+01:00\u001B[0m |                              hon3.7/site-packages/tensorflow/\n",
      "\u001B[37m2022-02-18 17:51:34.167200+01:00\u001B[0m |                              python/ops/summary_ops_v2.py:127\n",
      "\u001B[37m2022-02-18 17:51:34.167204+01:00\u001B[0m |                              7: stop (from tensorflow.python.\n",
      "\u001B[37m2022-02-18 17:51:34.167208+01:00\u001B[0m |                              eager.profiler) is deprecated\n",
      "\u001B[37m2022-02-18 17:51:34.167211+01:00\u001B[0m |                              and will be removed after\n",
      "\u001B[37m2022-02-18 17:51:34.167214+01:00\u001B[0m |                              2020-07-01.\n",
      "\u001B[37m2022-02-18 17:51:34.167219+01:00\u001B[0m |                              Instructions for updating:\n",
      "\u001B[37m2022-02-18 17:51:34.167221+01:00\u001B[0m |                              use\n",
      "\u001B[37m2022-02-18 17:51:34.167224+01:00\u001B[0m |                              `tf.profiler.experimental.stop`\n",
      "\u001B[37m2022-02-18 17:51:34.167227+01:00\u001B[0m |                              instead. - MainThread\n",
      "\u001B[37m2022-02-18 17:51:34.167985+01:00\u001B[0m | 2022-02-18 16:51:34.167886: I tensorflow/core/profiler/internal/gpu/device_tracer.cc:223]  GpuTracer has collected 0 callback api events and 0 activity events.\n",
      "\u001B[37m2022-02-18 17:51:34.169844+01:00\u001B[0m | 2022-02-18 16:51:34.169767: I tensorflow/core/profiler/rpc/client/save_profile.cc:176] Creating directory: /plx-context/artifacts/3d56bfb861634b8e92cd11433e23b37a/outputs/tensorboard/train/plugins/profile/2022_02_18_16_51_34\n",
      "\u001B[37m2022-02-18 17:51:34.170694+01:00\u001B[0m | 2022-02-18 16:51:34.170627: I tensorflow/core/profiler/rpc/client/save_profile.cc:182] Dumped gzipped tool data for trace.json.gz to /plx-context/artifacts/3d56bfb861634b8e92cd11433e23b37a/outputs/tensorboard/train/plugins/profile/2022_02_18_16_51_34/plx-operation-3d56bfb861634b8e92cd11433e23b37a-hlpmm.trace.json.gz\n",
      "\u001B[37m2022-02-18 17:51:34.172677+01:00\u001B[0m | 2022-02-18 16:51:34.172615: I tensorflow/core/profiler/rpc/client/save_profile.cc:176] Creating directory: /plx-context/artifacts/3d56bfb861634b8e92cd11433e23b37a/outputs/tensorboard/train/plugins/profile/2022_02_18_16_51_34\n",
      "\u001B[37m2022-02-18 17:51:34.172772+01:00\u001B[0m | 2022-02-18 16:51:34.172705: I tensorflow/core/profiler/rpc/client/save_profile.cc:182] Dumped gzipped tool data for memory_profile.json.gz to /plx-context/artifacts/3d56bfb861634b8e92cd11433e23b37a/outputs/tensorboard/train/plugins/profile/2022_02_18_16_51_34/plx-operation-3d56bfb861634b8e92cd11433e23b37a-hlpmm.memory_profile.json.gz\n",
      "\u001B[37m2022-02-18 17:51:34.173043+01:00\u001B[0m | 2022-02-18 16:51:34.172992: I tensorflow/python/profiler/internal/profiler_wrapper.cc:111] Creating directory: /plx-context/artifacts/3d56bfb861634b8e92cd11433e23b37a/outputs/tensorboard/train/plugins/profile/2022_02_18_16_51_34Dumped tool data for xplane.pb to /plx-context/artifacts/3d56bfb861634b8e92cd11433e23b37a/outputs/tensorboard/train/plugins/profile/2022_02_18_16_51_34/plx-operation-3d56bfb861634b8e92cd11433e23b37a-hlpmm.xplane.pb\n",
      "\u001B[37m2022-02-18 17:51:34.173055+01:00\u001B[0m | Dumped tool data for overview_page.pb to /plx-context/artifacts/3d56bfb861634b8e92cd11433e23b37a/outputs/tensorboard/train/plugins/profile/2022_02_18_16_51_34/plx-operation-3d56bfb861634b8e92cd11433e23b37a-hlpmm.overview_page.pb\n",
      "\u001B[37m2022-02-18 17:51:34.173059+01:00\u001B[0m | Dumped tool data for input_pipeline.pb to /plx-context/artifacts/3d56bfb861634b8e92cd11433e23b37a/outputs/tensorboard/train/plugins/profile/2022_02_18_16_51_34/plx-operation-3d56bfb861634b8e92cd11433e23b37a-hlpmm.input_pipeline.pb\n",
      "\u001B[37m2022-02-18 17:51:34.173068+01:00\u001B[0m | Dumped tool data for tensorflow_stats.pb to /plx-context/artifacts/3d56bfb861634b8e92cd11433e23b37a/outputs/tensorboard/train/plugins/profile/2022_02_18_16_51_34/plx-operation-3d56bfb861634b8e92cd11433e23b37a-hlpmm.tensorflow_stats.pb\n",
      "\u001B[37m2022-02-18 17:51:34.173071+01:00\u001B[0m | Dumped tool data for kernel_stats.pb to /plx-context/artifacts/3d56bfb861634b8e92cd11433e23b37a/outputs/tensorboard/train/plugins/profile/2022_02_18_16_51_34/plx-operation-3d56bfb861634b8e92cd11433e23b37a-hlpmm.kernel_stats.pb\n",
      "\u001B[37m2022-02-18 17:51:34.173074+01:00\u001B[0m | \n",
      " 97/600 [===>..........................] - ETA: 47s - loss: 0.5219 - accuracy: 0.830\n",
      "\u001B[37m2022-02-18 17:52:30.788606+01:00\u001B[0m | Epoch 2/10\n",
      " 96/600 [===>..........................] - ETA: 47s - loss: 0.0843 - accuracy: 0.972\n",
      "\u001B[37m2022-02-18 17:53:27.050381+01:00\u001B[0m | Epoch 3/10\n",
      " 96/600 [===>..........................] - ETA: 46s - loss: 0.0618 - accuracy: 0.980\n",
      "\u001B[37m2022-02-18 17:54:23.628266+01:00\u001B[0m | Epoch 4/10\n",
      " 96/600 [===>..........................] - ETA: 46s - loss: 0.0490 - accuracy: 0.984\n"
     ]
    }
   ],
   "source": [
    "!polyaxon run -f resources / polyaxonfile.yaml -u -l"
   ]
  },
  {
   "cell_type": "markdown",
   "metadata": {
    "pycharm": {
     "name": "#%% md\n"
    }
   },
   "source": [
    "# Accessing artifacts stored in S3\n",
    "We have set the default artifact store in polyaxon as a S3 bucket in  (`s3://canotic-ai/polyaxon-storage/`)[https://s3.console.aws.amazon.com/s3/buckets/canotic-ai?prefix=polyaxon-storage/&region=us-east-1]\n",
    "\n",
    "To access the artifacts, we have added a very simple example which prints the content of a text file stored in a sample folder."
   ]
  },
  {
   "cell_type": "code",
   "execution_count": 3,
   "metadata": {
    "pycharm": {
     "name": "#%%\n"
    }
   },
   "outputs": [
    {
     "name": "stdout",
     "output_type": "stream",
     "text": [
      "version: 1.1\r\n",
      "kind: component\r\n",
      "tags: [test]\r\n",
      "\r\n",
      "run:\r\n",
      "  init:\r\n",
      "    - artifacts:\r\n",
      "        dirs: [ \"test-storage\" ]\r\n",
      "  kind: job\r\n",
      "  container:\r\n",
      "    image: ubuntu:latest\r\n",
      "    workingDir: \"{{ globals.artifacts_path }}/test-storage\"\r\n",
      "    command: [\"cat\", \"random_text.txt\"]\r\n",
      "    imagePullPolicy: IfNotPresent\r\n"
     ]
    }
   ],
   "source": [
    "!cat resources / artifacts.yaml"
   ]
  },
  {
   "cell_type": "markdown",
   "metadata": {
    "pycharm": {
     "name": "#%% md\n"
    }
   },
   "source": [
    "Run the job"
   ]
  },
  {
   "cell_type": "code",
   "execution_count": 4,
   "metadata": {
    "pycharm": {
     "name": "#%%\n"
    }
   },
   "outputs": [
    {
     "name": "stdout",
     "output_type": "stream",
     "text": [
      "Creating a new run...\n",
      "\u001B[32mA new run `56e14c5646de46b8a15db42dddae3a0b` was created\u001B[0m\n",
      "You can view this run on Polyaxon UI: http://localhost:8000/ui/default/dev/runs/56e14c5646de46b8a15db42dddae3a0b/\n",
      "[================================] 959021/959021 - 00:00:01\n",
      "\u001B[32mArtifacts uploaded\u001B[0m\n",
      "\u001B[32mRun is approved\u001B[0m\n",
      "\u001B[32mStarting logs for run: <Name: None> - <uuid: 56e14c5646de46b8a15db42dddae3a0b>\u001B[0m\n",
      "\u001B[33mwarning\u001B[0m\n",
      "\u001B[33mrunning\u001B[0m\n",
      "\u001B[37m2022-02-22 13:50:04.610585+01:00\u001B[0m | This is some random text for test. Test Text.\n",
      "\u001B[32msucceeded\u001B[0m\n"
     ]
    }
   ],
   "source": [
    "!polyaxon run -f resources / artifacts.yaml -u -l"
   ]
  },
  {
   "cell_type": "markdown",
   "metadata": {
    "pycharm": {
     "name": "#%% md\n"
    }
   },
   "source": [
    "## Deploying a training instance using SDK functionalities"
   ]
  },
  {
   "cell_type": "code",
   "execution_count": 13,
   "metadata": {
    "pycharm": {
     "name": "#%%\n"
    }
   },
   "outputs": [],
   "source": [
    "if os.path.exists(\".AISave\"):\n",
    "    shutil.rmtree(\".AISave\")"
   ]
  },
  {
   "cell_type": "markdown",
   "metadata": {
    "pycharm": {
     "name": "#%% md\n"
    }
   },
   "source": [
    "### Adding an app ID to model\n",
    "The following AI instance can be associated with an app. The `app_id` here is associated with ankit@super.ai, so make sure you use an app under your own user owner ID."
   ]
  },
  {
   "cell_type": "code",
   "execution_count": 14,
   "metadata": {
    "pycharm": {
     "name": "#%%\n"
    }
   },
   "outputs": [
    {
     "data": {
      "text/html": [
       "<pre style=\"white-space:pre;overflow-x:auto;line-height:normal;font-family:Menlo,'DejaVu Sans Mono',consolas,'Courier New',monospace\"><span style=\"color: #7fbfbf; text-decoration-color: #7fbfbf\">[04/21/22 19:54:10] </span><span style=\"color: #000080; text-decoration-color: #000080\">INFO    </span> Copying all code_path content - MainThread             <a href=\"file:///Users/ankitmishra/Work/mysuperai/superai-sdk-private/superai/meta_ai/ai.py\"><span style=\"color: #7f7f7f; text-decoration-color: #7f7f7f\">ai.py</span></a><span style=\"color: #7f7f7f; text-decoration-color: #7f7f7f\">:274</span>\n",
       "</pre>\n"
      ],
      "text/plain": [
       "\u001B[2;36m[04/21/22 19:54:10]\u001B[0m\u001B[2;36m \u001B[0m\u001B[34mINFO    \u001B[0m Copying all code_path content - MainThread             \u001B]8;id=1650563650.227714-93989;file:///Users/ankitmishra/Work/mysuperai/superai-sdk-private/superai/meta_ai/ai.py\u001B\\\u001B[2mai.py\u001B[0m\u001B]8;;\u001B\\\u001B[2m:274\u001B[0m\n"
      ]
     },
     "metadata": {},
     "output_type": "display_data"
    },
    {
     "data": {
      "text/html": [
       "<pre style=\"white-space:pre;overflow-x:auto;line-height:normal;font-family:Menlo,'DejaVu Sans Mono',consolas,'Courier New',monospace\"><span style=\"color: #7fbfbf; text-decoration-color: #7fbfbf\">                    </span><span style=\"color: #000080; text-decoration-color: #000080\">INFO    </span> Saved model in .AISave/mnist_training/<span style=\"color: #008080; text-decoration-color: #008080; font-weight: bold\">1</span> - MainThread   <a href=\"file:///Users/ankitmishra/Work/mysuperai/superai-sdk-private/superai/meta_ai/ai.py\"><span style=\"color: #7f7f7f; text-decoration-color: #7f7f7f\">ai.py</span></a><span style=\"color: #7f7f7f; text-decoration-color: #7f7f7f\">:880</span>\n",
       "</pre>\n"
      ],
      "text/plain": [
       "\u001B[2;36m                   \u001B[0m\u001B[2;36m \u001B[0m\u001B[34mINFO    \u001B[0m Saved model in .AISave/mnist_training/\u001B[1;36m1\u001B[0m - MainThread   \u001B]8;id=1650563650.2434611-658417;file:///Users/ankitmishra/Work/mysuperai/superai-sdk-private/superai/meta_ai/ai.py\u001B\\\u001B[2mai.py\u001B[0m\u001B]8;;\u001B\\\u001B[2m:880\u001B[0m\n"
      ]
     },
     "metadata": {},
     "output_type": "display_data"
    }
   ],
   "source": [
    "template = AITemplate(\n",
    "    input_schema=Schema(),\n",
    "    output_schema=Schema(),\n",
    "    configuration=Config(),\n",
    "    name=\"MnistTrainingTemplate\",\n",
    "    description=\"Template of Sample MNIST training\",\n",
    "    model_class=\"MnistModel\",\n",
    "    requirements=[\"tensorflow-gpu==2.3.0\", \"polyaxon\"],\n",
    "    artifacts={\"run\": \"resources/runDir/run_this.sh\"},\n",
    "    code_path=[\"resources/runDir\"],\n",
    ")\n",
    "ai = AI(\n",
    "    ai_template=template,\n",
    "    input_params=template.input_schema.parameters(),\n",
    "    output_params=template.output_schema.parameters(),\n",
    "    name=\"mnist_training\",\n",
    "    version=1,\n",
    "    description=\"AI instance of sample MNIST training\",\n",
    "    app_id=\"c1bed1ac-6418-40e3-9ce0-15a17d1bc38c\",\n",
    ")"
   ]
  },
  {
   "cell_type": "code",
   "execution_count": 5,
   "metadata": {
    "pycharm": {
     "name": "#%%\n"
    }
   },
   "outputs": [
    {
     "data": {
      "text/html": [
       "<pre style=\"white-space:pre;overflow-x:auto;line-height:normal;font-family:Menlo,'DejaVu Sans Mono',consolas,'Courier New',monospace\"><span style=\"color: #7fbfbf; text-decoration-color: #7fbfbf\">[03/21/22 11:36:39] </span><span style=\"color: #800000; text-decoration-color: #800000\">WARNING </span> Model already exists in the DB and overwrite is not    <a href=\"file:///Users/ankitmishra/Work/mysuperai/superai-sdk-private/superai/meta_ai/ai.py\"><span style=\"color: #7f7f7f; text-decoration-color: #7f7f7f\">ai.py</span></a><span style=\"color: #7f7f7f; text-decoration-color: #7f7f7f\">:916</span>\n",
       "                             set. - MainThread                                               \n",
       "</pre>\n"
      ],
      "text/plain": [
       "\u001B[2;36m[03/21/22 11:36:39]\u001B[0m\u001B[2;36m \u001B[0m\u001B[31mWARNING \u001B[0m Model already exists in the DB and overwrite is not    \u001B]8;id=1647858999.175818-860695;file:///Users/ankitmishra/Work/mysuperai/superai-sdk-private/superai/meta_ai/ai.py\u001B\\\u001B[2mai.py\u001B[0m\u001B]8;;\u001B\\\u001B[2m:916\u001B[0m\n",
       "                             set. - MainThread                                               \n"
      ]
     },
     "metadata": {},
     "output_type": "display_data"
    },
    {
     "data": {
      "text/plain": [
       "'ca7ef522-e115-4c32-ab91-308d218a111b'"
      ]
     },
     "execution_count": 5,
     "metadata": {},
     "output_type": "execute_result"
    }
   ],
   "source": [
    "ai.push()"
   ]
  },
  {
   "cell_type": "code",
   "execution_count": 6,
   "metadata": {
    "pycharm": {
     "name": "#%%\n"
    }
   },
   "outputs": [
    {
     "data": {
      "text/html": [
       "<pre style=\"white-space:pre;overflow-x:auto;line-height:normal;font-family:Menlo,'DejaVu Sans Mono',consolas,'Courier New',monospace\"><span style=\"color: #7fbfbf; text-decoration-color: #7fbfbf\">[03/21/22 11:36:45] </span><span style=\"color: #000080; text-decoration-color: #000080\">INFO    </span> Base image                                            <a href=\"file:///Users/ankitmishra/Work/mysuperai/superai-sdk-private/superai/meta_ai/ai.py\"><span style=\"color: #7f7f7f; text-decoration-color: #7f7f7f\">ai.py</span></a><span style=\"color: #7f7f7f; text-decoration-color: #7f7f7f\">:1253</span>\n",
       "                             <span style=\"color: #008000; text-decoration-color: #008000\">'superai-model-s2i-python3711-cpu-seldon:1'</span> found               \n",
       "                             locally. - MainThread                                           \n",
       "</pre>\n"
      ],
      "text/plain": [
       "\u001B[2;36m[03/21/22 11:36:45]\u001B[0m\u001B[2;36m \u001B[0m\u001B[34mINFO    \u001B[0m Base image                                            \u001B]8;id=1647859005.6773949-385326;file:///Users/ankitmishra/Work/mysuperai/superai-sdk-private/superai/meta_ai/ai.py\u001B\\\u001B[2mai.py\u001B[0m\u001B]8;;\u001B\\\u001B[2m:1253\u001B[0m\n",
       "                             \u001B[32m'superai-model-s2i-python3711-cpu-seldon:1'\u001B[0m found               \n",
       "                             locally. - MainThread                                           \n"
      ]
     },
     "metadata": {},
     "output_type": "display_data"
    },
    {
     "data": {
      "text/html": [
       "<pre style=\"white-space:pre;overflow-x:auto;line-height:normal;font-family:Menlo,'DejaVu Sans Mono',consolas,'Courier New',monospace\"><span style=\"color: #7fbfbf; text-decoration-color: #7fbfbf\">                    </span><span style=\"color: #000080; text-decoration-color: #000080\">INFO    </span> No change in pip layer. Reusing old layers from image <a href=\"file:///Users/ankitmishra/Work/mysuperai/superai-sdk-private/superai/meta_ai/ai.py\"><span style=\"color: #7f7f7f; text-decoration-color: #7f7f7f\">ai.py</span></a><span style=\"color: #7f7f7f; text-decoration-color: #7f7f7f\">:1268</span>\n",
       "                             sh<span style=\"color: #00ff00; text-decoration-color: #00ff00; font-weight: bold\">a256:9c3e</span>1b928e0bdc123ac0c35ad5c8678979de564ad97463           \n",
       "                             f1045f28eb0d6119fe<span style=\"color: #808000; text-decoration-color: #808000\">...</span> - MainThread                              \n",
       "</pre>\n"
      ],
      "text/plain": [
       "\u001B[2;36m                   \u001B[0m\u001B[2;36m \u001B[0m\u001B[34mINFO    \u001B[0m No change in pip layer. Reusing old layers from image \u001B]8;id=1647859005.68697-594684;file:///Users/ankitmishra/Work/mysuperai/superai-sdk-private/superai/meta_ai/ai.py\u001B\\\u001B[2mai.py\u001B[0m\u001B]8;;\u001B\\\u001B[2m:1268\u001B[0m\n",
       "                             sh\u001B[1;92ma256:9c3e\u001B[0m1b928e0bdc123ac0c35ad5c8678979de564ad97463           \n",
       "                             f1045f28eb0d6119fe\u001B[33m...\u001B[0m - MainThread                              \n"
      ]
     },
     "metadata": {},
     "output_type": "display_data"
    },
    {
     "data": {
      "text/html": [
       "<pre style=\"white-space:pre;overflow-x:auto;line-height:normal;font-family:Menlo,'DejaVu Sans Mono',consolas,'Courier New',monospace\"><span style=\"color: #7fbfbf; text-decoration-color: #7fbfbf\">                    </span><span style=\"color: #000080; text-decoration-color: #000080\">INFO    </span> Running <span style=\"color: #008000; text-decoration-color: #008000\">'s2i build -E /Users/ankitmishra/Work/mysuper</span> <a href=\"file:///Users/ankitmishra/Work/mysuperai/superai-sdk-private/superai/meta_ai/ai.py\"><span style=\"color: #7f7f7f; text-decoration-color: #7f7f7f\">ai.py</span></a><span style=\"color: #7f7f7f; text-decoration-color: #7f7f7f\">:1348</span>\n",
       "                             <span style=\"color: #008000; text-decoration-color: #008000\">ai/superai-sdk-private/docs/examples/ai/.AISave/mnist</span>           \n",
       "                             <span style=\"color: #008000; text-decoration-color: #008000\">_training/1/environment -v </span>                                     \n",
       "                             <span style=\"color: #008000; text-decoration-color: #008000\">/Users/ankitmishra/.aws:/root/.aws -v </span>                          \n",
       "                             <span style=\"color: #008000; text-decoration-color: #008000\">/Users/ankitmishra/.superai:/root/.superai -v </span>                  \n",
       "                             <span style=\"color: #008000; text-decoration-color: #008000\">/Users/ankitmishra/.canotic:/root/.canotic </span>                     \n",
       "                             <span style=\"color: #008000; text-decoration-color: #008000\">--incremental=True . mnist_training-pip-layer:1 </span>                \n",
       "                             <span style=\"color: #008000; text-decoration-color: #008000\">mnist_training:1'</span> - MainThread                                  \n",
       "</pre>\n"
      ],
      "text/plain": [
       "\u001B[2;36m                   \u001B[0m\u001B[2;36m \u001B[0m\u001B[34mINFO    \u001B[0m Running \u001B[32m's2i build -E /Users/ankitmishra/Work/mysuper\u001B[0m \u001B]8;id=1647859005.692607-249832;file:///Users/ankitmishra/Work/mysuperai/superai-sdk-private/superai/meta_ai/ai.py\u001B\\\u001B[2mai.py\u001B[0m\u001B]8;;\u001B\\\u001B[2m:1348\u001B[0m\n",
       "                             \u001B[32mai/superai-sdk-private/docs/examples/ai/.AISave/mnist\u001B[0m           \n",
       "                             \u001B[32m_training/1/environment -v \u001B[0m                                     \n",
       "                             \u001B[32m/Users/ankitmishra/.aws:/root/.aws -v \u001B[0m                          \n",
       "                             \u001B[32m/Users/ankitmishra/.superai:/root/.superai -v \u001B[0m                  \n",
       "                             \u001B[32m/Users/ankitmishra/.canotic:/root/.canotic \u001B[0m                     \n",
       "                             \u001B[32m--\u001B[0m\u001B[32mincremental\u001B[0m\u001B[32m=\u001B[0m\u001B[32mTrue\u001B[0m\u001B[32m . mnist_training-pip-layer:1 \u001B[0m                \n",
       "                             \u001B[32mmnist_training:1'\u001B[0m - MainThread                                  \n"
      ]
     },
     "metadata": {},
     "output_type": "display_data"
    },
    {
     "data": {
      "text/html": [
       "<pre style=\"white-space:pre;overflow-x:auto;line-height:normal;font-family:Menlo,'DejaVu Sans Mono',consolas,'Courier New',monospace\"><span style=\"color: #7fbfbf; text-decoration-color: #7fbfbf\">[03/21/22 11:36:46] </span><span style=\"color: #000080; text-decoration-color: #000080\">INFO    </span> Built main container `mnist_training:<span style=\"color: #008080; text-decoration-color: #008080; font-weight: bold\">1</span>` - MainThread  <a href=\"file:///Users/ankitmishra/Work/mysuperai/superai-sdk-private/superai/meta_ai/ai.py\"><span style=\"color: #7f7f7f; text-decoration-color: #7f7f7f\">ai.py</span></a><span style=\"color: #7f7f7f; text-decoration-color: #7f7f7f\">:1290</span>\n",
       "</pre>\n"
      ],
      "text/plain": [
       "\u001B[2;36m[03/21/22 11:36:46]\u001B[0m\u001B[2;36m \u001B[0m\u001B[34mINFO    \u001B[0m Built main container `mnist_training:\u001B[1;36m1\u001B[0m` - MainThread  \u001B]8;id=1647859006.868445-715039;file:///Users/ankitmishra/Work/mysuperai/superai-sdk-private/superai/meta_ai/ai.py\u001B\\\u001B[2mai.py\u001B[0m\u001B]8;;\u001B\\\u001B[2m:1290\u001B[0m\n"
      ]
     },
     "metadata": {},
     "output_type": "display_data"
    },
    {
     "data": {
      "text/html": [
       "<pre style=\"white-space:pre;overflow-x:auto;line-height:normal;font-family:Menlo,'DejaVu Sans Mono',consolas,'Courier New',monospace\"><span style=\"color: #7fbfbf; text-decoration-color: #7fbfbf\">                    </span><span style=\"color: #000080; text-decoration-color: #000080\">INFO    </span> Time taken to build: <span style=\"color: #008080; text-decoration-color: #008080; font-weight: bold\">1.</span>21s - MainThread               <a href=\"file:///Users/ankitmishra/Work/mysuperai/superai-sdk-private/superai/meta_ai/ai.py\"><span style=\"color: #7f7f7f; text-decoration-color: #7f7f7f\">ai.py</span></a><span style=\"color: #7f7f7f; text-decoration-color: #7f7f7f\">:1291</span>\n",
       "</pre>\n"
      ],
      "text/plain": [
       "\u001B[2;36m                   \u001B[0m\u001B[2;36m \u001B[0m\u001B[34mINFO    \u001B[0m Time taken to build: \u001B[1;36m1.\u001B[0m21s - MainThread               \u001B]8;id=1647859006.870785-712948;file:///Users/ankitmishra/Work/mysuperai/superai-sdk-private/superai/meta_ai/ai.py\u001B\\\u001B[2mai.py\u001B[0m\u001B]8;;\u001B\\\u001B[2m:1291\u001B[0m\n"
      ]
     },
     "metadata": {},
     "output_type": "display_data"
    },
    {
     "data": {
      "text/html": [
       "<pre style=\"white-space:pre;overflow-x:auto;line-height:normal;font-family:Menlo,'DejaVu Sans Mono',consolas,'Courier New',monospace\"><span style=\"color: #7fbfbf; text-decoration-color: #7fbfbf\">                    </span><span style=\"color: #000080; text-decoration-color: #000080\">INFO    </span> Found credentials in shared credentials      <a href=\"file:///Users/ankitmishra/miniconda3/envs/superai-sdk/lib/python3.7/site-packages/botocore/credentials.py\"><span style=\"color: #7f7f7f; text-decoration-color: #7f7f7f\">credentials.py</span></a><span style=\"color: #7f7f7f; text-decoration-color: #7f7f7f\">:1217</span>\n",
       "                             file: ~<span style=\"color: #800080; text-decoration-color: #800080\">/.aws/</span><span style=\"color: #ff00ff; text-decoration-color: #ff00ff\">credentials</span> - MainThread                           \n",
       "</pre>\n"
      ],
      "text/plain": [
       "\u001B[2;36m                   \u001B[0m\u001B[2;36m \u001B[0m\u001B[34mINFO    \u001B[0m Found credentials in shared credentials      \u001B]8;id=1647859006.890849-398499;file:///Users/ankitmishra/miniconda3/envs/superai-sdk/lib/python3.7/site-packages/botocore/credentials.py\u001B\\\u001B[2mcredentials.py\u001B[0m\u001B]8;;\u001B\\\u001B[2m:1217\u001B[0m\n",
       "                             file: ~\u001B[35m/.aws/\u001B[0m\u001B[95mcredentials\u001B[0m - MainThread                           \n"
      ]
     },
     "metadata": {},
     "output_type": "display_data"
    },
    {
     "data": {
      "text/html": [
       "<pre style=\"white-space:pre;overflow-x:auto;line-height:normal;font-family:Menlo,'DejaVu Sans Mono',consolas,'Courier New',monospace\"><span style=\"color: #7fbfbf; text-decoration-color: #7fbfbf\">[03/21/22 11:36:47] </span><span style=\"color: #000080; text-decoration-color: #000080\">INFO    </span> Pushing image to ECR: <span style=\"color: #008080; text-decoration-color: #008080; font-weight: bold\">185169359328.</span>dkr.ecr.us-east- <a href=\"file:///Users/ankitmishra/Work/mysuperai/superai-sdk-private/superai/log/logger.py\"><span style=\"color: #7f7f7f; text-decoration-color: #7f7f7f\">logger.py</span></a><span style=\"color: #7f7f7f; text-decoration-color: #7f7f7f\">:85</span>\n",
       "                             <span style=\"color: #008080; text-decoration-color: #008080; font-weight: bold\">1.</span>amazonaws.com/models/dev/<span style=\"color: #ffff00; text-decoration-color: #ffff00\">ca7ef522-e115-4c32-ab91-</span>             \n",
       "                             <span style=\"color: #ffff00; text-decoration-color: #ffff00\">308d218a111b</span>/mnist_training:<span style=\"color: #008080; text-decoration-color: #008080; font-weight: bold\">1</span> - MainThread                      \n",
       "</pre>\n"
      ],
      "text/plain": [
       "\u001B[2;36m[03/21/22 11:36:47]\u001B[0m\u001B[2;36m \u001B[0m\u001B[34mINFO    \u001B[0m Pushing image to ECR: \u001B[1;36m185169359328.\u001B[0mdkr.ecr.us-east- \u001B]8;id=1647859007.8422909-616995;file:///Users/ankitmishra/Work/mysuperai/superai-sdk-private/superai/log/logger.py\u001B\\\u001B[2mlogger.py\u001B[0m\u001B]8;;\u001B\\\u001B[2m:85\u001B[0m\n",
       "                             \u001B[1;36m1.\u001B[0mamazonaws.com/models/dev/\u001B[93mca7ef522-e115-4c32-ab91-\u001B[0m             \n",
       "                             \u001B[93m308d218a111b\u001B[0m/mnist_training:\u001B[1;36m1\u001B[0m - MainThread                      \n"
      ]
     },
     "metadata": {},
     "output_type": "display_data"
    },
    {
     "data": {
      "text/html": [
       "<pre style=\"white-space:pre;overflow-x:auto;line-height:normal;font-family:Menlo,'DejaVu Sans Mono',consolas,'Courier New',monospace\"><span style=\"color: #7fbfbf; text-decoration-color: #7fbfbf\">[03/21/22 11:36:48] </span><span style=\"color: #000080; text-decoration-color: #000080\">INFO    </span> Logging in to ECR<span style=\"color: #808000; text-decoration-color: #808000\">...</span> - MainThread                <a href=\"file:///Users/ankitmishra/Work/mysuperai/superai-sdk-private/superai/meta_ai/dockerizer/__init__.py\"><span style=\"color: #7f7f7f; text-decoration-color: #7f7f7f\">__init__.py</span></a><span style=\"color: #7f7f7f; text-decoration-color: #7f7f7f\">:252</span>\n",
       "</pre>\n"
      ],
      "text/plain": [
       "\u001B[2;36m[03/21/22 11:36:48]\u001B[0m\u001B[2;36m \u001B[0m\u001B[34mINFO    \u001B[0m Logging in to ECR\u001B[33m...\u001B[0m - MainThread                \u001B]8;id=1647859008.386776-802210;file:///Users/ankitmishra/Work/mysuperai/superai-sdk-private/superai/meta_ai/dockerizer/__init__.py\u001B\\\u001B[2m__init__.py\u001B[0m\u001B]8;;\u001B\\\u001B[2m:252\u001B[0m\n"
      ]
     },
     "metadata": {},
     "output_type": "display_data"
    },
    {
     "data": {
      "text/html": [
       "<pre style=\"white-space:pre;overflow-x:auto;line-height:normal;font-family:Menlo,'DejaVu Sans Mono',consolas,'Courier New',monospace\"><span style=\"color: #7fbfbf; text-decoration-color: #7fbfbf\">[03/21/22 11:36:51] </span><span style=\"color: #000080; text-decoration-color: #000080\">INFO    </span> Tagging to `<span style=\"color: #008080; text-decoration-color: #008080; font-weight: bold\">185169359328.</span>dkr.ecr.us-east-<span style=\"color: #008080; text-decoration-color: #008080; font-weight: bold\">1.</span>amazo <a href=\"file:///Users/ankitmishra/Work/mysuperai/superai-sdk-private/superai/meta_ai/dockerizer/__init__.py\"><span style=\"color: #7f7f7f; text-decoration-color: #7f7f7f\">__init__.py</span></a><span style=\"color: #7f7f7f; text-decoration-color: #7f7f7f\">:255</span>\n",
       "                             naws.com/models/dev/<span style=\"color: #ffff00; text-decoration-color: #ffff00\">ca7ef522-e115-4c32-ab91-308d</span>                \n",
       "                             <span style=\"color: #ffff00; text-decoration-color: #ffff00\">218a111b</span>/mnist_training:<span style=\"color: #008080; text-decoration-color: #008080; font-weight: bold\">1</span>` - MainThread                         \n",
       "</pre>\n"
      ],
      "text/plain": [
       "\u001B[2;36m[03/21/22 11:36:51]\u001B[0m\u001B[2;36m \u001B[0m\u001B[34mINFO    \u001B[0m Tagging to `\u001B[1;36m185169359328.\u001B[0mdkr.ecr.us-east-\u001B[1;36m1.\u001B[0mamazo \u001B]8;id=1647859011.06834-452899;file:///Users/ankitmishra/Work/mysuperai/superai-sdk-private/superai/meta_ai/dockerizer/__init__.py\u001B\\\u001B[2m__init__.py\u001B[0m\u001B]8;;\u001B\\\u001B[2m:255\u001B[0m\n",
       "                             naws.com/models/dev/\u001B[93mca7ef522-e115-4c32-ab91-308d\u001B[0m                \n",
       "                             \u001B[93m218a111b\u001B[0m/mnist_training:\u001B[1;36m1\u001B[0m` - MainThread                         \n"
      ]
     },
     "metadata": {},
     "output_type": "display_data"
    },
    {
     "data": {
      "text/html": [
       "<pre style=\"white-space:pre;overflow-x:auto;line-height:normal;font-family:Menlo,'DejaVu Sans Mono',consolas,'Courier New',monospace\"><span style=\"color: #7fbfbf; text-decoration-color: #7fbfbf\">                    </span><span style=\"color: #000080; text-decoration-color: #000080\">INFO    </span> Pushing image<span style=\"color: #808000; text-decoration-color: #808000\">...</span> - MainThread                    <a href=\"file:///Users/ankitmishra/Work/mysuperai/superai-sdk-private/superai/meta_ai/dockerizer/__init__.py\"><span style=\"color: #7f7f7f; text-decoration-color: #7f7f7f\">__init__.py</span></a><span style=\"color: #7f7f7f; text-decoration-color: #7f7f7f\">:258</span>\n",
       "</pre>\n"
      ],
      "text/plain": [
       "\u001B[2;36m                   \u001B[0m\u001B[2;36m \u001B[0m\u001B[34mINFO    \u001B[0m Pushing image\u001B[33m...\u001B[0m - MainThread                    \u001B]8;id=1647859011.0860338-461760;file:///Users/ankitmishra/Work/mysuperai/superai-sdk-private/superai/meta_ai/dockerizer/__init__.py\u001B\\\u001B[2m__init__.py\u001B[0m\u001B]8;;\u001B\\\u001B[2m:258\u001B[0m\n"
      ]
     },
     "metadata": {},
     "output_type": "display_data"
    },
    {
     "data": {
      "application/vnd.jupyter.widget-view+json": {
       "model_id": "79bc55770a0648709d202979c7d3911a",
       "version_major": 2,
       "version_minor": 0
      },
      "text/plain": [
       "Output()"
      ]
     },
     "metadata": {},
     "output_type": "display_data"
    },
    {
     "data": {
      "text/html": [
       "<pre style=\"white-space:pre;overflow-x:auto;line-height:normal;font-family:Menlo,'DejaVu Sans Mono',consolas,'Courier New',monospace\"><span style=\"color: #7fbfbf; text-decoration-color: #7fbfbf\">[03/21/22 11:36:58] </span><span style=\"color: #000080; text-decoration-color: #000080\">INFO    </span>  Image pushed successfully to <span style=\"color: #008080; text-decoration-color: #008080; font-weight: bold\">185169359328.</span>dkr.e <a href=\"file:///Users/ankitmishra/Work/mysuperai/superai-sdk-private/superai/meta_ai/dockerizer/__init__.py\"><span style=\"color: #7f7f7f; text-decoration-color: #7f7f7f\">__init__.py</span></a><span style=\"color: #7f7f7f; text-decoration-color: #7f7f7f\">:297</span>\n",
       "                             cr.us-east-<span style=\"color: #008080; text-decoration-color: #008080; font-weight: bold\">1.</span>amazonaws.com/models/dev/<span style=\"color: #ffff00; text-decoration-color: #ffff00\">ca7ef522-e</span>                \n",
       "                             <span style=\"color: #ffff00; text-decoration-color: #ffff00\">115-4c32-ab91-308d218a111b</span>/mnist_training:<span style=\"color: #008080; text-decoration-color: #008080; font-weight: bold\">1</span>  -                  \n",
       "                             MainThread                                                      \n",
       "</pre>\n"
      ],
      "text/plain": [
       "\u001B[2;36m[03/21/22 11:36:58]\u001B[0m\u001B[2;36m \u001B[0m\u001B[34mINFO    \u001B[0m  Image pushed successfully to \u001B[1;36m185169359328.\u001B[0mdkr.e \u001B]8;id=1647859018.30742-760866;file:///Users/ankitmishra/Work/mysuperai/superai-sdk-private/superai/meta_ai/dockerizer/__init__.py\u001B\\\u001B[2m__init__.py\u001B[0m\u001B]8;;\u001B\\\u001B[2m:297\u001B[0m\n",
       "                             cr.us-east-\u001B[1;36m1.\u001B[0mamazonaws.com/models/dev/\u001B[93mca7ef522-e\u001B[0m                \n",
       "                             \u001B[93m115-4c32-ab91-308d218a111b\u001B[0m/mnist_training:\u001B[1;36m1\u001B[0m  -                  \n",
       "                             MainThread                                                      \n"
      ]
     },
     "metadata": {},
     "output_type": "display_data"
    },
    {
     "data": {
      "text/html": [
       "<pre style=\"white-space:pre;overflow-x:auto;line-height:normal;font-family:Menlo,'DejaVu Sans Mono',consolas,'Courier New',monospace\"><span style=\"color: #7fbfbf; text-decoration-color: #7fbfbf\">[03/21/22 11:36:59] </span><span style=\"color: #000080; text-decoration-color: #000080\">INFO    </span> Found existing template <span style=\"font-weight: bold\">[</span>meta_ai_training_template<span style=\"font-weight: bold\">(</span><span style=\"color: #808000; text-decoration-color: #808000\">id</span>= <a href=\"file:///Users/ankitmishra/Work/mysuperai/superai-sdk-private/superai/meta_ai/ai.py\"><span style=\"color: #7f7f7f; text-decoration-color: #7f7f7f\">ai.py</span></a><span style=\"color: #7f7f7f; text-decoration-color: #7f7f7f\">:329</span>\n",
       "                             <span style=\"color: #008000; text-decoration-color: #008000\">'9789481b-9fc3-461c-b5dc-2c486e70b4a4'</span>,                         \n",
       "                             <span style=\"color: #808000; text-decoration-color: #808000\">properties</span>=<span style=\"color: #008000; text-decoration-color: #008000\">'{}'</span>,                                                \n",
       "                             <span style=\"color: #808000; text-decoration-color: #808000\">created_at</span>=<span style=\"color: #008000; text-decoration-color: #008000\">'2022-03-14T15:15:28.930547+00:00'</span><span style=\"font-weight: bold\">)]</span> -               \n",
       "                             MainThread                                                      \n",
       "</pre>\n"
      ],
      "text/plain": [
       "\u001B[2;36m[03/21/22 11:36:59]\u001B[0m\u001B[2;36m \u001B[0m\u001B[34mINFO    \u001B[0m Found existing template \u001B[1m[\u001B[0mmeta_ai_training_template\u001B[1m(\u001B[0m\u001B[33mid\u001B[0m= \u001B]8;id=1647859019.7574039-921471;file:///Users/ankitmishra/Work/mysuperai/superai-sdk-private/superai/meta_ai/ai.py\u001B\\\u001B[2mai.py\u001B[0m\u001B]8;;\u001B\\\u001B[2m:329\u001B[0m\n",
       "                             \u001B[32m'9789481b-9fc3-461c-b5dc-2c486e70b4a4'\u001B[0m,                         \n",
       "                             \u001B[33mproperties\u001B[0m=\u001B[32m'{}'\u001B[0m,                                                \n",
       "                             \u001B[33mcreated_at\u001B[0m=\u001B[32m'2022-03-14T15:15:28.930547+00:00'\u001B[0m\u001B[1m)\u001B[0m\u001B[1m]\u001B[0m -               \n",
       "                             MainThread                                                      \n"
      ]
     },
     "metadata": {},
     "output_type": "display_data"
    },
    {
     "data": {
      "text/html": [
       "<pre style=\"white-space:pre;overflow-x:auto;line-height:normal;font-family:Menlo,'DejaVu Sans Mono',consolas,'Courier New',monospace\"><span style=\"color: #7fbfbf; text-decoration-color: #7fbfbf\">[03/21/22 11:37:01] </span><span style=\"color: #000080; text-decoration-color: #000080\">INFO    </span> Created training instance <span style=\"font-weight: bold\">{</span><span style=\"color: #008000; text-decoration-color: #008000\">'data'</span>:                  <a href=\"file:///Users/ankitmishra/Work/mysuperai/superai-sdk-private/superai/apis/meta_ai/model.py\"><span style=\"color: #7f7f7f; text-decoration-color: #7f7f7f\">model.py</span></a><span style=\"color: #7f7f7f; text-decoration-color: #7f7f7f\">:855</span>\n",
       "                             <span style=\"font-weight: bold\">{</span><span style=\"color: #008000; text-decoration-color: #008000\">'insert_meta_ai_training_instance_one'</span>: <span style=\"font-weight: bold\">{</span><span style=\"color: #008000; text-decoration-color: #008000\">'id'</span>:                 \n",
       "                             <span style=\"color: #008000; text-decoration-color: #008000\">'8c112110-9127-4235-b4b6-74d88c6ddcb1'</span><span style=\"font-weight: bold\">}}}</span> -                     \n",
       "                             MainThread                                                      \n",
       "</pre>\n"
      ],
      "text/plain": [
       "\u001B[2;36m[03/21/22 11:37:01]\u001B[0m\u001B[2;36m \u001B[0m\u001B[34mINFO    \u001B[0m Created training instance \u001B[1m{\u001B[0m\u001B[32m'data'\u001B[0m:                  \u001B]8;id=1647859021.3445802-266202;file:///Users/ankitmishra/Work/mysuperai/superai-sdk-private/superai/apis/meta_ai/model.py\u001B\\\u001B[2mmodel.py\u001B[0m\u001B]8;;\u001B\\\u001B[2m:855\u001B[0m\n",
       "                             \u001B[1m{\u001B[0m\u001B[32m'insert_meta_ai_training_instance_one'\u001B[0m: \u001B[1m{\u001B[0m\u001B[32m'id'\u001B[0m:                 \n",
       "                             \u001B[32m'8c112110-9127-4235-b4b6-74d88c6ddcb1'\u001B[0m\u001B[1m}\u001B[0m\u001B[1m}\u001B[0m\u001B[1m}\u001B[0m -                     \n",
       "                             MainThread                                                      \n"
      ]
     },
     "metadata": {},
     "output_type": "display_data"
    },
    {
     "data": {
      "text/html": [
       "<pre style=\"white-space:pre;overflow-x:auto;line-height:normal;font-family:Menlo,'DejaVu Sans Mono',consolas,'Courier New',monospace\"><span style=\"color: #7fbfbf; text-decoration-color: #7fbfbf\">                    </span><span style=\"color: #000080; text-decoration-color: #000080\">INFO    </span> Create training instance :                            <a href=\"file:///Users/ankitmishra/Work/mysuperai/superai-sdk-private/superai/meta_ai/ai.py\"><span style=\"color: #7f7f7f; text-decoration-color: #7f7f7f\">ai.py</span></a><span style=\"color: #7f7f7f; text-decoration-color: #7f7f7f\">:1531</span>\n",
       "                             <span style=\"color: #ffff00; text-decoration-color: #ffff00\">8c112110-9127-4235-b4b6-74d88c6ddcb1</span> - MainThread               \n",
       "</pre>\n"
      ],
      "text/plain": [
       "\u001B[2;36m                   \u001B[0m\u001B[2;36m \u001B[0m\u001B[34mINFO    \u001B[0m Create training instance :                            \u001B]8;id=1647859021.347361-968085;file:///Users/ankitmishra/Work/mysuperai/superai-sdk-private/superai/meta_ai/ai.py\u001B\\\u001B[2mai.py\u001B[0m\u001B]8;;\u001B\\\u001B[2m:1531\u001B[0m\n",
       "                             \u001B[93m8c112110-9127-4235-b4b6-74d88c6ddcb1\u001B[0m - MainThread               \n"
      ]
     },
     "metadata": {},
     "output_type": "display_data"
    }
   ],
   "source": [
    "ai.training_deploy(\n",
    "    orchestrator=TrainingOrchestrator.AWS_EKS,\n",
    "    training_parameters=TrainingParameters(\n",
    "        model_save_path=\"/tmp\", training_data=\"/tmp\",\n",
    "        hyperparameters=HyperParameterSpec(\n",
    "            trainable=True,\n",
    "            optimizer=\"adam\",\n",
    "            log_learning_rate=-3,\n",
    "            epochs=10\n",
    "        ),\n",
    "        model_parameter=ModelParameters(\n",
    "            conv1_size=32,\n",
    "            conv2_size=64,\n",
    "            hidden1_size=500,\n",
    "            dropout=0.8\n",
    "        ),\n",
    "    )\n",
    ")"
   ]
  },
  {
   "cell_type": "markdown",
   "metadata": {
    "pycharm": {
     "name": "#%% md\n"
    }
   },
   "source": [
    "This should start a training job. We will be adding features to monitor the training progress soon."
   ]
  },
  {
   "cell_type": "code",
   "execution_count": 4,
   "metadata": {
    "pycharm": {
     "name": "#%%\n"
    }
   },
   "outputs": [],
   "source": [
    "if os.path.exists(\".AISave/intel_image_classification\"):\n",
    "    shutil.rmtree(\".AISave/intel_image_classification\")"
   ]
  },
  {
   "cell_type": "code",
   "execution_count": 5,
   "metadata": {
    "pycharm": {
     "name": "#%%\n"
    }
   },
   "outputs": [
    {
     "data": {
      "text/html": [
       "<pre style=\"white-space:pre;overflow-x:auto;line-height:normal;font-family:Menlo,'DejaVu Sans Mono',consolas,'Courier New',monospace\"><span style=\"color: #7fbfbf; text-decoration-color: #7fbfbf\">[04/27/22 11:51:51] </span><span style=\"color: #000080; text-decoration-color: #000080\">INFO    </span> Copying all code_path content - MainThread             <a href=\"file:///Users/ankitmishra/Work/mysuperai/superai-sdk-private/superai/meta_ai/ai.py\"><span style=\"color: #7f7f7f; text-decoration-color: #7f7f7f\">ai.py</span></a><span style=\"color: #7f7f7f; text-decoration-color: #7f7f7f\">:274</span>\n",
       "</pre>\n"
      ],
      "text/plain": [
       "\u001B[2;36m[04/27/22 11:51:51]\u001B[0m\u001B[2;36m \u001B[0m\u001B[34mINFO    \u001B[0m Copying all code_path content - MainThread             \u001B]8;id=1651053111.623428-170704;file:///Users/ankitmishra/Work/mysuperai/superai-sdk-private/superai/meta_ai/ai.py\u001B\\\u001B[2mai.py\u001B[0m\u001B]8;;\u001B\\\u001B[2m:274\u001B[0m\n"
      ]
     },
     "metadata": {},
     "output_type": "display_data"
    },
    {
     "data": {
      "text/html": [
       "<pre style=\"white-space:pre;overflow-x:auto;line-height:normal;font-family:Menlo,'DejaVu Sans Mono',consolas,'Courier New',monospace\"><span style=\"color: #7fbfbf; text-decoration-color: #7fbfbf\">                    </span><span style=\"color: #000080; text-decoration-color: #000080\">INFO    </span> Saved model in .AISave/intel_image_classification/<span style=\"color: #008080; text-decoration-color: #008080; font-weight: bold\">1</span> -  <a href=\"file:///Users/ankitmishra/Work/mysuperai/superai-sdk-private/superai/meta_ai/ai.py\"><span style=\"color: #7f7f7f; text-decoration-color: #7f7f7f\">ai.py</span></a><span style=\"color: #7f7f7f; text-decoration-color: #7f7f7f\">:880</span>\n",
       "                             MainThread                                                      \n",
       "</pre>\n"
      ],
      "text/plain": [
       "\u001B[2;36m                   \u001B[0m\u001B[2;36m \u001B[0m\u001B[34mINFO    \u001B[0m Saved model in .AISave/intel_image_classification/\u001B[1;36m1\u001B[0m -  \u001B]8;id=1651053111.639615-524074;file:///Users/ankitmishra/Work/mysuperai/superai-sdk-private/superai/meta_ai/ai.py\u001B\\\u001B[2mai.py\u001B[0m\u001B]8;;\u001B\\\u001B[2m:880\u001B[0m\n",
       "                             MainThread                                                      \n"
      ]
     },
     "metadata": {},
     "output_type": "display_data"
    }
   ],
   "source": [
    "template = AITemplate(\n",
    "    input_schema=Schema(),\n",
    "    output_schema=Schema(),\n",
    "    configuration=Config(),\n",
    "    name=\"IntelImageClassificationTemplate\",\n",
    "    description=\"Template of Sample MNIST training\",\n",
    "    model_class=\"IntelImageClassification\",\n",
    "    requirements=[\n",
    "        \"tensorflow-gpu==2.3.0\", \n",
    "        \"polyaxon[s3]\", \n",
    "        \"scikit-learn\", \n",
    "        \"tqdm\", \n",
    "        \"opencv-python-headless\", \n",
    "        \"aiobotocore==2.2.0\", \n",
    "        \"aioitertools==0.10.0\", \n",
    "        \"botocore==1.24.21\"\n",
    "    ],\n",
    "    artifacts={\"run\": \"resources/runDir/run_this.sh\"},\n",
    "    code_path=[\"resources/runDir\"],\n",
    ")\n",
    "ai = AI(\n",
    "    ai_template=template,\n",
    "    input_params=template.input_schema.parameters(),\n",
    "    output_params=template.output_schema.parameters(),\n",
    "    name=\"intel_image_classification\",\n",
    "    version=1,\n",
    "    description=\"AI instance of sample MNIST training\",\n",
    "    app_id=\"c1bed1ac-6418-40e3-9ce0-15a17d1bc38c\",\n",
    ")"
   ]
  },
  {
   "cell_type": "code",
   "execution_count": 6,
   "metadata": {
    "pycharm": {
     "name": "#%%\n"
    }
   },
   "outputs": [
    {
     "data": {
      "text/html": [
       "<pre style=\"white-space:pre;overflow-x:auto;line-height:normal;font-family:Menlo,'DejaVu Sans Mono',consolas,'Courier New',monospace\"><span style=\"color: #7fbfbf; text-decoration-color: #7fbfbf\">[04/27/22 11:51:53] </span><span style=\"color: #800000; text-decoration-color: #800000\">WARNING </span> Model already exists in the DB and overwrite is not    <a href=\"file:///Users/ankitmishra/Work/mysuperai/superai-sdk-private/superai/meta_ai/ai.py\"><span style=\"color: #7f7f7f; text-decoration-color: #7f7f7f\">ai.py</span></a><span style=\"color: #7f7f7f; text-decoration-color: #7f7f7f\">:923</span>\n",
       "                             set. - MainThread                                               \n",
       "</pre>\n"
      ],
      "text/plain": [
       "\u001B[2;36m[04/27/22 11:51:53]\u001B[0m\u001B[2;36m \u001B[0m\u001B[31mWARNING \u001B[0m Model already exists in the DB and overwrite is not    \u001B]8;id=1651053113.6739771-812519;file:///Users/ankitmishra/Work/mysuperai/superai-sdk-private/superai/meta_ai/ai.py\u001B\\\u001B[2mai.py\u001B[0m\u001B]8;;\u001B\\\u001B[2m:923\u001B[0m\n",
       "                             set. - MainThread                                               \n"
      ]
     },
     "metadata": {},
     "output_type": "display_data"
    },
    {
     "data": {
      "text/plain": [
       "'5d03ae31-5b69-4cc1-818b-ec20ae55b8b7'"
      ]
     },
     "execution_count": 6,
     "metadata": {},
     "output_type": "execute_result"
    }
   ],
   "source": [
    "ai.push()"
   ]
  },
  {
   "cell_type": "code",
   "execution_count": 9,
   "metadata": {
    "pycharm": {
     "name": "#%%\n"
    }
   },
   "outputs": [
    {
     "data": {
      "text/html": [
       "<pre style=\"white-space:pre;overflow-x:auto;line-height:normal;font-family:Menlo,'DejaVu Sans Mono',consolas,'Courier New',monospace\"><span style=\"color: #7fbfbf; text-decoration-color: #7fbfbf\">[04/27/22 12:57:44] </span><span style=\"color: #000080; text-decoration-color: #000080\">INFO    </span> Base image                                            <a href=\"file:///Users/ankitmishra/Work/mysuperai/superai-sdk-private/superai/meta_ai/ai.py\"><span style=\"color: #7f7f7f; text-decoration-color: #7f7f7f\">ai.py</span></a><span style=\"color: #7f7f7f; text-decoration-color: #7f7f7f\">:1269</span>\n",
       "                             <span style=\"color: #008000; text-decoration-color: #008000\">'superai-model-s2i-python3711-cpu-seldon:1'</span> found               \n",
       "                             locally. - MainThread                                           \n",
       "</pre>\n"
      ],
      "text/plain": [
       "\u001B[2;36m[04/27/22 12:57:44]\u001B[0m\u001B[2;36m \u001B[0m\u001B[34mINFO    \u001B[0m Base image                                            \u001B]8;id=1651057064.450716-837191;file:///Users/ankitmishra/Work/mysuperai/superai-sdk-private/superai/meta_ai/ai.py\u001B\\\u001B[2mai.py\u001B[0m\u001B]8;;\u001B\\\u001B[2m:1269\u001B[0m\n",
       "                             \u001B[32m'superai-model-s2i-python3711-cpu-seldon:1'\u001B[0m found               \n",
       "                             locally. - MainThread                                           \n"
      ]
     },
     "metadata": {},
     "output_type": "display_data"
    },
    {
     "data": {
      "text/html": [
       "<pre style=\"white-space:pre;overflow-x:auto;line-height:normal;font-family:Menlo,'DejaVu Sans Mono',consolas,'Courier New',monospace\"><span style=\"color: #7fbfbf; text-decoration-color: #7fbfbf\">                    </span><span style=\"color: #000080; text-decoration-color: #000080\">INFO    </span> No change in pip layer. Reusing old layers from image <a href=\"file:///Users/ankitmishra/Work/mysuperai/superai-sdk-private/superai/meta_ai/ai.py\"><span style=\"color: #7f7f7f; text-decoration-color: #7f7f7f\">ai.py</span></a><span style=\"color: #7f7f7f; text-decoration-color: #7f7f7f\">:1284</span>\n",
       "                             sh<span style=\"color: #00ff00; text-decoration-color: #00ff00; font-weight: bold\">a256:9137</span>84aec97b8a0dc3fa179bad9a964d7277d9041f9c90           \n",
       "                             b98b59ffb562e786ba<span style=\"color: #808000; text-decoration-color: #808000\">...</span> - MainThread                              \n",
       "</pre>\n"
      ],
      "text/plain": [
       "\u001B[2;36m                   \u001B[0m\u001B[2;36m \u001B[0m\u001B[34mINFO    \u001B[0m No change in pip layer. Reusing old layers from image \u001B]8;id=1651057064.464519-393705;file:///Users/ankitmishra/Work/mysuperai/superai-sdk-private/superai/meta_ai/ai.py\u001B\\\u001B[2mai.py\u001B[0m\u001B]8;;\u001B\\\u001B[2m:1284\u001B[0m\n",
       "                             sh\u001B[1;92ma256:9137\u001B[0m84aec97b8a0dc3fa179bad9a964d7277d9041f9c90           \n",
       "                             b98b59ffb562e786ba\u001B[33m...\u001B[0m - MainThread                              \n"
      ]
     },
     "metadata": {},
     "output_type": "display_data"
    },
    {
     "data": {
      "text/html": [
       "<pre style=\"white-space:pre;overflow-x:auto;line-height:normal;font-family:Menlo,'DejaVu Sans Mono',consolas,'Courier New',monospace\"><span style=\"color: #7fbfbf; text-decoration-color: #7fbfbf\">                    </span><span style=\"color: #000080; text-decoration-color: #000080\">INFO    </span> Running <span style=\"color: #008000; text-decoration-color: #008000\">'s2i build -E /Users/ankitmishra/Work/mysuper</span> <a href=\"file:///Users/ankitmishra/Work/mysuperai/superai-sdk-private/superai/meta_ai/ai.py\"><span style=\"color: #7f7f7f; text-decoration-color: #7f7f7f\">ai.py</span></a><span style=\"color: #7f7f7f; text-decoration-color: #7f7f7f\">:1359</span>\n",
       "                             <span style=\"color: #008000; text-decoration-color: #008000\">ai/superai-sdk-private/docs/examples/ai/.AISave/intel</span>           \n",
       "                             <span style=\"color: #008000; text-decoration-color: #008000\">_image_classification/1/environment -v </span>                         \n",
       "                             <span style=\"color: #008000; text-decoration-color: #008000\">/Users/ankitmishra/.aws:/root/.aws -v </span>                          \n",
       "                             <span style=\"color: #008000; text-decoration-color: #008000\">/Users/ankitmishra/.superai:/root/.superai -v </span>                  \n",
       "                             <span style=\"color: #008000; text-decoration-color: #008000\">/Users/ankitmishra/.canotic:/root/.canotic </span>                     \n",
       "                             <span style=\"color: #008000; text-decoration-color: #008000\">--incremental=True . </span>                                           \n",
       "                             <span style=\"color: #008000; text-decoration-color: #008000\">intel_image_classification-pip-layer:1 </span>                         \n",
       "                             <span style=\"color: #008000; text-decoration-color: #008000\">intel_image_classification:1'</span> - MainThread                      \n",
       "</pre>\n"
      ],
      "text/plain": [
       "\u001B[2;36m                   \u001B[0m\u001B[2;36m \u001B[0m\u001B[34mINFO    \u001B[0m Running \u001B[32m's2i build -E /Users/ankitmishra/Work/mysuper\u001B[0m \u001B]8;id=1651057064.470716-632449;file:///Users/ankitmishra/Work/mysuperai/superai-sdk-private/superai/meta_ai/ai.py\u001B\\\u001B[2mai.py\u001B[0m\u001B]8;;\u001B\\\u001B[2m:1359\u001B[0m\n",
       "                             \u001B[32mai/superai-sdk-private/docs/examples/ai/.AISave/intel\u001B[0m           \n",
       "                             \u001B[32m_image_classification/1/environment -v \u001B[0m                         \n",
       "                             \u001B[32m/Users/ankitmishra/.aws:/root/.aws -v \u001B[0m                          \n",
       "                             \u001B[32m/Users/ankitmishra/.superai:/root/.superai -v \u001B[0m                  \n",
       "                             \u001B[32m/Users/ankitmishra/.canotic:/root/.canotic \u001B[0m                     \n",
       "                             \u001B[32m--\u001B[0m\u001B[32mincremental\u001B[0m\u001B[32m=\u001B[0m\u001B[32mTrue\u001B[0m\u001B[32m . \u001B[0m                                           \n",
       "                             \u001B[32mintel_image_classification-pip-layer:1 \u001B[0m                         \n",
       "                             \u001B[32mintel_image_classification:1'\u001B[0m - MainThread                      \n"
      ]
     },
     "metadata": {},
     "output_type": "display_data"
    },
    {
     "data": {
      "text/html": [
       "<pre style=\"white-space:pre;overflow-x:auto;line-height:normal;font-family:Menlo,'DejaVu Sans Mono',consolas,'Courier New',monospace\"><span style=\"color: #7fbfbf; text-decoration-color: #7fbfbf\">[04/27/22 12:57:45] </span><span style=\"color: #000080; text-decoration-color: #000080\">INFO    </span> Built main container `intel_image_classification:<span style=\"color: #008080; text-decoration-color: #008080; font-weight: bold\">1</span>` - <a href=\"file:///Users/ankitmishra/Work/mysuperai/superai-sdk-private/superai/meta_ai/ai.py\"><span style=\"color: #7f7f7f; text-decoration-color: #7f7f7f\">ai.py</span></a><span style=\"color: #7f7f7f; text-decoration-color: #7f7f7f\">:1306</span>\n",
       "                             MainThread                                                      \n",
       "</pre>\n"
      ],
      "text/plain": [
       "\u001B[2;36m[04/27/22 12:57:45]\u001B[0m\u001B[2;36m \u001B[0m\u001B[34mINFO    \u001B[0m Built main container `intel_image_classification:\u001B[1;36m1\u001B[0m` - \u001B]8;id=1651057065.922623-596646;file:///Users/ankitmishra/Work/mysuperai/superai-sdk-private/superai/meta_ai/ai.py\u001B\\\u001B[2mai.py\u001B[0m\u001B]8;;\u001B\\\u001B[2m:1306\u001B[0m\n",
       "                             MainThread                                                      \n"
      ]
     },
     "metadata": {},
     "output_type": "display_data"
    },
    {
     "data": {
      "text/html": [
       "<pre style=\"white-space:pre;overflow-x:auto;line-height:normal;font-family:Menlo,'DejaVu Sans Mono',consolas,'Courier New',monospace\"><span style=\"color: #7fbfbf; text-decoration-color: #7fbfbf\">                    </span><span style=\"color: #000080; text-decoration-color: #000080\">INFO    </span> Time taken to build: <span style=\"color: #008080; text-decoration-color: #008080; font-weight: bold\">1.</span>51s - MainThread               <a href=\"file:///Users/ankitmishra/Work/mysuperai/superai-sdk-private/superai/meta_ai/ai.py\"><span style=\"color: #7f7f7f; text-decoration-color: #7f7f7f\">ai.py</span></a><span style=\"color: #7f7f7f; text-decoration-color: #7f7f7f\">:1307</span>\n",
       "</pre>\n"
      ],
      "text/plain": [
       "\u001B[2;36m                   \u001B[0m\u001B[2;36m \u001B[0m\u001B[34mINFO    \u001B[0m Time taken to build: \u001B[1;36m1.\u001B[0m51s - MainThread               \u001B]8;id=1651057065.927197-517964;file:///Users/ankitmishra/Work/mysuperai/superai-sdk-private/superai/meta_ai/ai.py\u001B\\\u001B[2mai.py\u001B[0m\u001B]8;;\u001B\\\u001B[2m:1307\u001B[0m\n"
      ]
     },
     "metadata": {},
     "output_type": "display_data"
    },
    {
     "data": {
      "text/html": [
       "<pre style=\"white-space:pre;overflow-x:auto;line-height:normal;font-family:Menlo,'DejaVu Sans Mono',consolas,'Courier New',monospace\"><span style=\"color: #7fbfbf; text-decoration-color: #7fbfbf\">                    </span><span style=\"color: #000080; text-decoration-color: #000080\">INFO    </span> Found credentials in shared credentials      <a href=\"file:///Users/ankitmishra/miniconda3/envs/superai-sdk/lib/python3.7/site-packages/botocore/credentials.py\"><span style=\"color: #7f7f7f; text-decoration-color: #7f7f7f\">credentials.py</span></a><span style=\"color: #7f7f7f; text-decoration-color: #7f7f7f\">:1217</span>\n",
       "                             file: ~<span style=\"color: #800080; text-decoration-color: #800080\">/.aws/</span><span style=\"color: #ff00ff; text-decoration-color: #ff00ff\">credentials</span> - MainThread                           \n",
       "</pre>\n"
      ],
      "text/plain": [
       "\u001B[2;36m                   \u001B[0m\u001B[2;36m \u001B[0m\u001B[34mINFO    \u001B[0m Found credentials in shared credentials      \u001B]8;id=1651057065.9628842-392220;file:///Users/ankitmishra/miniconda3/envs/superai-sdk/lib/python3.7/site-packages/botocore/credentials.py\u001B\\\u001B[2mcredentials.py\u001B[0m\u001B]8;;\u001B\\\u001B[2m:1217\u001B[0m\n",
       "                             file: ~\u001B[35m/.aws/\u001B[0m\u001B[95mcredentials\u001B[0m - MainThread                           \n"
      ]
     },
     "metadata": {},
     "output_type": "display_data"
    },
    {
     "data": {
      "text/html": [
       "<pre style=\"white-space:pre;overflow-x:auto;line-height:normal;font-family:Menlo,'DejaVu Sans Mono',consolas,'Courier New',monospace\"><span style=\"color: #7fbfbf; text-decoration-color: #7fbfbf\">[04/27/22 12:57:46] </span><span style=\"color: #000080; text-decoration-color: #000080\">INFO    </span> Pushing image to ECR: <span style=\"color: #008080; text-decoration-color: #008080; font-weight: bold\">161853812624.</span>dkr.ecr.us-east- <a href=\"file:///Users/ankitmishra/Work/mysuperai/superai-sdk-private/superai/log/logger.py\"><span style=\"color: #7f7f7f; text-decoration-color: #7f7f7f\">logger.py</span></a><span style=\"color: #7f7f7f; text-decoration-color: #7f7f7f\">:85</span>\n",
       "                             <span style=\"color: #008080; text-decoration-color: #008080; font-weight: bold\">1.</span>amazonaws.com/models/dev/<span style=\"color: #ffff00; text-decoration-color: #ffff00\">5d03ae31-5b69-4cc1-818b-</span>             \n",
       "                             <span style=\"color: #ffff00; text-decoration-color: #ffff00\">ec20ae55b8b7</span>/intel_image_classification:<span style=\"color: #008080; text-decoration-color: #008080; font-weight: bold\">1</span> -                     \n",
       "                             MainThread                                                      \n",
       "</pre>\n"
      ],
      "text/plain": [
       "\u001B[2;36m[04/27/22 12:57:46]\u001B[0m\u001B[2;36m \u001B[0m\u001B[34mINFO    \u001B[0m Pushing image to ECR: \u001B[1;36m161853812624.\u001B[0mdkr.ecr.us-east- \u001B]8;id=1651057066.900002-589908;file:///Users/ankitmishra/Work/mysuperai/superai-sdk-private/superai/log/logger.py\u001B\\\u001B[2mlogger.py\u001B[0m\u001B]8;;\u001B\\\u001B[2m:85\u001B[0m\n",
       "                             \u001B[1;36m1.\u001B[0mamazonaws.com/models/dev/\u001B[93m5d03ae31-5b69-4cc1-818b-\u001B[0m             \n",
       "                             \u001B[93mec20ae55b8b7\u001B[0m/intel_image_classification:\u001B[1;36m1\u001B[0m -                     \n",
       "                             MainThread                                                      \n"
      ]
     },
     "metadata": {},
     "output_type": "display_data"
    },
    {
     "data": {
      "text/html": [
       "<pre style=\"white-space:pre;overflow-x:auto;line-height:normal;font-family:Menlo,'DejaVu Sans Mono',consolas,'Courier New',monospace\"><span style=\"color: #7fbfbf; text-decoration-color: #7fbfbf\">[04/27/22 12:57:47] </span><span style=\"color: #000080; text-decoration-color: #000080\">INFO    </span> Logging in to ECR<span style=\"color: #808000; text-decoration-color: #808000\">...</span> - MainThread                <a href=\"file:///Users/ankitmishra/Work/mysuperai/superai-sdk-private/superai/meta_ai/dockerizer/__init__.py\"><span style=\"color: #7f7f7f; text-decoration-color: #7f7f7f\">__init__.py</span></a><span style=\"color: #7f7f7f; text-decoration-color: #7f7f7f\">:252</span>\n",
       "</pre>\n"
      ],
      "text/plain": [
       "\u001B[2;36m[04/27/22 12:57:47]\u001B[0m\u001B[2;36m \u001B[0m\u001B[34mINFO    \u001B[0m Logging in to ECR\u001B[33m...\u001B[0m - MainThread                \u001B]8;id=1651057067.368403-645652;file:///Users/ankitmishra/Work/mysuperai/superai-sdk-private/superai/meta_ai/dockerizer/__init__.py\u001B\\\u001B[2m__init__.py\u001B[0m\u001B]8;;\u001B\\\u001B[2m:252\u001B[0m\n"
      ]
     },
     "metadata": {},
     "output_type": "display_data"
    },
    {
     "data": {
      "text/html": [
       "<pre style=\"white-space:pre;overflow-x:auto;line-height:normal;font-family:Menlo,'DejaVu Sans Mono',consolas,'Courier New',monospace\"><span style=\"color: #7fbfbf; text-decoration-color: #7fbfbf\">[04/27/22 12:57:50] </span><span style=\"color: #000080; text-decoration-color: #000080\">INFO    </span> Tagging to `<span style=\"color: #008080; text-decoration-color: #008080; font-weight: bold\">161853812624.</span>dkr.ecr.us-east-<span style=\"color: #008080; text-decoration-color: #008080; font-weight: bold\">1.</span>amazo <a href=\"file:///Users/ankitmishra/Work/mysuperai/superai-sdk-private/superai/meta_ai/dockerizer/__init__.py\"><span style=\"color: #7f7f7f; text-decoration-color: #7f7f7f\">__init__.py</span></a><span style=\"color: #7f7f7f; text-decoration-color: #7f7f7f\">:255</span>\n",
       "                             naws.com/models/dev/<span style=\"color: #ffff00; text-decoration-color: #ffff00\">5d03ae31-5b69-4cc1-818b-ec20</span>                \n",
       "                             <span style=\"color: #ffff00; text-decoration-color: #ffff00\">ae55b8b7</span>/intel_image_classification:<span style=\"color: #008080; text-decoration-color: #008080; font-weight: bold\">1</span>` -                        \n",
       "                             MainThread                                                      \n",
       "</pre>\n"
      ],
      "text/plain": [
       "\u001B[2;36m[04/27/22 12:57:50]\u001B[0m\u001B[2;36m \u001B[0m\u001B[34mINFO    \u001B[0m Tagging to `\u001B[1;36m161853812624.\u001B[0mdkr.ecr.us-east-\u001B[1;36m1.\u001B[0mamazo \u001B]8;id=1651057070.954767-258627;file:///Users/ankitmishra/Work/mysuperai/superai-sdk-private/superai/meta_ai/dockerizer/__init__.py\u001B\\\u001B[2m__init__.py\u001B[0m\u001B]8;;\u001B\\\u001B[2m:255\u001B[0m\n",
       "                             naws.com/models/dev/\u001B[93m5d03ae31-5b69-4cc1-818b-ec20\u001B[0m                \n",
       "                             \u001B[93mae55b8b7\u001B[0m/intel_image_classification:\u001B[1;36m1\u001B[0m` -                        \n",
       "                             MainThread                                                      \n"
      ]
     },
     "metadata": {},
     "output_type": "display_data"
    },
    {
     "data": {
      "text/html": [
       "<pre style=\"white-space:pre;overflow-x:auto;line-height:normal;font-family:Menlo,'DejaVu Sans Mono',consolas,'Courier New',monospace\"><span style=\"color: #7fbfbf; text-decoration-color: #7fbfbf\">                    </span><span style=\"color: #000080; text-decoration-color: #000080\">INFO    </span> Pushing image<span style=\"color: #808000; text-decoration-color: #808000\">...</span> - MainThread                    <a href=\"file:///Users/ankitmishra/Work/mysuperai/superai-sdk-private/superai/meta_ai/dockerizer/__init__.py\"><span style=\"color: #7f7f7f; text-decoration-color: #7f7f7f\">__init__.py</span></a><span style=\"color: #7f7f7f; text-decoration-color: #7f7f7f\">:258</span>\n",
       "</pre>\n"
      ],
      "text/plain": [
       "\u001B[2;36m                   \u001B[0m\u001B[2;36m \u001B[0m\u001B[34mINFO    \u001B[0m Pushing image\u001B[33m...\u001B[0m - MainThread                    \u001B]8;id=1651057070.977956-514354;file:///Users/ankitmishra/Work/mysuperai/superai-sdk-private/superai/meta_ai/dockerizer/__init__.py\u001B\\\u001B[2m__init__.py\u001B[0m\u001B]8;;\u001B\\\u001B[2m:258\u001B[0m\n"
      ]
     },
     "metadata": {},
     "output_type": "display_data"
    },
    {
     "data": {
      "application/vnd.jupyter.widget-view+json": {
       "model_id": "5afc209150e54908bfdcb8ea87a66de4",
       "version_major": 2,
       "version_minor": 0
      },
      "text/plain": [
       "Output()"
      ]
     },
     "metadata": {},
     "output_type": "display_data"
    },
    {
     "data": {
      "text/html": [
       "<pre style=\"white-space:pre;overflow-x:auto;line-height:normal;font-family:Menlo,'DejaVu Sans Mono',consolas,'Courier New',monospace\"><span style=\"color: #7fbfbf; text-decoration-color: #7fbfbf\">[04/27/22 13:01:03] </span><span style=\"color: #000080; text-decoration-color: #000080\">INFO    </span>  Image pushed successfully to <span style=\"color: #008080; text-decoration-color: #008080; font-weight: bold\">161853812624.</span>dkr.e <a href=\"file:///Users/ankitmishra/Work/mysuperai/superai-sdk-private/superai/meta_ai/dockerizer/__init__.py\"><span style=\"color: #7f7f7f; text-decoration-color: #7f7f7f\">__init__.py</span></a><span style=\"color: #7f7f7f; text-decoration-color: #7f7f7f\">:297</span>\n",
       "                             cr.us-east-<span style=\"color: #008080; text-decoration-color: #008080; font-weight: bold\">1.</span>amazonaws.com/models/dev/<span style=\"color: #ffff00; text-decoration-color: #ffff00\">5d03ae31-5</span>                \n",
       "                             <span style=\"color: #ffff00; text-decoration-color: #ffff00\">b69-4cc1-818b-ec20ae55b8b7</span>/intel_image_classific                \n",
       "                             ation:<span style=\"color: #008080; text-decoration-color: #008080; font-weight: bold\">1</span>  - MainThread                                           \n",
       "</pre>\n"
      ],
      "text/plain": [
       "\u001B[2;36m[04/27/22 13:01:03]\u001B[0m\u001B[2;36m \u001B[0m\u001B[34mINFO    \u001B[0m  Image pushed successfully to \u001B[1;36m161853812624.\u001B[0mdkr.e \u001B]8;id=1651057263.181536-286195;file:///Users/ankitmishra/Work/mysuperai/superai-sdk-private/superai/meta_ai/dockerizer/__init__.py\u001B\\\u001B[2m__init__.py\u001B[0m\u001B]8;;\u001B\\\u001B[2m:297\u001B[0m\n",
       "                             cr.us-east-\u001B[1;36m1.\u001B[0mamazonaws.com/models/dev/\u001B[93m5d03ae31-5\u001B[0m                \n",
       "                             \u001B[93mb69-4cc1-818b-ec20ae55b8b7\u001B[0m/intel_image_classific                \n",
       "                             ation:\u001B[1;36m1\u001B[0m  - MainThread                                           \n"
      ]
     },
     "metadata": {},
     "output_type": "display_data"
    },
    {
     "data": {
      "text/html": [
       "<pre style=\"white-space:pre;overflow-x:auto;line-height:normal;font-family:Menlo,'DejaVu Sans Mono',consolas,'Courier New',monospace\"><span style=\"color: #7fbfbf; text-decoration-color: #7fbfbf\">[04/27/22 13:01:10] </span><span style=\"color: #000080; text-decoration-color: #000080\">INFO    </span> Creating new training run based on exising          <a href=\"file:///Users/ankitmishra/Work/mysuperai/superai-sdk-private/superai/apis/meta_ai/model.py\"><span style=\"color: #7f7f7f; text-decoration-color: #7f7f7f\">model.py</span></a><span style=\"color: #7f7f7f; text-decoration-color: #7f7f7f\">:915</span>\n",
       "                             template: meta_ai_training_template<span style=\"font-weight: bold\">(</span><span style=\"color: #808000; text-decoration-color: #808000\">id</span>=<span style=\"color: #ffff00; text-decoration-color: #ffff00\">9873734f</span><span style=\"color: #ffff00; text-decoration-color: #ffff00\">-53f</span>             \n",
       "                             <span style=\"color: #ffff00; text-decoration-color: #ffff00\">9-4a4c-a5cd-de45bfa472b1</span>, <span style=\"color: #808000; text-decoration-color: #808000\">properties</span>=<span style=\"font-weight: bold\">{}</span>,                        \n",
       "                             <span style=\"color: #808000; text-decoration-color: #808000\">created_at</span>=<span style=\"color: #008080; text-decoration-color: #008080; font-weight: bold\">2022</span>-<span style=\"color: #008080; text-decoration-color: #008080; font-weight: bold\">04</span>-21T<span style=\"color: #00ff00; text-decoration-color: #00ff00; font-weight: bold\">14:53:13</span>.<span style=\"color: #008080; text-decoration-color: #008080; font-weight: bold\">513495</span>+<span style=\"color: #00ff00; text-decoration-color: #00ff00; font-weight: bold\">00:00</span>,                    \n",
       "                             <span style=\"color: #808000; text-decoration-color: #808000\">description</span>=<span style=\"color: #800080; text-decoration-color: #800080; font-style: italic\">None</span><span style=\"font-weight: bold\">)</span> - MainThread                                  \n",
       "</pre>\n"
      ],
      "text/plain": [
       "\u001B[2;36m[04/27/22 13:01:10]\u001B[0m\u001B[2;36m \u001B[0m\u001B[34mINFO    \u001B[0m Creating new training run based on exising          \u001B]8;id=1651057270.757547-940285;file:///Users/ankitmishra/Work/mysuperai/superai-sdk-private/superai/apis/meta_ai/model.py\u001B\\\u001B[2mmodel.py\u001B[0m\u001B]8;;\u001B\\\u001B[2m:915\u001B[0m\n",
       "                             template: meta_ai_training_template\u001B[1m(\u001B[0m\u001B[33mid\u001B[0m=\u001B[93m9873734f\u001B[0m\u001B[93m-53f\u001B[0m             \n",
       "                             \u001B[93m9-4a4c-a5cd-de45bfa472b1\u001B[0m, \u001B[33mproperties\u001B[0m=\u001B[1m{\u001B[0m\u001B[1m}\u001B[0m,                        \n",
       "                             \u001B[33mcreated_at\u001B[0m=\u001B[1;36m2022\u001B[0m-\u001B[1;36m04\u001B[0m-21T\u001B[1;92m14:53:13\u001B[0m.\u001B[1;36m513495\u001B[0m+\u001B[1;92m00:00\u001B[0m,                    \n",
       "                             \u001B[33mdescription\u001B[0m=\u001B[3;35mNone\u001B[0m\u001B[1m)\u001B[0m - MainThread                                  \n"
      ]
     },
     "metadata": {},
     "output_type": "display_data"
    },
    {
     "data": {
      "text/html": [
       "<pre style=\"white-space:pre;overflow-x:auto;line-height:normal;font-family:Menlo,'DejaVu Sans Mono',consolas,'Courier New',monospace\"><span style=\"color: #7fbfbf; text-decoration-color: #7fbfbf\">[04/27/22 13:01:11] </span><span style=\"color: #000080; text-decoration-color: #000080\">INFO    </span> Created training instance <span style=\"font-weight: bold\">{</span><span style=\"color: #008000; text-decoration-color: #008000\">'data'</span>:                  <a href=\"file:///Users/ankitmishra/Work/mysuperai/superai-sdk-private/superai/apis/meta_ai/model.py\"><span style=\"color: #7f7f7f; text-decoration-color: #7f7f7f\">model.py</span></a><span style=\"color: #7f7f7f; text-decoration-color: #7f7f7f\">:931</span>\n",
       "                             <span style=\"font-weight: bold\">{</span><span style=\"color: #008000; text-decoration-color: #008000\">'insert_meta_ai_training_instance_one'</span>: <span style=\"font-weight: bold\">{</span><span style=\"color: #008000; text-decoration-color: #008000\">'id'</span>:                 \n",
       "                             <span style=\"color: #008000; text-decoration-color: #008000\">'3670d6db-7b3a-4d6e-a6e5-9307d9bf30fa'</span><span style=\"font-weight: bold\">}}}</span> -                     \n",
       "                             MainThread                                                      \n",
       "</pre>\n"
      ],
      "text/plain": [
       "\u001B[2;36m[04/27/22 13:01:11]\u001B[0m\u001B[2;36m \u001B[0m\u001B[34mINFO    \u001B[0m Created training instance \u001B[1m{\u001B[0m\u001B[32m'data'\u001B[0m:                  \u001B]8;id=1651057271.389445-130006;file:///Users/ankitmishra/Work/mysuperai/superai-sdk-private/superai/apis/meta_ai/model.py\u001B\\\u001B[2mmodel.py\u001B[0m\u001B]8;;\u001B\\\u001B[2m:931\u001B[0m\n",
       "                             \u001B[1m{\u001B[0m\u001B[32m'insert_meta_ai_training_instance_one'\u001B[0m: \u001B[1m{\u001B[0m\u001B[32m'id'\u001B[0m:                 \n",
       "                             \u001B[32m'3670d6db-7b3a-4d6e-a6e5-9307d9bf30fa'\u001B[0m\u001B[1m}\u001B[0m\u001B[1m}\u001B[0m\u001B[1m}\u001B[0m -                     \n",
       "                             MainThread                                                      \n"
      ]
     },
     "metadata": {},
     "output_type": "display_data"
    },
    {
     "data": {
      "text/html": [
       "<pre style=\"white-space:pre;overflow-x:auto;line-height:normal;font-family:Menlo,'DejaVu Sans Mono',consolas,'Courier New',monospace\"><span style=\"color: #7fbfbf; text-decoration-color: #7fbfbf\">                    </span><span style=\"color: #000080; text-decoration-color: #000080\">INFO    </span> Create training instance :                            <a href=\"file:///Users/ankitmishra/Work/mysuperai/superai-sdk-private/superai/meta_ai/ai.py\"><span style=\"color: #7f7f7f; text-decoration-color: #7f7f7f\">ai.py</span></a><span style=\"color: #7f7f7f; text-decoration-color: #7f7f7f\">:1544</span>\n",
       "                             <span style=\"color: #ffff00; text-decoration-color: #ffff00\">3670d6db-7b3a-4d6e-a6e5-9307d9bf30fa</span> - MainThread               \n",
       "</pre>\n"
      ],
      "text/plain": [
       "\u001B[2;36m                   \u001B[0m\u001B[2;36m \u001B[0m\u001B[34mINFO    \u001B[0m Create training instance :                            \u001B]8;id=1651057271.3927429-199153;file:///Users/ankitmishra/Work/mysuperai/superai-sdk-private/superai/meta_ai/ai.py\u001B\\\u001B[2mai.py\u001B[0m\u001B]8;;\u001B\\\u001B[2m:1544\u001B[0m\n",
       "                             \u001B[93m3670d6db-7b3a-4d6e-a6e5-9307d9bf30fa\u001B[0m - MainThread               \n"
      ]
     },
     "metadata": {},
     "output_type": "display_data"
    }
   ],
   "source": [
    "ai.training_deploy(\n",
    "    orchestrator=TrainingOrchestrator.AWS_EKS,\n",
    "    training_parameters=TrainingParameters(\n",
    "        model_save_path=f\"{TrainingParameters.output_folder_template}/output-model\", \n",
    "        training_data=\"test/intel-image.zip\",\n",
    "        hyperparameters=HyperParameterSpec(\n",
    "            trainable=True,\n",
    "            batch_size=128,\n",
    "            validation_split=0.2,\n",
    "            epochs=10\n",
    "        ),\n",
    "        model_parameter=ModelParameters(\n",
    "            conv1_size=32,\n",
    "            conv2_size=32,\n",
    "            dense_size=128\n",
    "        ),\n",
    "    ),\n",
    "    enable_cuda=True,\n",
    ")"
   ]
  },
  {
   "cell_type": "code",
   "execution_count": null,
   "metadata": {
    "pycharm": {
     "name": "#%%\n"
    }
   },
   "outputs": [],
   "source": []
  }
 ],
 "metadata": {
  "kernelspec": {
   "display_name": "Python 3",
   "language": "python",
   "name": "python3"
  },
  "language_info": {
   "codemirror_mode": {
    "name": "ipython",
    "version": 3
   },
   "file_extension": ".py",
   "mimetype": "text/x-python",
   "name": "python",
   "nbconvert_exporter": "python",
   "pygments_lexer": "ipython3",
   "version": "3.7.9"
  }
 },
 "nbformat": 4,
 "nbformat_minor": 1
}