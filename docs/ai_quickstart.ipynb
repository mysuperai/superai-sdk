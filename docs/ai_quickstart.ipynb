{
 "cells": [
  {
   "cell_type": "markdown",
   "id": "dac89e4b",
   "metadata": {},
   "source": [
    "# Quickstart Guide for SuperAI \n",
    "\n",
    "\n"
   ]
  },
  {
   "cell_type": "markdown",
   "id": "81f8b19f",
   "metadata": {},
   "source": [
    "## Setting Up the Environment\n"
   ]
  },
  {
   "cell_type": "markdown",
   "id": "b257bc71",
   "metadata": {},
   "source": [
    "- SuperAI SDK (`pip install superai`)\n",
    "-   You need to have valid AWS credentials in your environment.\n",
    "- Make sure the `eu-central-1` AWS_REGION is set (`export AWS_DEFAULT_REGION=eu-central-1`)\n",
    "-   You need to login to the SDK using\n",
    "    `superai login -u <your-email-adress>`.\n",
    "- If you run this file inside a jupyter-notebook process with AWS SSO, you should run it with credentials present. \n",
    "    E.g. `aws-vault exec {YOUR_PROFILE} -- jupyter-notebook ai_quickstart.ipynb`\n",
    "- Optional: `! pip install ipywidgets`"
   ]
  },
  {
   "cell_type": "code",
   "execution_count": null,
   "id": "4a5bb993",
   "metadata": {},
   "outputs": [],
   "source": [
    "# Install widgets for progress bars/live updates\n",
    "! pip install ipywidgets"
   ]
  },
  {
   "cell_type": "markdown",
   "id": "215dfffa",
   "metadata": {},
   "source": [
    "### Model Class\n",
    "First, its necessary to define the actual Python model.\n",
    "\n",
    "To work with our platform, the model class needs to\n",
    "be derived from `superai.meta_ai.BaseAI`.\n",
    "\n",
    "Check out `./examples/ai/my_ai_project` for a minimal example."
   ]
  },
  {
   "cell_type": "code",
   "execution_count": null,
   "id": "cafe1a6d",
   "metadata": {},
   "outputs": [],
   "source": [
    "from pathlib import Path\n",
    "\n",
    "PROJECT = Path(\"./examples/ai/my_ai_project\")"
   ]
  },
  {
   "cell_type": "code",
   "execution_count": null,
   "id": "5cceee3b",
   "metadata": {},
   "outputs": [],
   "source": [
    "!ls {PROJECT}"
   ]
  },
  {
   "cell_type": "code",
   "execution_count": null,
   "id": "40ac91a7",
   "metadata": {},
   "outputs": [],
   "source": [
    "!cat {PROJECT}/\"code\"/MyAI.py"
   ]
  },
  {
   "cell_type": "markdown",
   "id": "b276a7c8",
   "metadata": {},
   "source": [
    "## Creating an AI object\n",
    "\n",
    "An AI object is the main entity for working with SuperAI SDK. Its main\n",
    "purpose is to store and manage the model source code, schema, and weights, and to\n",
    "provide methods for building, deploying, and training the model.\n",
    "\n",
    "To create an AI object, you'll need to specify the model class and the\n",
    "path to the model. Here is an example:"
   ]
  },
  {
   "cell_type": "code",
   "execution_count": null,
   "id": "586aa254",
   "metadata": {
    "ExecuteTime": {
     "end_time": "2023-05-12T11:15:19.843946Z",
     "start_time": "2023-05-12T11:15:19.842342Z"
    }
   },
   "outputs": [],
   "source": [
    "from superai.meta_ai.ai import AI\n",
    "\n",
    "ai = AI(\n",
    "    name=\"my-ai\",\n",
    "    model_class=\"MyAI\",\n",
    "    model_class_path=PROJECT/\"code\",\n",
    "    weights_path=PROJECT/\"weights\",\n",
    ")\n"
   ]
  },
  {
   "cell_type": "markdown",
   "id": "7061a41c",
   "metadata": {},
   "source": [
    "The `ai` object is already useful for predicting locally for debugging."
   ]
  },
  {
   "cell_type": "code",
   "execution_count": null,
   "id": "79ab9b92",
   "metadata": {},
   "outputs": [],
   "source": [
    "ai.predict(inputs={\"values\":\"231231233\"})"
   ]
  },
  {
   "cell_type": "markdown",
   "id": "dd811a98",
   "metadata": {},
   "source": [
    "## Saving an AI Object to the Backend\n",
    "To actually publish the AI for use in our platform you need to save the object to the database.\n",
    "You can save it to the backend using the\n",
    "`save` method.\n",
    "Note that the name and version of the AI is unique for each user. Save will raise an exception if the AI already exists. In that case you can use `overwrite`."
   ]
  },
  {
   "cell_type": "code",
   "execution_count": null,
   "id": "5f4c7dd5",
   "metadata": {},
   "outputs": [],
   "source": [
    "ai.save(overwrite=True) # Overwrite will allow you reusing the same name for subsequent calls"
   ]
  },
  {
   "cell_type": "markdown",
   "id": "2c2e5158",
   "metadata": {},
   "source": [
    "This will save the model to the backend and return the registered uuid.\n",
    "In general, the AI object is responsible for storing the model source\n",
    "code, a corresponding docker image for execution and default weights."
   ]
  },
  {
   "cell_type": "markdown",
   "id": "a0a41cf6",
   "metadata": {},
   "source": [
    "## Building the Model\n",
    "\n",
    "Bulding a model means creating a docker image for the model. First it downloads a base image with some pre-packaged dependencies and then installs the model dependencies on top of it.\n",
    "\n",
    "\n",
    "Issues:\n",
    "- s2i not installed: You will see `ModuleNotFoundError: s2i is not installed`. Please install the package using 'brew install source-to-image' or read installation instructions at https://github.com/openshift/source-to-image#installation. You can install it using brew install source-to-image\n",
    "- s2i image not found: You will see an error like this: Error: image docker.io/s2i-python36 not found. You can fix this by first running `aws ecr get-login-password --region us-east-1 | docker login --username AWS --password-stdin 185169359328.dkr.ecr.us-east-1.amazonaws.com`and then running `docker pull 185169359328.dkr.ecr.us-east-1.amazonaws.com/superai-model-s2i-python310-cpu-internal-seldon:1`\n",
    "- pulling image error: You will see and error like `pulling image error : Error response from   system_command.py:25 daemon: pull`. You can fix it by tagging the image `docker tag 185169359328.dkr.ecr.us-east-1.amazonaws.com/superai-model-s2i-python310-cpu-internal-seldon:1 superai-model-s2i-python310-cpu-internal-seldon:1`\n",
    "\n",
    "You can build the model using the `build` method.\n",
    "Building packages up your model (and its requirements) in a local docker image."
   ]
  },
  {
   "cell_type": "code",
   "execution_count": null,
   "id": "235e717e",
   "metadata": {},
   "outputs": [],
   "source": [
    "ai.build()"
   ]
  },
  {
   "cell_type": "markdown",
   "id": "6daab44c",
   "metadata": {},
   "source": [
    "## Pushing the Model to the Backend\n",
    "\n",
    "You can push the AI docker image to the backend using the `push_image` method:"
   ]
  },
  {
   "cell_type": "code",
   "execution_count": null,
   "id": "a315dc6b",
   "metadata": {},
   "outputs": [],
   "source": [
    "ai.push_image()"
   ]
  },
  {
   "cell_type": "markdown",
   "id": "b23da23a",
   "metadata": {},
   "source": [
    "## Creating an AI Instance\n",
    "\n",
    "An AI itself is just a template for local development and for deriving\n",
    "actual AI instances. AI instances are the main actors in the system.\n",
    "They are the ones that are deployed, trained, and used for predictions.\n",
    "AI instances are bound to a specific user ( #TODO and Organisations).\n",
    "\n",
    "You can create an instance of your AI object using the `create_instance`\n",
    "method:"
   ]
  },
  {
   "cell_type": "code",
   "execution_count": null,
   "id": "cf1a9225",
   "metadata": {},
   "outputs": [],
   "source": [
    "ai_instance = ai.create_instance()"
   ]
  },
  {
   "cell_type": "markdown",
   "id": "90d388f5",
   "metadata": {},
   "source": [
    "# AI instances\n",
    "\n",
    "## Deploying the Instance\n",
    "\n",
    "You can deploy the instance using the `deploy` method:"
   ]
  },
  {
   "cell_type": "code",
   "execution_count": null,
   "id": "94f801cb",
   "metadata": {},
   "outputs": [],
   "source": [
    "ai_instance.deploy(wait_time_seconds=30, redeploy=True) # Redeploy will automatically update existing deployments"
   ]
  },
  {
   "cell_type": "markdown",
   "id": "389dd4d5",
   "metadata": {},
   "source": [
    "In the backend, this will create a Deployment object, which is the\n",
    "actual entity that is deployed to the cloud and used for predictions. By\n",
    "default, deployments will automatically start and scale up when needed,\n",
    "but it can also be configured to be online permanently. Note that each\n",
    "ai instance has its own deployment, since each instance can have\n",
    "different weights and configurations.\n",
    "\n",
    "## Predicting with the AI Instance\n",
    "\n",
    "You can make predictions with your AI instance using the `predict`\n",
    "method:"
   ]
  },
  {
   "cell_type": "code",
   "execution_count": null,
   "id": "fccb7612",
   "metadata": {},
   "outputs": [],
   "source": [
    "output = ai_instance.predict(input_data={\"a\":1}, wait_time_seconds=180)[0]"
   ]
  },
  {
   "cell_type": "code",
   "execution_count": null,
   "id": "9bdf292f",
   "metadata": {},
   "outputs": [],
   "source": [
    "print(output.prediction.__root__)\n",
    "print(output.score)"
   ]
  },
  {
   "cell_type": "markdown",
   "id": "f149faf6",
   "metadata": {},
   "source": [
    "This will return the prediction response. This operation can take some\n",
    "time, since the deployment might need to be scaled up first. It can happen that it takes a few minutes (then you can increase the wait time)."
   ]
  },
  {
   "cell_type": "markdown",
   "id": "239d8e94",
   "metadata": {},
   "source": [
    "# AI Checkpoints\n",
    "\n",
    "Checkpoints are the objects representing weights for an AI.\n",
    "\n",
    "If an AI instance is deployed we take the source code ( docker image) from the AI and combine it with the latest checkpoint chosen in the AI instance.\n"
   ]
  },
  {
   "cell_type": "code",
   "execution_count": null,
   "id": "07a6e28a",
   "metadata": {},
   "outputs": [],
   "source": [
    "current_checkpoint = ai_instance.get_checkpoint()\n",
    "print(current_checkpoint)"
   ]
  },
  {
   "cell_type": "markdown",
   "id": "b41493b9",
   "metadata": {},
   "source": [
    "A checkpoint can have a Tag (e.g. LATEST, STABLE, EXPERIMANTAL):"
   ]
  },
  {
   "cell_type": "code",
   "execution_count": null,
   "id": "036b1350",
   "metadata": {},
   "outputs": [],
   "source": [
    "current_checkpoint.tag"
   ]
  },
  {
   "cell_type": "markdown",
   "id": "c53e2c44",
   "metadata": {},
   "source": [
    "By default, the ai instance will always use the LATEST checkpoint.\n",
    "When we train, a new Checkpoint will be created and it automatically gets the LATEST tag again."
   ]
  },
  {
   "cell_type": "code",
   "execution_count": null,
   "id": "46bd734a",
   "metadata": {},
   "outputs": [],
   "source": [
    "current_checkpoint.change_tag(\"STABLE\")"
   ]
  },
  {
   "cell_type": "code",
   "execution_count": null,
   "id": "f10984f2",
   "metadata": {},
   "outputs": [],
   "source": [
    "current_checkpoint.tag"
   ]
  },
  {
   "cell_type": "code",
   "execution_count": null,
   "id": "295ad590",
   "metadata": {},
   "outputs": [],
   "source": [
    "ai_instance.update(checkpoint_tag=\"STABLE\")"
   ]
  },
  {
   "cell_type": "markdown",
   "id": "64674518",
   "metadata": {},
   "source": [
    "## Training the AI Instance\n",
    "Training an AI instance will create a new Checkpoint.\n",
    "You can train an AI instance on an your local data or an app using the\n",
    "`train_remote` method:"
   ]
  },
  {
   "cell_type": "code",
   "execution_count": null,
   "id": "b5185890",
   "metadata": {},
   "outputs": [],
   "source": [
    "training_instance = ai_instance.train_remote(local_path=\"<path-to-data>\")"
   ]
  },
  {
   "cell_type": "markdown",
   "id": "d1e580b4",
   "metadata": {},
   "source": [
    "Replace `<path-to-data>` with the path to your training data.\n",
    "\n",
    "or"
   ]
  },
  {
   "cell_type": "code",
   "execution_count": null,
   "id": "16b363b6",
   "metadata": {},
   "outputs": [],
   "source": [
    "training_instance = ai_instance.train_remote(app_id=\"<app-id>\")"
   ]
  },
  {
   "cell_type": "markdown",
   "id": "217ca337",
   "metadata": {},
   "source": [
    "Each training will create a new training instance object, which can be\n",
    "used to monitor the training progress and results.\n",
    "\n",
    "If the training completes, it will create a new checkpoint with the LATEST tag."
   ]
  },
  {
   "cell_type": "markdown",
   "id": "c0b2ee84",
   "metadata": {},
   "source": [
    "## Undeploying the Instance\n",
    "\n",
    "Finally, when you're finished with the instance, you can undeploy it\n",
    "using the `undeploy` method:"
   ]
  },
  {
   "cell_type": "code",
   "execution_count": null,
   "id": "70bc7807",
   "metadata": {},
   "outputs": [],
   "source": [
    "ai_instance.undeploy()"
   ]
  },
  {
   "cell_type": "markdown",
   "id": "25e56dd5",
   "metadata": {},
   "source": [
    "By default, this is a non-blocking operation, meaning that the\n",
    "deployment will be undeployed in the background. You can also wait for\n",
    "the undeployment to finish by setting the `wait_seconds` parameter to\n",
    "your desired timeout in seconds"
   ]
  },
  {
   "cell_type": "code",
   "execution_count": null,
   "id": "e9955622",
   "metadata": {},
   "outputs": [],
   "source": [
    "ai_instance.undeploy(wait_time_seconds=120)"
   ]
  }
 ],
 "metadata": {
  "kernelspec": {
   "display_name": "Python 3",
   "language": "python",
   "name": "python3"
  },
  "language_info": {
   "codemirror_mode": {
    "name": "ipython",
    "version": 3
   },
   "file_extension": ".py",
   "mimetype": "text/x-python",
   "name": "python",
   "nbconvert_exporter": "python",
   "pygments_lexer": "ipython3",
   "version": "3.9.16"
  }
 },
 "nbformat": 4,
 "nbformat_minor": 5
}
